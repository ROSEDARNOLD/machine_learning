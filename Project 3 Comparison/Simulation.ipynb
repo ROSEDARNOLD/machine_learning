{
 "cells": [
  {
   "cell_type": "code",
   "execution_count": null,
   "metadata": {
    "collapsed": true
   },
   "outputs": [],
   "source": [
    "import numpy as np\n",
    "import pandas as pd\n",
    "from sklearn.linear_model import LogisticRegression\n",
    "from sklearn.model_selection import KFold\n",
    "from sklearn.metrics import log_loss"
   ]
  },
  {
   "cell_type": "code",
   "execution_count": null,
   "metadata": {
    "collapsed": true
   },
   "outputs": [],
   "source": [
    "%matplotlib inline\n",
    "import matplotlib.pyplot as plt"
   ]
  },
  {
   "cell_type": "code",
   "execution_count": null,
   "metadata": {
    "collapsed": true
   },
   "outputs": [],
   "source": [
    "cable = pd.read_csv('./Data/training.csv', na_values=(-999, 6)) # value = 6 corresponds to refusal to answer, 6 nowhere else in data"
   ]
  },
  {
   "cell_type": "code",
   "execution_count": null,
   "metadata": {
    "collapsed": true
   },
   "outputs": [],
   "source": [
    "def CleanCableData(df):\n",
    "    \n",
    "    drop = ['YES', 'ID', 'age', 'class', 'tele_have']\n",
    "    df['value'] = [(i - 3) for i in df['value']] # Normalize (-2 to +2)\n",
    "    df = df[[col for col in df.columns if col not in drop]]\n",
    "    df = df.dropna()\n",
    "    \n",
    "    return df"
   ]
  },
  {
   "cell_type": "code",
   "execution_count": null,
   "metadata": {
    "collapsed": true
   },
   "outputs": [],
   "source": [
    "cable = CleanCableData(cable)"
   ]
  },
  {
   "cell_type": "code",
   "execution_count": null,
   "metadata": {
    "collapsed": true
   },
   "outputs": [],
   "source": [
    "y = pd.DataFrame(cable['buy'])\n",
    "X = cable[[col for col in cable.columns if col != 'buy']]"
   ]
  },
  {
   "cell_type": "code",
   "execution_count": null,
   "metadata": {
    "collapsed": false
   },
   "outputs": [],
   "source": [
    "Model = LogisticRegression()\n",
    "Model.fit(X, y)"
   ]
  },
  {
   "cell_type": "code",
   "execution_count": null,
   "metadata": {
    "collapsed": true
   },
   "outputs": [],
   "source": [
    "def getSimulationRange(x, dx):\n",
    "    \n",
    "    # Accepts a series and a step: returns an ordered list ranging from the minimum to the maximum of the list\n",
    "    # in the series, seperated by steps\n",
    "    \n",
    "    min_x = min(x)\n",
    "    max_x = max(x)\n",
    "    \n",
    "    r = np.arange(min_x, max_x + dx, dx)\n",
    "    \n",
    "    return r"
   ]
  },
  {
   "cell_type": "code",
   "execution_count": null,
   "metadata": {
    "collapsed": true
   },
   "outputs": [],
   "source": [
    "def GenerateInputs(row, simulation):\n",
    "\n",
    "    X = [np.insert(row, 16, i) for i in simulation]\n",
    "    \n",
    "    return X"
   ]
  },
  {
   "cell_type": "code",
   "execution_count": null,
   "metadata": {
    "collapsed": true
   },
   "outputs": [],
   "source": [
    "simulation = ['price'] # variables we have strong priors about\n",
    "priors = np.array([]) # k x r?  this times a gradient should return a vector of booleans\n",
    "\n",
    "sims = X[[col for col in simulation]] # extract features we wish to simulate\n",
    "\n",
    "problem_space = X[[col for col in X.columns if col not in sims]] # all input vectors in sample\n",
    "problem_space = problem_space.drop_duplicates().reset_index(drop=True) # unique input vectors in sample"
   ]
  },
  {
   "cell_type": "code",
   "execution_count": null,
   "metadata": {
    "collapsed": false
   },
   "outputs": [],
   "source": [
    "dx = 0.1\n",
    "\n",
    "price_sim = getSimulationRange(sims['price'], dx)\n",
    "price_sim # Exhaustive range of prices for simulation"
   ]
  },
  {
   "cell_type": "code",
   "execution_count": null,
   "metadata": {
    "collapsed": false
   },
   "outputs": [],
   "source": [
    "# This needs some work and does not hold in the multivariate case\n",
    "\n",
    "for i, row in problem_space.iterrows():\n",
    "    \n",
    "    partials = []\n",
    "    row = np.array(row)\n",
    "    X_i = GenerateInputs(row, price_sim)\n",
    "    \n",
    "    y_i = np.array([p[1] for p in Model.predict_proba(X_i)])\n",
    "    dy_dp = [((item - y_i[i]) / dx) for i, item in enumerate(y_i[1:])]\n",
    "    \n",
    "    partials = partials.append(dy_dp)\n",
    "    #print(y_i)\n",
    "    \n",
    "    # f(y_i) = gradients\n",
    "    \n",
    "    # i maps back to neighborhoods in problem space\n",
    "    \n",
    "problem_space['dy/dp'] = dy_dp\n",
    "\n",
    "# maybe: [gradient_f(Model.predict_proba(M)) for M in itertools.product(?)]"
   ]
  },
  {
   "cell_type": "code",
   "execution_count": null,
   "metadata": {
    "collapsed": false
   },
   "outputs": [],
   "source": [
    "dy_dp = [((item - y_i[i]) / dx) for i, item in enumerate(y_i[1:])]"
   ]
  },
  {
   "cell_type": "code",
   "execution_count": null,
   "metadata": {
    "collapsed": false
   },
   "outputs": [],
   "source": [
    "X_i_df = pd.DataFrame(X_i, columns=X.columns)"
   ]
  }
 ],
 "metadata": {
  "kernelspec": {
   "display_name": "Python 3",
   "language": "python",
   "name": "python3"
  },
  "language_info": {
   "codemirror_mode": {
    "name": "ipython",
    "version": 3
   },
   "file_extension": ".py",
   "mimetype": "text/x-python",
   "name": "python",
   "nbconvert_exporter": "python",
   "pygments_lexer": "ipython3",
   "version": "3.5.4"
  }
 },
 "nbformat": 4,
 "nbformat_minor": 0
}
