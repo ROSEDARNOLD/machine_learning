{
 "cells": [
  {
   "cell_type": "markdown",
   "metadata": {},
   "source": [
    "# 'Applied' Exercise"
   ]
  },
  {
   "cell_type": "code",
   "execution_count": 1,
   "metadata": {
    "collapsed": false
   },
   "outputs": [],
   "source": [
    "import numpy as np\n",
    "import pandas as pd\n",
    "from sklearn.linear_model import LogisticRegression\n",
    "from sklearn.model_selection import KFold\n",
    "from sklearn.metrics import log_loss"
   ]
  },
  {
   "cell_type": "code",
   "execution_count": 2,
   "metadata": {
    "collapsed": true
   },
   "outputs": [],
   "source": [
    "%matplotlib inline\n",
    "import matplotlib.pyplot as plt"
   ]
  },
  {
   "cell_type": "code",
   "execution_count": null,
   "metadata": {
    "collapsed": false
   },
   "outputs": [],
   "source": [
    "cable = pd.read_csv('./Data/training.csv', na_values=(-999, 6)) # value = 6 corresponds to refusal to answer, 6 nowhere else in data"
   ]
  },
  {
   "cell_type": "markdown",
   "metadata": {},
   "source": [
    "# Adjust the Feature Set"
   ]
  },
  {
   "cell_type": "code",
   "execution_count": null,
   "metadata": {
    "collapsed": true
   },
   "outputs": [],
   "source": [
    "def CleanCableData(df):\n",
    "    \n",
    "    drop = ['YES', 'ID', 'age', 'class', 'tele_have', 'ab', 'c1', 'c2', 'd', 'de']\n",
    "    df['value'] = [(i - 3) for i in df['value']] # Normalize (-2 to +2)\n",
    "    df = df[[col for col in df.columns if col not in drop]]\n",
    "    df = df.dropna()\n",
    "    \n",
    "    return df"
   ]
  },
  {
   "cell_type": "code",
   "execution_count": null,
   "metadata": {
    "collapsed": false
   },
   "outputs": [],
   "source": [
    "cable = CleanCableData(cable)\n",
    "# cable['constant'] = [1 for i in range(len(cable))]"
   ]
  },
  {
   "cell_type": "code",
   "execution_count": null,
   "metadata": {
    "collapsed": false
   },
   "outputs": [],
   "source": [
    "y = pd.DataFrame(cable['buy'])\n",
    "X = cable[[col for col in cable.columns if col != 'buy']]"
   ]
  },
  {
   "cell_type": "markdown",
   "metadata": {},
   "source": [
    "# Model Estimation & Display"
   ]
  },
  {
   "cell_type": "code",
   "execution_count": null,
   "metadata": {
    "collapsed": false
   },
   "outputs": [],
   "source": [
    "Model = LogisticRegression()"
   ]
  },
  {
   "cell_type": "code",
   "execution_count": null,
   "metadata": {
    "collapsed": false
   },
   "outputs": [],
   "source": [
    "Model.fit(X, y)"
   ]
  },
  {
   "cell_type": "code",
   "execution_count": null,
   "metadata": {
    "collapsed": false
   },
   "outputs": [],
   "source": [
    "coefficients = {}\n",
    "\n",
    "for f in range(len(X.columns)):\n",
    "    \n",
    "    coefficients[X.columns[f]] = Model.coef_[0][f]"
   ]
  },
  {
   "cell_type": "code",
   "execution_count": null,
   "metadata": {
    "collapsed": false
   },
   "outputs": [],
   "source": [
    "#coefficients"
   ]
  },
  {
   "cell_type": "code",
   "execution_count": null,
   "metadata": {
    "collapsed": false
   },
   "outputs": [],
   "source": [
    "#sse = np.sum((Model.predict(X_arr) - y_arr) ** 2, axis=0) / float(X_arr.shape[0] - X_arr.shape[1])\n",
    "\n",
    "#sse = sse.reshape(sse.shape[0], 1)\n",
    "\n",
    "#se = np.diagonal(sse)"
   ]
  },
  {
   "cell_type": "code",
   "execution_count": null,
   "metadata": {
    "collapsed": false
   },
   "outputs": [],
   "source": [
    "coefficients = Model.coef_[0]"
   ]
  },
  {
   "cell_type": "code",
   "execution_count": null,
   "metadata": {
    "collapsed": false
   },
   "outputs": [],
   "source": [
    "var_cov_matrix = np.cov(X.T)\n",
    "\n",
    "se = np.sqrt(np.diag(var_cov_matrix))"
   ]
  },
  {
   "cell_type": "code",
   "execution_count": null,
   "metadata": {
    "collapsed": false
   },
   "outputs": [],
   "source": [
    "se"
   ]
  },
  {
   "cell_type": "code",
   "execution_count": null,
   "metadata": {
    "collapsed": true
   },
   "outputs": [],
   "source": [
    "def tstat(estimate, se): return estimate / se"
   ]
  },
  {
   "cell_type": "code",
   "execution_count": null,
   "metadata": {
    "collapsed": false
   },
   "outputs": [],
   "source": [
    "tstats = pd.Series(map(tstat, Model.coef_, se))[0]"
   ]
  },
  {
   "cell_type": "code",
   "execution_count": null,
   "metadata": {
    "collapsed": false
   },
   "outputs": [],
   "source": [
    "np.diag(var_cov_matrix)"
   ]
  },
  {
   "cell_type": "code",
   "execution_count": null,
   "metadata": {
    "collapsed": false
   },
   "outputs": [],
   "source": [
    "summary = pd.DataFrame({'Coefficients': coefficients, 'SE': se, 't-stat': tstats})"
   ]
  },
  {
   "cell_type": "code",
   "execution_count": null,
   "metadata": {
    "collapsed": false
   },
   "outputs": [],
   "source": [
    "summary.set_index(X.columns)"
   ]
  },
  {
   "cell_type": "code",
   "execution_count": null,
   "metadata": {
    "collapsed": false
   },
   "outputs": [],
   "source": [
    "# Simulating the model across the training set\n",
    "\n",
    "predictions = Model.predict_proba(X)\n",
    "predictions = [p[1] for p in predictions]\n",
    "\n",
    "#X['predictions'] = list(predictions)\n",
    "\n",
    "sum(predictions) / len(predictions), y.mean()[0] # predicted avg p, actual avg p for training set"
   ]
  },
  {
   "cell_type": "code",
   "execution_count": null,
   "metadata": {
    "collapsed": false,
    "scrolled": false
   },
   "outputs": [],
   "source": [
    "# Showing a plot of the predictions in no particular order -> observe higher denisty in the 'no buy' space\n",
    "\n",
    "fig = plt.figure(figsize=(40, 30))\n",
    "ax1 = fig.add_subplot(111)\n",
    "\n",
    "ax1.scatter(list(X.index), list(y[\"buy\"]))\n",
    "ax1.scatter(list(X.index), list(X['predictions']))\n",
    "\n",
    "plt.show()"
   ]
  },
  {
   "cell_type": "code",
   "execution_count": null,
   "metadata": {
    "collapsed": true
   },
   "outputs": [],
   "source": [
    "cable_holdout = pd.read_csv('./Data/holdout.csv', na_values=(-999, 6))"
   ]
  },
  {
   "cell_type": "code",
   "execution_count": null,
   "metadata": {
    "collapsed": false
   },
   "outputs": [],
   "source": [
    "cable_holdout = CleanCableData(cable_holdout)\n",
    "cable_holdout['constant'] = [1 for i in range(len(cable_holdout))]"
   ]
  },
  {
   "cell_type": "code",
   "execution_count": null,
   "metadata": {
    "collapsed": false
   },
   "outputs": [],
   "source": [
    "y_2 = pd.DataFrame(cable_holdout['buy'])\n",
    "X_2 = cable_holdout[[col for col in cable_holdout.columns if col != 'buy']]"
   ]
  },
  {
   "cell_type": "code",
   "execution_count": null,
   "metadata": {
    "collapsed": false
   },
   "outputs": [],
   "source": [
    "predictions_2 = [p[1] for p in Model.predict_proba(X_2)]\n",
    "\n",
    "sum(predictions_2) / len(predictions_2), y_2.mean()[0] # predicted avg p, actual avg p for holdout"
   ]
  },
  {
   "cell_type": "code",
   "execution_count": null,
   "metadata": {
    "collapsed": false
   },
   "outputs": [],
   "source": [
    "LLH = -log_loss(y, predictions)"
   ]
  },
  {
   "cell_type": "code",
   "execution_count": null,
   "metadata": {
    "collapsed": true
   },
   "outputs": [],
   "source": [
    "def log_likelihood(X, targets, coefs):\n",
    "    \n",
    "    scores = np.dot(X, coefs) # y hat\n",
    "    \n",
    "    ll = np.sum(targets*scores - np.log(1 + np.exp(scores)))\n",
    "    \n",
    "    return ll"
   ]
  },
  {
   "cell_type": "code",
   "execution_count": null,
   "metadata": {
    "collapsed": false
   },
   "outputs": [],
   "source": [
    "ll = log_likelihood(X, y, Model.coef_.T)"
   ]
  },
  {
   "cell_type": "code",
   "execution_count": null,
   "metadata": {
    "collapsed": false
   },
   "outputs": [],
   "source": [
    "LLH, ll"
   ]
  },
  {
   "cell_type": "code",
   "execution_count": null,
   "metadata": {
    "collapsed": false
   },
   "outputs": [],
   "source": [
    "X.shape, y.shape, Model.coef_.shape"
   ]
  },
  {
   "cell_type": "code",
   "execution_count": null,
   "metadata": {
    "collapsed": false
   },
   "outputs": [],
   "source": [
    "def log_likelihood(y, y_pred):\n",
    "    \n",
    "    running_likelihood = 0\n",
    "    for obs in range(len(y)):\n",
    "        \n",
    "        term_1 = y[obs]*np.log(y_pred[obs])\n",
    "        term_2 = (1-y[obs])*np.log(1-y_pred[obs])\n",
    "        running_likelihood = running_likelihood + term_1 + term_2\n",
    "        \n",
    "    return running_likelihood\n",
    "        "
   ]
  },
  {
   "cell_type": "code",
   "execution_count": null,
   "metadata": {
    "collapsed": false
   },
   "outputs": [],
   "source": [
    "y = list(y['buy'])"
   ]
  },
  {
   "cell_type": "code",
   "execution_count": null,
   "metadata": {
    "collapsed": false
   },
   "outputs": [],
   "source": [
    "log_likelihood(y, predictions)"
   ]
  },
  {
   "cell_type": "markdown",
   "metadata": {},
   "source": [
    "# Elasticity Simulation"
   ]
  },
  {
   "cell_type": "code",
   "execution_count": null,
   "metadata": {
    "collapsed": false
   },
   "outputs": [],
   "source": [
    "simulated_cable = cable.copy()\n",
    "\n",
    "y = simulated_cable['buy']\n",
    "X = simulated_cable[[col for col in simulated_cable.columns if col != 'buy']]"
   ]
  },
  {
   "cell_type": "code",
   "execution_count": null,
   "metadata": {
    "collapsed": false
   },
   "outputs": [],
   "source": [
    "desired_values = range(8, 16)\n",
    "desired_values"
   ]
  },
  {
   "cell_type": "code",
   "execution_count": null,
   "metadata": {
    "collapsed": false
   },
   "outputs": [],
   "source": [
    "MARKET_SIZE = 1000000\n",
    "outcomes = {}\n",
    "for n in desired_values:\n",
    "    \n",
    "    X['price'] = [n for itme in X['price']]\n",
    "    probas = [p[1] for p in Model.predict_proba(X)]\n",
    "    average_proba = sum(probas) / len(probas)\n",
    "    aggregate_demand = MARKET_SIZE * average_proba\n",
    "    \n",
    "    try:\n",
    "        \n",
    "        change_in_demand_as_percent = (aggregate_demand - last_value) / last_value\n",
    "        change_in_price_as_percent = (n - last_n) / last_n\n",
    "        elasticity = change_in_demand_as_percent / change_in_price_as_percent\n",
    "        \n",
    "    except(NameError):\n",
    "        \n",
    "        elasticity = 'n/a'\n",
    "    \n",
    "    last_n = n\n",
    "    last_value = aggregate_demand\n",
    "    \n",
    "    print('Price: ' + str(n) + ', aggregate demand: ' + str(aggregate_demand) + ', elasticity: ' + str(elasticity))  "
   ]
  },
  {
   "cell_type": "code",
   "execution_count": null,
   "metadata": {
    "collapsed": false
   },
   "outputs": [],
   "source": [
    "def DemandElasticity(D1, D2, P1, P2):\n",
    "    \n",
    "    return ((D2 - D1) / D1) / ((P2 - P1) / P1)"
   ]
  },
  {
   "cell_type": "code",
   "execution_count": null,
   "metadata": {
    "collapsed": false
   },
   "outputs": [],
   "source": [
    "DemandElasticity(353872, 338742, 8, 9)"
   ]
  },
  {
   "cell_type": "code",
   "execution_count": null,
   "metadata": {
    "collapsed": true
   },
   "outputs": [],
   "source": [
    "import itertools"
   ]
  },
  {
   "cell_type": "code",
   "execution_count": null,
   "metadata": {
    "collapsed": true
   },
   "outputs": [],
   "source": [
    "def getSimulationRange(x, dx):\n",
    "    \n",
    "    # Accepts a series and a step: returns an ordered list ranging from the minimum to the maximum of the list\n",
    "    # in the series, seperated by steps\n",
    "    \n",
    "    min_x = min(x)\n",
    "    max_x = max(x)\n",
    "    \n",
    "    r = np.arange(min_x, max_x + dx, dx)\n",
    "    \n",
    "    return r"
   ]
  },
  {
   "cell_type": "code",
   "execution_count": null,
   "metadata": {
    "collapsed": false
   },
   "outputs": [],
   "source": [
    "simulation = ['price'] # variables we have strong priors about\n",
    "priors = np.array([]) # k x r?  this times a gradient should return a vector of booleans\n",
    "\n",
    "sims = X[[col for col in simulation]] # extract features we wish to simulate\n",
    "\n",
    "problem_space = X[[col for col in X.columns if col not in sims]] # all input vectors in sample\n",
    "problem_space = problem_space.drop_duplicates().reset_index(drop=True) # unique input vectors in sample"
   ]
  },
  {
   "cell_type": "code",
   "execution_count": null,
   "metadata": {
    "collapsed": false
   },
   "outputs": [],
   "source": [
    "problem_space.iloc[0:1]"
   ]
  },
  {
   "cell_type": "code",
   "execution_count": null,
   "metadata": {
    "collapsed": false
   },
   "outputs": [],
   "source": [
    "for index, row in problem_space.iterrows():\n",
    "    \n",
    "    # cartesian product seems right\n",
    "    row = np.array(row)\n",
    "    m = itertools.product([row], sims['price'])\n",
    "    # Model.predict_proba(m)\n",
    "    tan = row\n",
    "    \n",
    "    break\n",
    "    \n",
    "# maybe: [gradient_f(Model.predict_proba(M)) for M in itertools.product(?)]"
   ]
  },
  {
   "cell_type": "code",
   "execution_count": null,
   "metadata": {
    "collapsed": false
   },
   "outputs": [],
   "source": [
    "price_sim = getSimulationRange(sims['price'], .1)\n",
    "price_sim"
   ]
  },
  {
   "cell_type": "code",
   "execution_count": null,
   "metadata": {
    "collapsed": true
   },
   "outputs": [],
   "source": [
    "ROWS = [r for r in problem_space.iterrows()]"
   ]
  },
  {
   "cell_type": "code",
   "execution_count": null,
   "metadata": {
    "collapsed": false
   },
   "outputs": [],
   "source": [
    "I = [i for i in itertools.product([ROWS[0][1]], [price_sim])]"
   ]
  },
  {
   "cell_type": "code",
   "execution_count": null,
   "metadata": {
    "collapsed": false
   },
   "outputs": [],
   "source": [
    "simmy = pd.DataFrame({'price': I[0][1]})\n",
    "pspace = problem_space.iloc[0:1]\n",
    "simmy['tmp'], pspace['tmp'] = 1, 1"
   ]
  },
  {
   "cell_type": "code",
   "execution_count": null,
   "metadata": {
    "collapsed": false
   },
   "outputs": [],
   "source": [
    "simmy.merge(pspace)"
   ]
  },
  {
   "cell_type": "code",
   "execution_count": null,
   "metadata": {
    "collapsed": false
   },
   "outputs": [],
   "source": [
    "it = itertools.product(itertools.product([1, 2, 3], ['a', 'b', 'c']), ['bingo', 'boingo'])"
   ]
  },
  {
   "cell_type": "code",
   "execution_count": null,
   "metadata": {
    "collapsed": false
   },
   "outputs": [],
   "source": [
    "Hey = [i for i in itertools.product(np.array([[5, 6]]), np.array([[1, 2]]))]"
   ]
  },
  {
   "cell_type": "code",
   "execution_count": null,
   "metadata": {
    "collapsed": false
   },
   "outputs": [],
   "source": [
    "def CartesianProduct(x, y):\n",
    "\n",
    "    product = np.array(np.meshgrid(m1, m2))\n",
    "    \n",
    "    return product"
   ]
  }
 ],
 "metadata": {
  "kernelspec": {
   "display_name": "Python 3",
   "language": "python",
   "name": "python3"
  },
  "language_info": {
   "codemirror_mode": {
    "name": "ipython",
    "version": 3
   },
   "file_extension": ".py",
   "mimetype": "text/x-python",
   "name": "python",
   "nbconvert_exporter": "python",
   "pygments_lexer": "ipython3",
   "version": "3.5.4"
  }
 },
 "nbformat": 4,
 "nbformat_minor": 0
}
