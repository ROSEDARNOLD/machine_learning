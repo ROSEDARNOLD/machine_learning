{
 "cells": [
  {
   "cell_type": "markdown",
   "metadata": {},
   "source": [
    "# 'Applied' Exercise"
   ]
  },
  {
   "cell_type": "code",
   "execution_count": 1,
   "metadata": {
    "collapsed": false
   },
   "outputs": [],
   "source": [
    "import numpy as np\n",
    "import pandas as pd\n",
    "from sklearn.linear_model import LogisticRegression\n",
    "from sklearn.model_selection import KFold\n",
    "from sklearn.metrics import log_loss"
   ]
  },
  {
   "cell_type": "code",
   "execution_count": 2,
   "metadata": {
    "collapsed": true
   },
   "outputs": [],
   "source": [
    "%matplotlib inline\n",
    "import matplotlib.pyplot as plt"
   ]
  },
  {
   "cell_type": "code",
   "execution_count": 3,
   "metadata": {
    "collapsed": false
   },
   "outputs": [],
   "source": [
    "cable = pd.read_csv('./Data/training.csv', na_values=(-999, 6)) # value = 6 corresponds to refusal to answer, 6 nowhere else in data"
   ]
  },
  {
   "cell_type": "markdown",
   "metadata": {},
   "source": [
    "# Adjust the Feature Set"
   ]
  },
  {
   "cell_type": "code",
   "execution_count": 4,
   "metadata": {
    "collapsed": true
   },
   "outputs": [],
   "source": [
    "def CleanCableData(df):\n",
    "    \n",
    "    # omitting irrelevant/redundant columns and singular dummies (age=1, class=poor(d and e))\n",
    "    \n",
    "    drop = ['YES', 'ID', 'age', 'class', 'tele_have', 'd', 'de'] \n",
    "    df['value'] = [(i - 3) for i in df['value']] # Normalize (-2 to +2)\n",
    "    df = df[[col for col in df.columns if col not in drop]]\n",
    "    df = df.dropna()\n",
    "    \n",
    "    return df"
   ]
  },
  {
   "cell_type": "code",
   "execution_count": 5,
   "metadata": {
    "collapsed": false
   },
   "outputs": [],
   "source": [
    "cable = CleanCableData(cable)"
   ]
  },
  {
   "cell_type": "code",
   "execution_count": 6,
   "metadata": {
    "collapsed": false
   },
   "outputs": [],
   "source": [
    "y = pd.DataFrame(cable['buy'])\n",
    "X = cable[[col for col in cable.columns if col != 'buy']]\n",
    "\n",
    "feature_names = X.columns\n",
    "X = np.array(X)"
   ]
  },
  {
   "cell_type": "code",
   "execution_count": 7,
   "metadata": {
    "collapsed": false
   },
   "outputs": [],
   "source": [
    "# add a constant column\n",
    "\n",
    "X_c = np.c_[np.ones(X.shape[0]), X]\n",
    "feature_names = feature_names.insert(0, 'constant')"
   ]
  },
  {
   "cell_type": "markdown",
   "metadata": {},
   "source": [
    "# Model Estimation & Display"
   ]
  },
  {
   "cell_type": "code",
   "execution_count": 8,
   "metadata": {
    "collapsed": false
   },
   "outputs": [],
   "source": [
    "# Extend the sklearn LogisticRegression class to return Standard Errors and T-statistics\n",
    "\n",
    "class ExtLogisticRegression(LogisticRegression):\n",
    "    \n",
    "    def __init__(self):\n",
    "        \n",
    "        LogisticRegression.__init__(self)\n",
    "            \n",
    "    def tstat(self, estimate, se): return estimate / se\n",
    "    \n",
    "    def getStats(self, X, feature_names): # passing X again after fit() is ugly, but unavoidable without serious class amendment.\n",
    "        \n",
    "        '''Courtesy of: \n",
    "        # https://stats.stackexchange.com/questions/89484/how-to-compute-the-standard-errors-of-a-logistic-regressions-coefficients\n",
    "        # The covariance matrix as given by: (X'VX)^-1\n",
    "\n",
    "        # X: (n x k), X': (k x n)\n",
    "        # V: (n x n)\n",
    "\n",
    "        # -> X'VX: (k x k)'''\n",
    "\n",
    "        n = len(X)\n",
    "        predictions = np.matrix(self.predict_proba(X))\n",
    "\n",
    "        # Initiate matrix of 0's, fill diagonal with each predicted observation's variance\n",
    "        V = np.matrix(np.zeros(shape = (n, n)))\n",
    "\n",
    "        p_no = predictions[:,0] # array of all p(no buy)\n",
    "        p_yes = (predictions[:,1]).A1 # flattened array of all p(buy)\n",
    "\n",
    "        np.fill_diagonal(V, np.multiply(p_no, p_yes)) # n X n \n",
    "\n",
    "        # Covariance matrix\n",
    "        cov = np.linalg.inv(X.T * V * X)\n",
    "\n",
    "        # Standard errors\n",
    "        se = np.sqrt(np.diag(cov))\n",
    "        \n",
    "        # Check with E-Views output -> ~ok\n",
    "        \n",
    "        tstats = pd.Series(map(self.tstat, self.coef_,se))[0]\n",
    "        \n",
    "        summary = pd.DataFrame({'Coefficients': list(self.coef_[0]), 'SE': list(se), 't-stat': list(tstats)})\n",
    "        summary = summary.set_index(feature_names)\n",
    "        \n",
    "        self.summary = summary"
   ]
  },
  {
   "cell_type": "code",
   "execution_count": 9,
   "metadata": {
    "collapsed": false
   },
   "outputs": [],
   "source": [
    "Model = ExtLogisticRegression()"
   ]
  },
  {
   "cell_type": "code",
   "execution_count": 10,
   "metadata": {
    "collapsed": false
   },
   "outputs": [
    {
     "name": "stderr",
     "output_type": "stream",
     "text": [
      "C:\\Users\\cjrdn_000\\Anaconda3\\lib\\site-packages\\sklearn\\utils\\validation.py:526: DataConversionWarning: A column-vector y was passed when a 1d array was expected. Please change the shape of y to (n_samples, ), for example using ravel().\n",
      "  y = column_or_1d(y, warn=True)\n"
     ]
    },
    {
     "data": {
      "text/plain": [
       "ExtLogisticRegression()"
      ]
     },
     "execution_count": 10,
     "metadata": {},
     "output_type": "execute_result"
    }
   ],
   "source": [
    "Model.fit(X_c, y)"
   ]
  },
  {
   "cell_type": "code",
   "execution_count": 11,
   "metadata": {
    "collapsed": false
   },
   "outputs": [],
   "source": [
    "Model.getStats(X_c, feature_names)"
   ]
  },
  {
   "cell_type": "code",
   "execution_count": 12,
   "metadata": {
    "collapsed": false
   },
   "outputs": [
    {
     "data": {
      "text/html": [
       "<div>\n",
       "<style scoped>\n",
       "    .dataframe tbody tr th:only-of-type {\n",
       "        vertical-align: middle;\n",
       "    }\n",
       "\n",
       "    .dataframe tbody tr th {\n",
       "        vertical-align: top;\n",
       "    }\n",
       "\n",
       "    .dataframe thead th {\n",
       "        text-align: right;\n",
       "    }\n",
       "</style>\n",
       "<table border=\"1\" class=\"dataframe\">\n",
       "  <thead>\n",
       "    <tr style=\"text-align: right;\">\n",
       "      <th></th>\n",
       "      <th>Coefficients</th>\n",
       "      <th>SE</th>\n",
       "      <th>p-value</th>\n",
       "    </tr>\n",
       "  </thead>\n",
       "  <tbody>\n",
       "    <tr>\n",
       "      <th>constant</th>\n",
       "      <td>0.357277</td>\n",
       "      <td>0.300927</td>\n",
       "      <td>0.0246</td>\n",
       "    </tr>\n",
       "    <tr>\n",
       "      <th>age2</th>\n",
       "      <td>0.271506</td>\n",
       "      <td>0.113775</td>\n",
       "      <td>0.0229</td>\n",
       "    </tr>\n",
       "    <tr>\n",
       "      <th>age3</th>\n",
       "      <td>0.335084</td>\n",
       "      <td>0.115239</td>\n",
       "      <td>0.0057</td>\n",
       "    </tr>\n",
       "    <tr>\n",
       "      <th>age4</th>\n",
       "      <td>0.342480</td>\n",
       "      <td>0.114885</td>\n",
       "      <td>0.0043</td>\n",
       "    </tr>\n",
       "    <tr>\n",
       "      <th>age5</th>\n",
       "      <td>0.005747</td>\n",
       "      <td>0.132889</td>\n",
       "      <td>0.9307</td>\n",
       "    </tr>\n",
       "    <tr>\n",
       "      <th>age6</th>\n",
       "      <td>0.006027</td>\n",
       "      <td>0.129059</td>\n",
       "      <td>0.9280</td>\n",
       "    </tr>\n",
       "    <tr>\n",
       "      <th>ab</th>\n",
       "      <td>-2.624517</td>\n",
       "      <td>0.114740</td>\n",
       "      <td>0.0000</td>\n",
       "    </tr>\n",
       "    <tr>\n",
       "      <th>c1</th>\n",
       "      <td>-2.195010</td>\n",
       "      <td>0.082904</td>\n",
       "      <td>0.0000</td>\n",
       "    </tr>\n",
       "    <tr>\n",
       "      <th>c2</th>\n",
       "      <td>-0.828344</td>\n",
       "      <td>0.057754</td>\n",
       "      <td>0.0000</td>\n",
       "    </tr>\n",
       "    <tr>\n",
       "      <th>children</th>\n",
       "      <td>0.276937</td>\n",
       "      <td>0.063324</td>\n",
       "      <td>0.0001</td>\n",
       "    </tr>\n",
       "    <tr>\n",
       "      <th>council</th>\n",
       "      <td>-0.259984</td>\n",
       "      <td>0.067515</td>\n",
       "      <td>0.0004</td>\n",
       "    </tr>\n",
       "    <tr>\n",
       "      <th>emp_ft</th>\n",
       "      <td>0.385142</td>\n",
       "      <td>0.063802</td>\n",
       "      <td>0.0000</td>\n",
       "    </tr>\n",
       "    <tr>\n",
       "      <th>emp_hwife</th>\n",
       "      <td>0.205446</td>\n",
       "      <td>0.070488</td>\n",
       "      <td>0.0084</td>\n",
       "    </tr>\n",
       "    <tr>\n",
       "      <th>no_dish</th>\n",
       "      <td>-0.052723</td>\n",
       "      <td>0.018113</td>\n",
       "      <td>0.0074</td>\n",
       "    </tr>\n",
       "    <tr>\n",
       "      <th>n_videos</th>\n",
       "      <td>0.283967</td>\n",
       "      <td>0.033824</td>\n",
       "      <td>0.0000</td>\n",
       "    </tr>\n",
       "    <tr>\n",
       "      <th>price</th>\n",
       "      <td>-0.081947</td>\n",
       "      <td>0.010138</td>\n",
       "      <td>0.0000</td>\n",
       "    </tr>\n",
       "    <tr>\n",
       "      <th>price_mc</th>\n",
       "      <td>-0.016759</td>\n",
       "      <td>0.020784</td>\n",
       "      <td>0.4265</td>\n",
       "    </tr>\n",
       "    <tr>\n",
       "      <th>prog_qual</th>\n",
       "      <td>0.055656</td>\n",
       "      <td>0.039374</td>\n",
       "      <td>0.2054</td>\n",
       "    </tr>\n",
       "    <tr>\n",
       "      <th>race</th>\n",
       "      <td>0.034209</td>\n",
       "      <td>0.023469</td>\n",
       "      <td>0.1913</td>\n",
       "    </tr>\n",
       "    <tr>\n",
       "      <th>rent</th>\n",
       "      <td>-0.228814</td>\n",
       "      <td>0.086332</td>\n",
       "      <td>0.0119</td>\n",
       "    </tr>\n",
       "    <tr>\n",
       "      <th>sat_have</th>\n",
       "      <td>0.570994</td>\n",
       "      <td>0.065642</td>\n",
       "      <td>0.0000</td>\n",
       "    </tr>\n",
       "    <tr>\n",
       "      <th>sex</th>\n",
       "      <td>0.133960</td>\n",
       "      <td>0.058382</td>\n",
       "      <td>0.0360</td>\n",
       "    </tr>\n",
       "    <tr>\n",
       "      <th>tv-satis</th>\n",
       "      <td>-0.121061</td>\n",
       "      <td>0.022532</td>\n",
       "      <td>0.0000</td>\n",
       "    </tr>\n",
       "    <tr>\n",
       "      <th>value</th>\n",
       "      <td>0.129149</td>\n",
       "      <td>0.031799</td>\n",
       "      <td>0.0002</td>\n",
       "    </tr>\n",
       "    <tr>\n",
       "      <th>vcr_have</th>\n",
       "      <td>0.239867</td>\n",
       "      <td>0.068685</td>\n",
       "      <td>0.0008</td>\n",
       "    </tr>\n",
       "    <tr>\n",
       "      <th>bbc1</th>\n",
       "      <td>0.112133</td>\n",
       "      <td>0.051936</td>\n",
       "      <td>0.0453</td>\n",
       "    </tr>\n",
       "    <tr>\n",
       "      <th>bbc2</th>\n",
       "      <td>0.203114</td>\n",
       "      <td>0.087210</td>\n",
       "      <td>0.0290</td>\n",
       "    </tr>\n",
       "    <tr>\n",
       "      <th>itv</th>\n",
       "      <td>-0.222381</td>\n",
       "      <td>0.053531</td>\n",
       "      <td>0.0001</td>\n",
       "    </tr>\n",
       "    <tr>\n",
       "      <th>ch4</th>\n",
       "      <td>-0.176778</td>\n",
       "      <td>0.081186</td>\n",
       "      <td>0.0371</td>\n",
       "    </tr>\n",
       "  </tbody>\n",
       "</table>\n",
       "</div>"
      ],
      "text/plain": [
       "           Coefficients        SE  p-value\n",
       "constant       0.357277  0.300927   0.0246\n",
       "age2           0.271506  0.113775   0.0229\n",
       "age3           0.335084  0.115239   0.0057\n",
       "age4           0.342480  0.114885   0.0043\n",
       "age5           0.005747  0.132889   0.9307\n",
       "age6           0.006027  0.129059   0.9280\n",
       "ab            -2.624517  0.114740   0.0000\n",
       "c1            -2.195010  0.082904   0.0000\n",
       "c2            -0.828344  0.057754   0.0000\n",
       "children       0.276937  0.063324   0.0001\n",
       "council       -0.259984  0.067515   0.0004\n",
       "emp_ft         0.385142  0.063802   0.0000\n",
       "emp_hwife      0.205446  0.070488   0.0084\n",
       "no_dish       -0.052723  0.018113   0.0074\n",
       "n_videos       0.283967  0.033824   0.0000\n",
       "price         -0.081947  0.010138   0.0000\n",
       "price_mc      -0.016759  0.020784   0.4265\n",
       "prog_qual      0.055656  0.039374   0.2054\n",
       "race           0.034209  0.023469   0.1913\n",
       "rent          -0.228814  0.086332   0.0119\n",
       "sat_have       0.570994  0.065642   0.0000\n",
       "sex            0.133960  0.058382   0.0360\n",
       "tv-satis      -0.121061  0.022532   0.0000\n",
       "value          0.129149  0.031799   0.0002\n",
       "vcr_have       0.239867  0.068685   0.0008\n",
       "bbc1           0.112133  0.051936   0.0453\n",
       "bbc2           0.203114  0.087210   0.0290\n",
       "itv           -0.222381  0.053531   0.0001\n",
       "ch4           -0.176778  0.081186   0.0371"
      ]
     },
     "execution_count": 12,
     "metadata": {},
     "output_type": "execute_result"
    }
   ],
   "source": [
    "# Please see  for an Eviews comparison; though there may exist some minute differences in\n",
    "# calculation (esp. for the constant term), we think our estimates are sufficiently to Eviews close to justify moving forward.\n",
    "\n",
    "# Eviews claims that, since normality conditions only holds asymptotically, a reported t-statistic is erroneous.\n",
    "# We were unable to find the Eviews derivation of a p-value in a reasonable amount of time; due to the similarity of coefficients\n",
    "# and SEs across the model elsewhere, we will just assume that the p-values derived from E-views apply here.  We can spend some\n",
    "# more time tracking down and copying Eviews method if it would be a valuable exercise.\n",
    "\n",
    "summary = Model.summary\n",
    "summary = summary.drop('t-stat', axis=1)\n",
    "\n",
    "eviews_output = pd.read_csv('./eviews_output.csv')\n",
    "summary['p-value'] = list(eviews_output['Prob\\xa0\\xa0']) # I have no idea...weird encoding issue\n",
    "\n",
    "summary"
   ]
  },
  {
   "cell_type": "markdown",
   "metadata": {},
   "source": [
    "# Applied-Like Process Improvement"
   ]
  },
  {
   "cell_type": "code",
   "execution_count": 13,
   "metadata": {
    "collapsed": true
   },
   "outputs": [],
   "source": [
    "# Quick notes:  As with the original Applied project, we don't have many sign priors outside of the obvious: \n",
    "\n",
    "    # negative sign on price\n",
    "    # negative sign on income measures (low-class stigma, inferior good - entertainment)\n",
    "    # negative sign on the price of compliments (price_mc)\n",
    "\n",
    "# Weaker cases can be made for other beliefs:\n",
    "\n",
    "    # negative sign on rent (lease agreement forbids installation)\n",
    "    # negative sign on consumption of disimliar programming (high-brow BBC channels)\n",
    "    # positive sign on consumption of similar programming (low-brow ITV & CH4)\n",
    "    \n",
    "# Elsewhere, cultural differences between the US and UK, as well as the existince of bi-directional multiple marginal effects\n",
    "# within the same variables (kids want tv more than adults, but parents don't want them to watch it) preclude strong\n",
    "# assumptions about the effect of other demographic information.\n",
    "\n",
    "# ***This should probably be done in order of prior violation magnitude, but we attempt all drops simultaneously for brevity***\n",
    "\n",
    "# A minor prior violation on the income measures of EMP_FT and EMP_HWIFE (redundant proxies for income?) suggests a drop of both\n",
    "\n",
    "# Since program quality is likely proxying an effect like value and it is statistically insignificant, we attempt a drop\n",
    "\n",
    "# Since we don't have strong priors about the importance of the stat. insignificant Race, we attempt a drop\n",
    "\n",
    "# price_mc is also insignificant, but we have good reasons from theory to leave it in (price of compliment, correctly signed)\n",
    "\n",
    "# sex will prove to be insignificant in later rounds of testing; also dropped here for brevity"
   ]
  },
  {
   "cell_type": "code",
   "execution_count": 14,
   "metadata": {
    "collapsed": true
   },
   "outputs": [],
   "source": [
    "# This should be a more general function than just CleanCable()...\n",
    "\n",
    "applied_drop = ['emp_ft', 'emp_hwife', 'prog_qual', 'race', 'sex'] "
   ]
  },
  {
   "cell_type": "code",
   "execution_count": 15,
   "metadata": {
    "collapsed": false
   },
   "outputs": [],
   "source": [
    "cable = cable[[col for col in cable.columns if col not in applied_drop]]"
   ]
  },
  {
   "cell_type": "code",
   "execution_count": 16,
   "metadata": {
    "collapsed": false
   },
   "outputs": [],
   "source": [
    "# This mess should all be abstracted out to functions\n",
    "\n",
    "y = pd.DataFrame(cable['buy'])\n",
    "X = cable[[col for col in cable.columns if col != 'buy']]\n",
    "\n",
    "feature_names = X.columns\n",
    "X = np.array(X)\n",
    "\n",
    "X_c = np.c_[np.ones(X.shape[0]), X]\n",
    "feature_names = feature_names.insert(0, 'constant')"
   ]
  },
  {
   "cell_type": "code",
   "execution_count": 17,
   "metadata": {
    "collapsed": false
   },
   "outputs": [
    {
     "name": "stderr",
     "output_type": "stream",
     "text": [
      "C:\\Users\\cjrdn_000\\Anaconda3\\lib\\site-packages\\sklearn\\utils\\validation.py:526: DataConversionWarning: A column-vector y was passed when a 1d array was expected. Please change the shape of y to (n_samples, ), for example using ravel().\n",
      "  y = column_or_1d(y, warn=True)\n"
     ]
    },
    {
     "data": {
      "text/plain": [
       "ExtLogisticRegression()"
      ]
     },
     "execution_count": 17,
     "metadata": {},
     "output_type": "execute_result"
    }
   ],
   "source": [
    "Model = ExtLogisticRegression()\n",
    "Model.fit(X_c, y)"
   ]
  },
  {
   "cell_type": "code",
   "execution_count": 18,
   "metadata": {
    "collapsed": false
   },
   "outputs": [],
   "source": [
    "Model.getStats(X_c, feature_names)"
   ]
  },
  {
   "cell_type": "code",
   "execution_count": 19,
   "metadata": {
    "collapsed": true
   },
   "outputs": [],
   "source": [
    "eviews_output = pd.read_csv('./eviews_output_final_model.csv')"
   ]
  },
  {
   "cell_type": "code",
   "execution_count": 20,
   "metadata": {
    "collapsed": false
   },
   "outputs": [
    {
     "data": {
      "text/html": [
       "<div>\n",
       "<style scoped>\n",
       "    .dataframe tbody tr th:only-of-type {\n",
       "        vertical-align: middle;\n",
       "    }\n",
       "\n",
       "    .dataframe tbody tr th {\n",
       "        vertical-align: top;\n",
       "    }\n",
       "\n",
       "    .dataframe thead th {\n",
       "        text-align: right;\n",
       "    }\n",
       "</style>\n",
       "<table border=\"1\" class=\"dataframe\">\n",
       "  <thead>\n",
       "    <tr style=\"text-align: right;\">\n",
       "      <th></th>\n",
       "      <th>Coefficients</th>\n",
       "      <th>SE</th>\n",
       "      <th>p-value</th>\n",
       "    </tr>\n",
       "  </thead>\n",
       "  <tbody>\n",
       "    <tr>\n",
       "      <th>constant</th>\n",
       "      <td>0.591121</td>\n",
       "      <td>0.271937</td>\n",
       "      <td>0.0001</td>\n",
       "    </tr>\n",
       "    <tr>\n",
       "      <th>age2</th>\n",
       "      <td>0.306919</td>\n",
       "      <td>0.112436</td>\n",
       "      <td>0.0109</td>\n",
       "    </tr>\n",
       "    <tr>\n",
       "      <th>age3</th>\n",
       "      <td>0.339983</td>\n",
       "      <td>0.114043</td>\n",
       "      <td>0.0054</td>\n",
       "    </tr>\n",
       "    <tr>\n",
       "      <th>age4</th>\n",
       "      <td>0.311357</td>\n",
       "      <td>0.113095</td>\n",
       "      <td>0.0100</td>\n",
       "    </tr>\n",
       "    <tr>\n",
       "      <th>age5</th>\n",
       "      <td>-0.124448</td>\n",
       "      <td>0.129280</td>\n",
       "      <td>0.3484</td>\n",
       "    </tr>\n",
       "    <tr>\n",
       "      <th>age6</th>\n",
       "      <td>-0.205551</td>\n",
       "      <td>0.122091</td>\n",
       "      <td>0.1037</td>\n",
       "    </tr>\n",
       "    <tr>\n",
       "      <th>ab</th>\n",
       "      <td>-2.576737</td>\n",
       "      <td>0.112713</td>\n",
       "      <td>0.0000</td>\n",
       "    </tr>\n",
       "    <tr>\n",
       "      <th>c1</th>\n",
       "      <td>-2.149678</td>\n",
       "      <td>0.081383</td>\n",
       "      <td>0.0000</td>\n",
       "    </tr>\n",
       "    <tr>\n",
       "      <th>c2</th>\n",
       "      <td>-0.802514</td>\n",
       "      <td>0.056590</td>\n",
       "      <td>0.0000</td>\n",
       "    </tr>\n",
       "    <tr>\n",
       "      <th>children</th>\n",
       "      <td>0.202889</td>\n",
       "      <td>0.060750</td>\n",
       "      <td>0.0029</td>\n",
       "    </tr>\n",
       "    <tr>\n",
       "      <th>council</th>\n",
       "      <td>-0.276881</td>\n",
       "      <td>0.066301</td>\n",
       "      <td>0.0001</td>\n",
       "    </tr>\n",
       "    <tr>\n",
       "      <th>no_dish</th>\n",
       "      <td>-0.057692</td>\n",
       "      <td>0.017632</td>\n",
       "      <td>0.0030</td>\n",
       "    </tr>\n",
       "    <tr>\n",
       "      <th>n_videos</th>\n",
       "      <td>0.292510</td>\n",
       "      <td>0.033282</td>\n",
       "      <td>0.0000</td>\n",
       "    </tr>\n",
       "    <tr>\n",
       "      <th>price</th>\n",
       "      <td>-0.080859</td>\n",
       "      <td>0.009953</td>\n",
       "      <td>0.0000</td>\n",
       "    </tr>\n",
       "    <tr>\n",
       "      <th>price_mc</th>\n",
       "      <td>-0.014912</td>\n",
       "      <td>0.020391</td>\n",
       "      <td>0.4462</td>\n",
       "    </tr>\n",
       "    <tr>\n",
       "      <th>rent</th>\n",
       "      <td>-0.263496</td>\n",
       "      <td>0.084998</td>\n",
       "      <td>0.0039</td>\n",
       "    </tr>\n",
       "    <tr>\n",
       "      <th>sat_have</th>\n",
       "      <td>0.575100</td>\n",
       "      <td>0.064625</td>\n",
       "      <td>0.0000</td>\n",
       "    </tr>\n",
       "    <tr>\n",
       "      <th>tv-satis</th>\n",
       "      <td>-0.115820</td>\n",
       "      <td>0.022141</td>\n",
       "      <td>0.0000</td>\n",
       "    </tr>\n",
       "    <tr>\n",
       "      <th>value</th>\n",
       "      <td>0.159680</td>\n",
       "      <td>0.028144</td>\n",
       "      <td>0.0000</td>\n",
       "    </tr>\n",
       "    <tr>\n",
       "      <th>vcr_have</th>\n",
       "      <td>0.214281</td>\n",
       "      <td>0.067132</td>\n",
       "      <td>0.0025</td>\n",
       "    </tr>\n",
       "    <tr>\n",
       "      <th>bbc1</th>\n",
       "      <td>0.109357</td>\n",
       "      <td>0.051332</td>\n",
       "      <td>0.0525</td>\n",
       "    </tr>\n",
       "    <tr>\n",
       "      <th>bbc2</th>\n",
       "      <td>0.167499</td>\n",
       "      <td>0.086040</td>\n",
       "      <td>0.0699</td>\n",
       "    </tr>\n",
       "    <tr>\n",
       "      <th>itv</th>\n",
       "      <td>-0.210572</td>\n",
       "      <td>0.051996</td>\n",
       "      <td>0.0002</td>\n",
       "    </tr>\n",
       "    <tr>\n",
       "      <th>ch4</th>\n",
       "      <td>-0.169773</td>\n",
       "      <td>0.079665</td>\n",
       "      <td>0.0430</td>\n",
       "    </tr>\n",
       "  </tbody>\n",
       "</table>\n",
       "</div>"
      ],
      "text/plain": [
       "          Coefficients        SE  p-value\n",
       "constant      0.591121  0.271937   0.0001\n",
       "age2          0.306919  0.112436   0.0109\n",
       "age3          0.339983  0.114043   0.0054\n",
       "age4          0.311357  0.113095   0.0100\n",
       "age5         -0.124448  0.129280   0.3484\n",
       "age6         -0.205551  0.122091   0.1037\n",
       "ab           -2.576737  0.112713   0.0000\n",
       "c1           -2.149678  0.081383   0.0000\n",
       "c2           -0.802514  0.056590   0.0000\n",
       "children      0.202889  0.060750   0.0029\n",
       "council      -0.276881  0.066301   0.0001\n",
       "no_dish      -0.057692  0.017632   0.0030\n",
       "n_videos      0.292510  0.033282   0.0000\n",
       "price        -0.080859  0.009953   0.0000\n",
       "price_mc     -0.014912  0.020391   0.4462\n",
       "rent         -0.263496  0.084998   0.0039\n",
       "sat_have      0.575100  0.064625   0.0000\n",
       "tv-satis     -0.115820  0.022141   0.0000\n",
       "value         0.159680  0.028144   0.0000\n",
       "vcr_have      0.214281  0.067132   0.0025\n",
       "bbc1          0.109357  0.051332   0.0525\n",
       "bbc2          0.167499  0.086040   0.0699\n",
       "itv          -0.210572  0.051996   0.0002\n",
       "ch4          -0.169773  0.079665   0.0430"
      ]
     },
     "execution_count": 20,
     "metadata": {},
     "output_type": "execute_result"
    }
   ],
   "source": [
    "summary = Model.summary\n",
    "summary = summary.drop('t-stat', axis=1)\n",
    "\n",
    "eviews_output = pd.read_csv('./eviews_output_final_model.csv')\n",
    "summary['p-value'] = list(eviews_output['Prob\\xa0\\xa0']) # weird encoding issue\n",
    "\n",
    "summary"
   ]
  },
  {
   "cell_type": "markdown",
   "metadata": {},
   "source": [
    "# Final Model Evaluation & Comments:"
   ]
  },
  {
   "cell_type": "code",
   "execution_count": 21,
   "metadata": {
    "collapsed": true
   },
   "outputs": [],
   "source": [
    "# Our only remaining prior violation was somewhat weak (we don't have strong beliefs about previous television consumption)\n",
    "# Our only remaining statistical insignificance gripes are with an age dummy; we should test their joint significance, \n",
    "# but programming a Wald-test from scratch seems excessive; we just leave them in for simplicities sake.\n",
    "\n",
    "FinalModel = Model\n",
    "\n",
    "# Lets see how the model predicts w.r.t. the training data and hold out:"
   ]
  },
  {
   "cell_type": "code",
   "execution_count": 22,
   "metadata": {
    "collapsed": true
   },
   "outputs": [],
   "source": [
    "def getPhat(model, X):\n",
    "    \n",
    "    predictions = Model.predict_proba(X)\n",
    "    predictions = [p[1] for p in predictions]\n",
    "    \n",
    "    return sum(predictions) / len(predictions)"
   ]
  },
  {
   "cell_type": "code",
   "execution_count": 23,
   "metadata": {
    "collapsed": false
   },
   "outputs": [
    {
     "data": {
      "text/plain": [
       "(0.2983591190727778, 0.29842342342342343)"
      ]
     },
     "execution_count": 23,
     "metadata": {},
     "output_type": "execute_result"
    }
   ],
   "source": [
    "# Report the average predict p(buy) and actual p(buy) across the training set\n",
    "\n",
    "getPhat(FinalModel, X_c), y.mean()[0] # Looks good"
   ]
  },
  {
   "cell_type": "code",
   "execution_count": 24,
   "metadata": {
    "collapsed": true
   },
   "outputs": [],
   "source": [
    "cable_holdout = pd.read_csv('./Data/holdout.csv', na_values=(-999, 6))"
   ]
  },
  {
   "cell_type": "code",
   "execution_count": 25,
   "metadata": {
    "collapsed": false
   },
   "outputs": [],
   "source": [
    "cable_holdout = CleanCableData(cable_holdout)"
   ]
  },
  {
   "cell_type": "code",
   "execution_count": 26,
   "metadata": {
    "collapsed": false
   },
   "outputs": [],
   "source": [
    "y_2 = pd.DataFrame(cable_holdout['buy'])\n",
    "X_2 = cable_holdout[[col for col in cable_holdout.columns if col != 'buy']]\n",
    "\n",
    "X_2 = X_2[[col for col in X_2.columns if col not in applied_drop]]\n",
    "\n",
    "# add a constant column\n",
    "\n",
    "X_2c = np.c_[np.ones(X_2.shape[0]), X_2]\n",
    "feature_names = feature_names.insert(0, 'constant')"
   ]
  },
  {
   "cell_type": "code",
   "execution_count": 27,
   "metadata": {
    "collapsed": false
   },
   "outputs": [
    {
     "data": {
      "text/plain": [
       "(0.3071644327303411, 0.30978260869565216)"
      ]
     },
     "execution_count": 27,
     "metadata": {},
     "output_type": "execute_result"
    }
   ],
   "source": [
    "# Report the average predict p(buy) and actual p(buy) across the holdout\n",
    "\n",
    "getPhat(FinalModel, X_2c), y_2.mean()[0]"
   ]
  },
  {
   "cell_type": "code",
   "execution_count": 28,
   "metadata": {
    "collapsed": true
   },
   "outputs": [],
   "source": [
    "# Our final model looks like it predicts well across our hold-out\n",
    "# All in all, we think that the Applied-like logisticRegression model is, at least somewhat, believable\n",
    "# Moving on to what-if questions..."
   ]
  },
  {
   "cell_type": "markdown",
   "metadata": {},
   "source": [
    "# Elasticity Simulation"
   ]
  },
  {
   "cell_type": "code",
   "execution_count": 29,
   "metadata": {
    "collapsed": false
   },
   "outputs": [],
   "source": [
    "simulated_cable = cable.copy()\n",
    "\n",
    "y = simulated_cable['buy']\n",
    "X = simulated_cable[[col for col in simulated_cable.columns if col != 'buy']]"
   ]
  },
  {
   "cell_type": "code",
   "execution_count": 30,
   "metadata": {
    "collapsed": false
   },
   "outputs": [
    {
     "data": {
      "text/plain": [
       "range(8, 16)"
      ]
     },
     "execution_count": 30,
     "metadata": {},
     "output_type": "execute_result"
    }
   ],
   "source": [
    "desired_values = range(8, 16)\n",
    "desired_values"
   ]
  },
  {
   "cell_type": "code",
   "execution_count": null,
   "metadata": {
    "collapsed": false
   },
   "outputs": [],
   "source": [
    "# This is ugly as hell; can probably be reduced to 2 or 3 reasonable funcs\n",
    "\n",
    "MARKET_SIZE = 1000000\n",
    "outcomes = {}\n",
    "for n in desired_values:\n",
    "    \n",
    "    X['price'] = [n for itme in X['price']]\n",
    "    probas = [p[1] for p in Model.predict_proba(X)]\n",
    "    average_proba = sum(probas) / len(probas)\n",
    "    aggregate_demand = MARKET_SIZE * average_proba\n",
    "    \n",
    "    try:\n",
    "        \n",
    "        change_in_demand_as_percent = (aggregate_demand - last_value) / last_value\n",
    "        change_in_price_as_percent = (n - last_n) / last_n\n",
    "        elasticity = change_in_demand_as_percent / change_in_price_as_percent\n",
    "        \n",
    "    except(NameError):\n",
    "        \n",
    "        elasticity = 'n/a'\n",
    "    \n",
    "    last_n = n\n",
    "    last_value = aggregate_demand\n",
    "    \n",
    "    print('Price: ' + str(n) + ', aggregate demand: ' + str(aggregate_demand) + ', elasticity: ' + str(elasticity))  "
   ]
  },
  {
   "cell_type": "code",
   "execution_count": null,
   "metadata": {
    "collapsed": false
   },
   "outputs": [],
   "source": [
    "def DemandElasticity(D1, D2, P1, P2):\n",
    "    \n",
    "    return ((D2 - D1) / D1) / ((P2 - P1) / P1)"
   ]
  },
  {
   "cell_type": "code",
   "execution_count": null,
   "metadata": {
    "collapsed": true
   },
   "outputs": [],
   "source": [
    "def getSimulationRange(x, dx):\n",
    "    \n",
    "    # Accepts a series and a step: returns an ordered list ranging from the minimum to the maximum of the list\n",
    "    # in the series, seperated by steps\n",
    "    \n",
    "    min_x = min(x)\n",
    "    max_x = max(x)\n",
    "    \n",
    "    r = np.arange(min_x, max_x + dx, dx)\n",
    "    \n",
    "    return r"
   ]
  }
 ],
 "metadata": {
  "kernelspec": {
   "display_name": "Python 3",
   "language": "python",
   "name": "python3"
  },
  "language_info": {
   "codemirror_mode": {
    "name": "ipython",
    "version": 3
   },
   "file_extension": ".py",
   "mimetype": "text/x-python",
   "name": "python",
   "nbconvert_exporter": "python",
   "pygments_lexer": "ipython3",
   "version": "3.5.4"
  }
 },
 "nbformat": 4,
 "nbformat_minor": 0
}
