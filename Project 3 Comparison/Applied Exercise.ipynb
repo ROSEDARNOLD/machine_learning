{
 "cells": [
  {
   "cell_type": "markdown",
   "metadata": {},
   "source": [
    "# 'Applied' Exercise"
   ]
  },
  {
   "cell_type": "code",
   "execution_count": 1,
   "metadata": {
    "collapsed": false
   },
   "outputs": [],
   "source": [
    "import numpy as np\n",
    "import pandas as pd\n",
    "from sklearn.linear_model import LogisticRegression\n",
    "from sklearn.model_selection import KFold\n",
    "from sklearn.metrics import log_loss"
   ]
  },
  {
   "cell_type": "code",
   "execution_count": 2,
   "metadata": {
    "collapsed": true
   },
   "outputs": [],
   "source": [
    "%matplotlib inline\n",
    "import matplotlib.pyplot as plt"
   ]
  },
  {
   "cell_type": "code",
   "execution_count": 3,
   "metadata": {
    "collapsed": false
   },
   "outputs": [],
   "source": [
    "cable = pd.read_csv('./Data/training.csv', na_values=(-999, 6)) # value = 6 corresponds to refusal to answer, 6 nowhere else in data"
   ]
  },
  {
   "cell_type": "markdown",
   "metadata": {},
   "source": [
    "# Adjust the Feature Set"
   ]
  },
  {
   "cell_type": "code",
   "execution_count": 4,
   "metadata": {
    "collapsed": true
   },
   "outputs": [],
   "source": [
    "def CleanCableData(df):\n",
    "    \n",
    "    # omitting irrelevant/redundant columns and singular dummies (age=1, class=poor(d and e))\n",
    "    \n",
    "    drop = ['YES', 'ID', 'age', 'class', 'tele_have', 'd', 'de'] \n",
    "    df['value'] = [(i - 3) for i in df['value']] # Normalize (-2 to +2)\n",
    "    df = df[[col for col in df.columns if col not in drop]]\n",
    "    df = df.dropna()\n",
    "    \n",
    "    return df"
   ]
  },
  {
   "cell_type": "code",
   "execution_count": 5,
   "metadata": {
    "collapsed": false
   },
   "outputs": [],
   "source": [
    "cable = CleanCableData(cable)"
   ]
  },
  {
   "cell_type": "code",
   "execution_count": 6,
   "metadata": {
    "collapsed": false
   },
   "outputs": [],
   "source": [
    "y = pd.DataFrame(cable['buy'])\n",
    "X = cable[[col for col in cable.columns if col != 'buy']]\n",
    "\n",
    "feature_names = X.columns\n",
    "X = np.array(X)\n",
    "\n",
    "# cable['constant'] = [1 for i in range(len(cable))]"
   ]
  },
  {
   "cell_type": "code",
   "execution_count": 7,
   "metadata": {
    "collapsed": false
   },
   "outputs": [],
   "source": [
    "# add a constant column\n",
    "\n",
    "X_c = np.c_[np.ones(X.shape[0]), X]\n",
    "feature_names = feature_names.insert(0, 'constant')"
   ]
  },
  {
   "cell_type": "markdown",
   "metadata": {},
   "source": [
    "# Model Estimation & Display"
   ]
  },
  {
   "cell_type": "code",
   "execution_count": 8,
   "metadata": {
    "collapsed": false
   },
   "outputs": [],
   "source": [
    "# Extend the sklearn LogisticRegression class to return Standard Errors and T-statistics\n",
    "\n",
    "class ExtLogisticRegression(LogisticRegression):\n",
    "    \n",
    "    def __init__(self):\n",
    "        \n",
    "        LogisticRegression.__init__(self)\n",
    "            \n",
    "    def tstat(self, estimate, se): return estimate / se\n",
    "    \n",
    "    def getStats(self, X, feature_names): # passing X again after fit() is ugly, but unavoidable without serious class amendment.\n",
    "        \n",
    "        '''Courtesy of: \n",
    "        # https://stats.stackexchange.com/questions/89484/how-to-compute-the-standard-errors-of-a-logistic-regressions-coefficients\n",
    "        # The covariance matrix as given by: (X'VX)^-1\n",
    "\n",
    "        # X: (n x k), X': (k x n)\n",
    "        # V: (n x n)\n",
    "\n",
    "        # -> X'VX: (k x k)'''\n",
    "\n",
    "        n = len(X)\n",
    "        predictions = np.matrix(self.predict_proba(X))\n",
    "\n",
    "        # Initiate matrix of 0's, fill diagonal with each predicted observation's variance\n",
    "        V = np.matrix(np.zeros(shape = (n, n)))\n",
    "\n",
    "        p_no = predictions[:,0] # array of all p(no buy)\n",
    "        p_yes = (predictions[:,1]).A1 # flattened array of all p(buy)\n",
    "\n",
    "        np.fill_diagonal(V, np.multiply(p_no, p_yes)) # n X n \n",
    "\n",
    "        # Covariance matrix\n",
    "        cov = np.linalg.inv(X.T * V * X)\n",
    "\n",
    "        # Standard errors\n",
    "        se = np.sqrt(np.diag(cov))\n",
    "        \n",
    "        # Check with E-Views output -> ~ok\n",
    "        \n",
    "        tstats = pd.Series(map(self.tstat, self.coef_,se))[0]\n",
    "        \n",
    "        summary = pd.DataFrame({'Coefficients': list(self.coef_[0]), 'SE': list(se), 't-stat': list(tstats)})\n",
    "        summary = summary.set_index(feature_names)\n",
    "        \n",
    "        self.summary = summary"
   ]
  },
  {
   "cell_type": "code",
   "execution_count": 9,
   "metadata": {
    "collapsed": false
   },
   "outputs": [],
   "source": [
    "Model = ExtLogisticRegression()"
   ]
  },
  {
   "cell_type": "code",
   "execution_count": 10,
   "metadata": {
    "collapsed": false
   },
   "outputs": [
    {
     "name": "stderr",
     "output_type": "stream",
     "text": [
      "C:\\Users\\cjrdn_000\\Anaconda3\\lib\\site-packages\\sklearn\\utils\\validation.py:526: DataConversionWarning: A column-vector y was passed when a 1d array was expected. Please change the shape of y to (n_samples, ), for example using ravel().\n",
      "  y = column_or_1d(y, warn=True)\n"
     ]
    },
    {
     "data": {
      "text/plain": [
       "ExtLogisticRegression()"
      ]
     },
     "execution_count": 10,
     "metadata": {},
     "output_type": "execute_result"
    }
   ],
   "source": [
    "Model.fit(X_c, y)"
   ]
  },
  {
   "cell_type": "code",
   "execution_count": 11,
   "metadata": {
    "collapsed": false
   },
   "outputs": [],
   "source": [
    "Model.getStats(X_c, feature_names)"
   ]
  },
  {
   "cell_type": "code",
   "execution_count": 12,
   "metadata": {
    "collapsed": false
   },
   "outputs": [
    {
     "data": {
      "text/html": [
       "<div>\n",
       "<style scoped>\n",
       "    .dataframe tbody tr th:only-of-type {\n",
       "        vertical-align: middle;\n",
       "    }\n",
       "\n",
       "    .dataframe tbody tr th {\n",
       "        vertical-align: top;\n",
       "    }\n",
       "\n",
       "    .dataframe thead th {\n",
       "        text-align: right;\n",
       "    }\n",
       "</style>\n",
       "<table border=\"1\" class=\"dataframe\">\n",
       "  <thead>\n",
       "    <tr style=\"text-align: right;\">\n",
       "      <th></th>\n",
       "      <th>Coefficients</th>\n",
       "      <th>SE</th>\n",
       "      <th>t-stat</th>\n",
       "    </tr>\n",
       "  </thead>\n",
       "  <tbody>\n",
       "    <tr>\n",
       "      <th>constant</th>\n",
       "      <td>0.357277</td>\n",
       "      <td>0.300927</td>\n",
       "      <td>1.187253</td>\n",
       "    </tr>\n",
       "    <tr>\n",
       "      <th>age2</th>\n",
       "      <td>0.271506</td>\n",
       "      <td>0.113775</td>\n",
       "      <td>0.902231</td>\n",
       "    </tr>\n",
       "    <tr>\n",
       "      <th>age3</th>\n",
       "      <td>0.335084</td>\n",
       "      <td>0.115239</td>\n",
       "      <td>1.113506</td>\n",
       "    </tr>\n",
       "    <tr>\n",
       "      <th>age4</th>\n",
       "      <td>0.342480</td>\n",
       "      <td>0.114885</td>\n",
       "      <td>1.138083</td>\n",
       "    </tr>\n",
       "    <tr>\n",
       "      <th>age5</th>\n",
       "      <td>0.005747</td>\n",
       "      <td>0.132889</td>\n",
       "      <td>0.019098</td>\n",
       "    </tr>\n",
       "    <tr>\n",
       "      <th>age6</th>\n",
       "      <td>0.006027</td>\n",
       "      <td>0.129059</td>\n",
       "      <td>0.020028</td>\n",
       "    </tr>\n",
       "    <tr>\n",
       "      <th>ab</th>\n",
       "      <td>-2.624517</td>\n",
       "      <td>0.114740</td>\n",
       "      <td>-8.721436</td>\n",
       "    </tr>\n",
       "    <tr>\n",
       "      <th>c1</th>\n",
       "      <td>-2.195010</td>\n",
       "      <td>0.082904</td>\n",
       "      <td>-7.294155</td>\n",
       "    </tr>\n",
       "    <tr>\n",
       "      <th>c2</th>\n",
       "      <td>-0.828344</td>\n",
       "      <td>0.057754</td>\n",
       "      <td>-2.752639</td>\n",
       "    </tr>\n",
       "    <tr>\n",
       "      <th>children</th>\n",
       "      <td>0.276937</td>\n",
       "      <td>0.063324</td>\n",
       "      <td>0.920279</td>\n",
       "    </tr>\n",
       "    <tr>\n",
       "      <th>council</th>\n",
       "      <td>-0.259984</td>\n",
       "      <td>0.067515</td>\n",
       "      <td>-0.863943</td>\n",
       "    </tr>\n",
       "    <tr>\n",
       "      <th>emp_ft</th>\n",
       "      <td>0.385142</td>\n",
       "      <td>0.063802</td>\n",
       "      <td>1.279852</td>\n",
       "    </tr>\n",
       "    <tr>\n",
       "      <th>emp_hwife</th>\n",
       "      <td>0.205446</td>\n",
       "      <td>0.070488</td>\n",
       "      <td>0.682710</td>\n",
       "    </tr>\n",
       "    <tr>\n",
       "      <th>no_dish</th>\n",
       "      <td>-0.052723</td>\n",
       "      <td>0.018113</td>\n",
       "      <td>-0.175202</td>\n",
       "    </tr>\n",
       "    <tr>\n",
       "      <th>n_videos</th>\n",
       "      <td>0.283967</td>\n",
       "      <td>0.033824</td>\n",
       "      <td>0.943639</td>\n",
       "    </tr>\n",
       "    <tr>\n",
       "      <th>price</th>\n",
       "      <td>-0.081947</td>\n",
       "      <td>0.010138</td>\n",
       "      <td>-0.272316</td>\n",
       "    </tr>\n",
       "    <tr>\n",
       "      <th>price_mc</th>\n",
       "      <td>-0.016759</td>\n",
       "      <td>0.020784</td>\n",
       "      <td>-0.055692</td>\n",
       "    </tr>\n",
       "    <tr>\n",
       "      <th>prog_qual</th>\n",
       "      <td>0.055656</td>\n",
       "      <td>0.039374</td>\n",
       "      <td>0.184948</td>\n",
       "    </tr>\n",
       "    <tr>\n",
       "      <th>race</th>\n",
       "      <td>0.034209</td>\n",
       "      <td>0.023469</td>\n",
       "      <td>0.113680</td>\n",
       "    </tr>\n",
       "    <tr>\n",
       "      <th>rent</th>\n",
       "      <td>-0.228814</td>\n",
       "      <td>0.086332</td>\n",
       "      <td>-0.760363</td>\n",
       "    </tr>\n",
       "    <tr>\n",
       "      <th>sat_have</th>\n",
       "      <td>0.570994</td>\n",
       "      <td>0.065642</td>\n",
       "      <td>1.897450</td>\n",
       "    </tr>\n",
       "    <tr>\n",
       "      <th>sex</th>\n",
       "      <td>0.133960</td>\n",
       "      <td>0.058382</td>\n",
       "      <td>0.445158</td>\n",
       "    </tr>\n",
       "    <tr>\n",
       "      <th>tv-satis</th>\n",
       "      <td>-0.121061</td>\n",
       "      <td>0.022532</td>\n",
       "      <td>-0.402294</td>\n",
       "    </tr>\n",
       "    <tr>\n",
       "      <th>value</th>\n",
       "      <td>0.129149</td>\n",
       "      <td>0.031799</td>\n",
       "      <td>0.429171</td>\n",
       "    </tr>\n",
       "    <tr>\n",
       "      <th>vcr_have</th>\n",
       "      <td>0.239867</td>\n",
       "      <td>0.068685</td>\n",
       "      <td>0.797093</td>\n",
       "    </tr>\n",
       "    <tr>\n",
       "      <th>bbc1</th>\n",
       "      <td>0.112133</td>\n",
       "      <td>0.051936</td>\n",
       "      <td>0.372625</td>\n",
       "    </tr>\n",
       "    <tr>\n",
       "      <th>bbc2</th>\n",
       "      <td>0.203114</td>\n",
       "      <td>0.087210</td>\n",
       "      <td>0.674960</td>\n",
       "    </tr>\n",
       "    <tr>\n",
       "      <th>itv</th>\n",
       "      <td>-0.222381</td>\n",
       "      <td>0.053531</td>\n",
       "      <td>-0.738986</td>\n",
       "    </tr>\n",
       "    <tr>\n",
       "      <th>ch4</th>\n",
       "      <td>-0.176778</td>\n",
       "      <td>0.081186</td>\n",
       "      <td>-0.587443</td>\n",
       "    </tr>\n",
       "  </tbody>\n",
       "</table>\n",
       "</div>"
      ],
      "text/plain": [
       "           Coefficients        SE    t-stat\n",
       "constant       0.357277  0.300927  1.187253\n",
       "age2           0.271506  0.113775  0.902231\n",
       "age3           0.335084  0.115239  1.113506\n",
       "age4           0.342480  0.114885  1.138083\n",
       "age5           0.005747  0.132889  0.019098\n",
       "age6           0.006027  0.129059  0.020028\n",
       "ab            -2.624517  0.114740 -8.721436\n",
       "c1            -2.195010  0.082904 -7.294155\n",
       "c2            -0.828344  0.057754 -2.752639\n",
       "children       0.276937  0.063324  0.920279\n",
       "council       -0.259984  0.067515 -0.863943\n",
       "emp_ft         0.385142  0.063802  1.279852\n",
       "emp_hwife      0.205446  0.070488  0.682710\n",
       "no_dish       -0.052723  0.018113 -0.175202\n",
       "n_videos       0.283967  0.033824  0.943639\n",
       "price         -0.081947  0.010138 -0.272316\n",
       "price_mc      -0.016759  0.020784 -0.055692\n",
       "prog_qual      0.055656  0.039374  0.184948\n",
       "race           0.034209  0.023469  0.113680\n",
       "rent          -0.228814  0.086332 -0.760363\n",
       "sat_have       0.570994  0.065642  1.897450\n",
       "sex            0.133960  0.058382  0.445158\n",
       "tv-satis      -0.121061  0.022532 -0.402294\n",
       "value          0.129149  0.031799  0.429171\n",
       "vcr_have       0.239867  0.068685  0.797093\n",
       "bbc1           0.112133  0.051936  0.372625\n",
       "bbc2           0.203114  0.087210  0.674960\n",
       "itv           -0.222381  0.053531 -0.738986\n",
       "ch4           -0.176778  0.081186 -0.587443"
      ]
     },
     "execution_count": 12,
     "metadata": {},
     "output_type": "execute_result"
    }
   ],
   "source": [
    "# Please see  for an Eviews comparison; though there may exist some minute differences in\n",
    "# calculation (esp. for the constant term), we think our estimates are sufficiently to Eviews close to justify moving forward.\n",
    "\n",
    "Model.summary"
   ]
  },
  {
   "cell_type": "markdown",
   "metadata": {},
   "source": [
    "# Applied-Like Feature Selection"
   ]
  },
  {
   "cell_type": "code",
   "execution_count": null,
   "metadata": {
    "collapsed": true
   },
   "outputs": [],
   "source": []
  },
  {
   "cell_type": "markdown",
   "metadata": {},
   "source": [
    "# Model Comments:"
   ]
  },
  {
   "cell_type": "code",
   "execution_count": null,
   "metadata": {
    "collapsed": true
   },
   "outputs": [],
   "source": [
    "# Comments..."
   ]
  },
  {
   "cell_type": "code",
   "execution_count": null,
   "metadata": {
    "collapsed": false
   },
   "outputs": [],
   "source": [
    "# Simulating the model across the training set\n",
    "\n",
    "predictions = Model.predict_proba(X)\n",
    "predictions = [p[1] for p in predictions]\n",
    "\n",
    "#X['predictions'] = list(predictions)\n",
    "\n",
    "sum(predictions) / len(predictions), y.mean()[0] # predicted avg p, actual avg p for training set"
   ]
  },
  {
   "cell_type": "code",
   "execution_count": null,
   "metadata": {
    "collapsed": false,
    "scrolled": false
   },
   "outputs": [],
   "source": [
    "# Showing a plot of the predictions in no particular order -> observe higher denisty in the 'no buy' space\n",
    "\n",
    "fig = plt.figure(figsize=(40, 30))\n",
    "ax1 = fig.add_subplot(111)\n",
    "\n",
    "ax1.scatter(list(X.index), list(y[\"buy\"]))\n",
    "ax1.scatter(list(X.index), list(X['predictions']))\n",
    "\n",
    "plt.show()"
   ]
  },
  {
   "cell_type": "code",
   "execution_count": null,
   "metadata": {
    "collapsed": true
   },
   "outputs": [],
   "source": [
    "cable_holdout = pd.read_csv('./Data/holdout.csv', na_values=(-999, 6))"
   ]
  },
  {
   "cell_type": "code",
   "execution_count": null,
   "metadata": {
    "collapsed": false
   },
   "outputs": [],
   "source": [
    "cable_holdout = CleanCableData(cable_holdout)\n",
    "cable_holdout['constant'] = [1 for i in range(len(cable_holdout))]"
   ]
  },
  {
   "cell_type": "code",
   "execution_count": null,
   "metadata": {
    "collapsed": false
   },
   "outputs": [],
   "source": [
    "y_2 = pd.DataFrame(cable_holdout['buy'])\n",
    "X_2 = cable_holdout[[col for col in cable_holdout.columns if col != 'buy']]"
   ]
  },
  {
   "cell_type": "code",
   "execution_count": null,
   "metadata": {
    "collapsed": false
   },
   "outputs": [],
   "source": [
    "predictions_2 = [p[1] for p in Model.predict_proba(X_2)]\n",
    "\n",
    "sum(predictions_2) / len(predictions_2), y_2.mean()[0] # predicted avg p, actual avg p for holdout"
   ]
  },
  {
   "cell_type": "markdown",
   "metadata": {},
   "source": [
    "# Elasticity Simulation"
   ]
  },
  {
   "cell_type": "code",
   "execution_count": null,
   "metadata": {
    "collapsed": false
   },
   "outputs": [],
   "source": [
    "simulated_cable = cable.copy()\n",
    "\n",
    "y = simulated_cable['buy']\n",
    "X = simulated_cable[[col for col in simulated_cable.columns if col != 'buy']]"
   ]
  },
  {
   "cell_type": "code",
   "execution_count": null,
   "metadata": {
    "collapsed": false
   },
   "outputs": [],
   "source": [
    "desired_values = range(8, 16)\n",
    "desired_values"
   ]
  },
  {
   "cell_type": "code",
   "execution_count": null,
   "metadata": {
    "collapsed": false
   },
   "outputs": [],
   "source": [
    "MARKET_SIZE = 1000000\n",
    "outcomes = {}\n",
    "for n in desired_values:\n",
    "    \n",
    "    X['price'] = [n for itme in X['price']]\n",
    "    probas = [p[1] for p in Model.predict_proba(X)]\n",
    "    average_proba = sum(probas) / len(probas)\n",
    "    aggregate_demand = MARKET_SIZE * average_proba\n",
    "    \n",
    "    try:\n",
    "        \n",
    "        change_in_demand_as_percent = (aggregate_demand - last_value) / last_value\n",
    "        change_in_price_as_percent = (n - last_n) / last_n\n",
    "        elasticity = change_in_demand_as_percent / change_in_price_as_percent\n",
    "        \n",
    "    except(NameError):\n",
    "        \n",
    "        elasticity = 'n/a'\n",
    "    \n",
    "    last_n = n\n",
    "    last_value = aggregate_demand\n",
    "    \n",
    "    print('Price: ' + str(n) + ', aggregate demand: ' + str(aggregate_demand) + ', elasticity: ' + str(elasticity))  "
   ]
  },
  {
   "cell_type": "code",
   "execution_count": null,
   "metadata": {
    "collapsed": false
   },
   "outputs": [],
   "source": [
    "def DemandElasticity(D1, D2, P1, P2):\n",
    "    \n",
    "    return ((D2 - D1) / D1) / ((P2 - P1) / P1)"
   ]
  },
  {
   "cell_type": "code",
   "execution_count": null,
   "metadata": {
    "collapsed": true
   },
   "outputs": [],
   "source": [
    "def getSimulationRange(x, dx):\n",
    "    \n",
    "    # Accepts a series and a step: returns an ordered list ranging from the minimum to the maximum of the list\n",
    "    # in the series, seperated by steps\n",
    "    \n",
    "    min_x = min(x)\n",
    "    max_x = max(x)\n",
    "    \n",
    "    r = np.arange(min_x, max_x + dx, dx)\n",
    "    \n",
    "    return r"
   ]
  }
 ],
 "metadata": {
  "kernelspec": {
   "display_name": "Python 3",
   "language": "python",
   "name": "python3"
  },
  "language_info": {
   "codemirror_mode": {
    "name": "ipython",
    "version": 3
   },
   "file_extension": ".py",
   "mimetype": "text/x-python",
   "name": "python",
   "nbconvert_exporter": "python",
   "pygments_lexer": "ipython3",
   "version": "3.5.4"
  }
 },
 "nbformat": 4,
 "nbformat_minor": 0
}
