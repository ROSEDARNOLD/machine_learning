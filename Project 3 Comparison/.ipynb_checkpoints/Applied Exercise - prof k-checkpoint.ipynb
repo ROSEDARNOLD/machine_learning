{
 "cells": [
  {
   "cell_type": "markdown",
   "metadata": {},
   "source": [
    "# 'Applied' Exercise"
   ]
  },
  {
   "cell_type": "code",
   "execution_count": 1,
   "metadata": {
    "collapsed": false
   },
   "outputs": [],
   "source": [
    "from profk import Dataset\n",
    "import numpy as np\n",
    "import pandas as pd\n",
    "from sklearn.linear_model import LogisticRegression\n",
    "from sklearn.model_selection import KFold\n",
    "from sklearn.metrics import log_loss"
   ]
  },
  {
   "cell_type": "code",
   "execution_count": 2,
   "metadata": {
    "collapsed": true
   },
   "outputs": [],
   "source": [
    "%matplotlib inline\n",
    "import matplotlib.pyplot as plt"
   ]
  },
  {
   "cell_type": "code",
   "execution_count": 3,
   "metadata": {
    "collapsed": true
   },
   "outputs": [],
   "source": [
    "normal = {'value': lambda i: int(i) -3, 'prog_qual': lambda i: int(i) -3} # Normalization"
   ]
  },
  {
   "cell_type": "code",
   "execution_count": 4,
   "metadata": {
    "collapsed": false
   },
   "outputs": [],
   "source": [
    "# value = 6 corresponds to refusal to answer, 6 nowhere else in data\n",
    "\n",
    "cable_training = pd.read_csv('./Data/training.csv', na_values=(-999, 6), converters=normal) \n",
    "cable_holdout = pd.read_csv('./Data/holdout.csv', na_values=(-999, 6), converters=normal)\n",
    "cable_all = pd.concat([cable_training, cable_holdout])"
   ]
  },
  {
   "cell_type": "code",
   "execution_count": 10,
   "metadata": {
    "collapsed": false
   },
   "outputs": [],
   "source": [
    "CableTrain = Dataset(cable_training)"
   ]
  },
  {
   "cell_type": "markdown",
   "metadata": {},
   "source": [
    "# Model Estimation & Display"
   ]
  },
  {
   "cell_type": "code",
   "execution_count": 11,
   "metadata": {
    "collapsed": false
   },
   "outputs": [],
   "source": [
    "# Extend the sklearn LogisticRegression class to return Standard Errors and T-statistics\n",
    "\n",
    "class ExtLogisticRegression(LogisticRegression):\n",
    "    \n",
    "    def __init__(self):\n",
    "        \n",
    "        LogisticRegression.__init__(self)\n",
    "            \n",
    "    def tstat(self, estimate, se): return estimate / se\n",
    "    \n",
    "    def getStats(self, X, feature_names): # passing X again after fit() is ugly, but unavoidable without serious class amendment.\n",
    "        \n",
    "        '''Courtesy of: \n",
    "        # https://stats.stackexchange.com/questions/89484/how-to-compute-the-standard-errors-of-a-logistic-regressions-coefficients\n",
    "        # The covariance matrix as given by: (X'VX)^-1\n",
    "\n",
    "        # X: (n x k), X': (k x n)\n",
    "        # V: (n x n)\n",
    "\n",
    "        # -> X'VX: (k x k)'''\n",
    "\n",
    "        n = len(X)\n",
    "        predictions = np.matrix(self.predict_proba(X))\n",
    "\n",
    "        # Initiate matrix of 0's, fill diagonal with each predicted observation's variance\n",
    "        V = np.matrix(np.zeros(shape = (n, n)))\n",
    "\n",
    "        p_no = predictions[:,0] # array of all p(no buy)\n",
    "        p_yes = (predictions[:,1]).A1 # flattened array of all p(buy)\n",
    "\n",
    "        np.fill_diagonal(V, np.multiply(p_no, p_yes)) # n X n \n",
    "\n",
    "        # Covariance matrix\n",
    "        cov = np.linalg.inv(X.T * V * X)\n",
    "\n",
    "        # Standard errors\n",
    "        se = np.sqrt(np.diag(cov))\n",
    "        \n",
    "        # Check with E-Views output -> ~ok\n",
    "        \n",
    "        tstats = pd.Series(map(self.tstat, self.coef_,se))[0]\n",
    "        \n",
    "        summary = pd.DataFrame({'Coefficients': list(self.coef_[0]), 'SE': list(se), 't-stat': list(tstats)})  \n",
    "        summary = summary.set_index(pd.Index(feature_names))\n",
    "        \n",
    "        self.summary = summary"
   ]
  },
  {
   "cell_type": "code",
   "execution_count": 12,
   "metadata": {
    "collapsed": false
   },
   "outputs": [],
   "source": [
    "drop = ['YES', 'ID', 'age', 'class', 'tele_have', 'd', 'de'] # no theory needed to drop these guys (redundant or irrelevant features)\n",
    "\n",
    "feature_names = [i for i in cable_training.columns if i not in drop and i != 'buy']\n",
    "target_name = ['buy']\n",
    "\n",
    "X, y = CableTrain.getXy(feature_names, target_name)"
   ]
  },
  {
   "cell_type": "code",
   "execution_count": 13,
   "metadata": {
    "collapsed": false
   },
   "outputs": [
    {
     "data": {
      "text/plain": [
       "ExtLogisticRegression()"
      ]
     },
     "execution_count": 13,
     "metadata": {},
     "output_type": "execute_result"
    }
   ],
   "source": [
    "Model = ExtLogisticRegression()\n",
    "Model.fit(X, y)"
   ]
  },
  {
   "cell_type": "code",
   "execution_count": 14,
   "metadata": {
    "collapsed": false
   },
   "outputs": [],
   "source": [
    "Model.getStats(X, feature_names)"
   ]
  },
  {
   "cell_type": "code",
   "execution_count": 15,
   "metadata": {
    "collapsed": false,
    "scrolled": true
   },
   "outputs": [
    {
     "data": {
      "text/html": [
       "<div>\n",
       "<style scoped>\n",
       "    .dataframe tbody tr th:only-of-type {\n",
       "        vertical-align: middle;\n",
       "    }\n",
       "\n",
       "    .dataframe tbody tr th {\n",
       "        vertical-align: top;\n",
       "    }\n",
       "\n",
       "    .dataframe thead th {\n",
       "        text-align: right;\n",
       "    }\n",
       "</style>\n",
       "<table border=\"1\" class=\"dataframe\">\n",
       "  <thead>\n",
       "    <tr style=\"text-align: right;\">\n",
       "      <th></th>\n",
       "      <th>Coefficients</th>\n",
       "      <th>SE</th>\n",
       "      <th>t-stat</th>\n",
       "    </tr>\n",
       "  </thead>\n",
       "  <tbody>\n",
       "    <tr>\n",
       "      <th>c</th>\n",
       "      <td>0.606557</td>\n",
       "      <td>0.272343</td>\n",
       "      <td>2.227180</td>\n",
       "    </tr>\n",
       "    <tr>\n",
       "      <th>age2</th>\n",
       "      <td>0.230406</td>\n",
       "      <td>0.111368</td>\n",
       "      <td>0.846015</td>\n",
       "    </tr>\n",
       "    <tr>\n",
       "      <th>age3</th>\n",
       "      <td>0.386097</td>\n",
       "      <td>0.111958</td>\n",
       "      <td>1.417688</td>\n",
       "    </tr>\n",
       "    <tr>\n",
       "      <th>age4</th>\n",
       "      <td>0.352442</td>\n",
       "      <td>0.112023</td>\n",
       "      <td>1.294113</td>\n",
       "    </tr>\n",
       "    <tr>\n",
       "      <th>age5</th>\n",
       "      <td>-0.033134</td>\n",
       "      <td>0.128998</td>\n",
       "      <td>-0.121663</td>\n",
       "    </tr>\n",
       "    <tr>\n",
       "      <th>age6</th>\n",
       "      <td>-0.043382</td>\n",
       "      <td>0.124698</td>\n",
       "      <td>-0.159292</td>\n",
       "    </tr>\n",
       "    <tr>\n",
       "      <th>ab</th>\n",
       "      <td>-2.463974</td>\n",
       "      <td>0.105200</td>\n",
       "      <td>-9.047321</td>\n",
       "    </tr>\n",
       "    <tr>\n",
       "      <th>c1</th>\n",
       "      <td>-2.141438</td>\n",
       "      <td>0.078651</td>\n",
       "      <td>-7.863022</td>\n",
       "    </tr>\n",
       "    <tr>\n",
       "      <th>c2</th>\n",
       "      <td>-0.773961</td>\n",
       "      <td>0.054843</td>\n",
       "      <td>-2.841861</td>\n",
       "    </tr>\n",
       "    <tr>\n",
       "      <th>children</th>\n",
       "      <td>0.319314</td>\n",
       "      <td>0.060554</td>\n",
       "      <td>1.172472</td>\n",
       "    </tr>\n",
       "    <tr>\n",
       "      <th>council</th>\n",
       "      <td>-0.177276</td>\n",
       "      <td>0.064229</td>\n",
       "      <td>-0.650929</td>\n",
       "    </tr>\n",
       "    <tr>\n",
       "      <th>emp_ft</th>\n",
       "      <td>0.384183</td>\n",
       "      <td>0.059920</td>\n",
       "      <td>1.410659</td>\n",
       "    </tr>\n",
       "    <tr>\n",
       "      <th>emp_hwife</th>\n",
       "      <td>0.116146</td>\n",
       "      <td>0.067907</td>\n",
       "      <td>0.426469</td>\n",
       "    </tr>\n",
       "    <tr>\n",
       "      <th>no_dish</th>\n",
       "      <td>-0.034195</td>\n",
       "      <td>0.017149</td>\n",
       "      <td>-0.125560</td>\n",
       "    </tr>\n",
       "    <tr>\n",
       "      <th>n_videos</th>\n",
       "      <td>0.232366</td>\n",
       "      <td>0.032142</td>\n",
       "      <td>0.853212</td>\n",
       "    </tr>\n",
       "    <tr>\n",
       "      <th>price</th>\n",
       "      <td>-0.093456</td>\n",
       "      <td>0.009642</td>\n",
       "      <td>-0.343156</td>\n",
       "    </tr>\n",
       "    <tr>\n",
       "      <th>price_mc</th>\n",
       "      <td>-0.034265</td>\n",
       "      <td>0.020003</td>\n",
       "      <td>-0.125817</td>\n",
       "    </tr>\n",
       "    <tr>\n",
       "      <th>prog_qual</th>\n",
       "      <td>0.088074</td>\n",
       "      <td>0.027199</td>\n",
       "      <td>0.323393</td>\n",
       "    </tr>\n",
       "    <tr>\n",
       "      <th>race</th>\n",
       "      <td>0.035050</td>\n",
       "      <td>0.022927</td>\n",
       "      <td>0.128699</td>\n",
       "    </tr>\n",
       "    <tr>\n",
       "      <th>rent</th>\n",
       "      <td>-0.129155</td>\n",
       "      <td>0.080776</td>\n",
       "      <td>-0.474238</td>\n",
       "    </tr>\n",
       "    <tr>\n",
       "      <th>sat_have</th>\n",
       "      <td>0.574864</td>\n",
       "      <td>0.062670</td>\n",
       "      <td>2.110810</td>\n",
       "    </tr>\n",
       "    <tr>\n",
       "      <th>sex</th>\n",
       "      <td>0.163320</td>\n",
       "      <td>0.054901</td>\n",
       "      <td>0.599684</td>\n",
       "    </tr>\n",
       "    <tr>\n",
       "      <th>tv-satis</th>\n",
       "      <td>-0.144714</td>\n",
       "      <td>0.021217</td>\n",
       "      <td>-0.531368</td>\n",
       "    </tr>\n",
       "    <tr>\n",
       "      <th>value</th>\n",
       "      <td>0.088687</td>\n",
       "      <td>0.018961</td>\n",
       "      <td>0.325645</td>\n",
       "    </tr>\n",
       "    <tr>\n",
       "      <th>vcr_have</th>\n",
       "      <td>0.220986</td>\n",
       "      <td>0.064196</td>\n",
       "      <td>0.811425</td>\n",
       "    </tr>\n",
       "    <tr>\n",
       "      <th>bbc1</th>\n",
       "      <td>0.088993</td>\n",
       "      <td>0.048958</td>\n",
       "      <td>0.326769</td>\n",
       "    </tr>\n",
       "    <tr>\n",
       "      <th>bbc2</th>\n",
       "      <td>0.131079</td>\n",
       "      <td>0.083494</td>\n",
       "      <td>0.481302</td>\n",
       "    </tr>\n",
       "    <tr>\n",
       "      <th>itv</th>\n",
       "      <td>-0.298324</td>\n",
       "      <td>0.050173</td>\n",
       "      <td>-1.095399</td>\n",
       "    </tr>\n",
       "    <tr>\n",
       "      <th>ch4</th>\n",
       "      <td>-0.217667</td>\n",
       "      <td>0.077561</td>\n",
       "      <td>-0.799239</td>\n",
       "    </tr>\n",
       "  </tbody>\n",
       "</table>\n",
       "</div>"
      ],
      "text/plain": [
       "           Coefficients        SE    t-stat\n",
       "c              0.606557  0.272343  2.227180\n",
       "age2           0.230406  0.111368  0.846015\n",
       "age3           0.386097  0.111958  1.417688\n",
       "age4           0.352442  0.112023  1.294113\n",
       "age5          -0.033134  0.128998 -0.121663\n",
       "age6          -0.043382  0.124698 -0.159292\n",
       "ab            -2.463974  0.105200 -9.047321\n",
       "c1            -2.141438  0.078651 -7.863022\n",
       "c2            -0.773961  0.054843 -2.841861\n",
       "children       0.319314  0.060554  1.172472\n",
       "council       -0.177276  0.064229 -0.650929\n",
       "emp_ft         0.384183  0.059920  1.410659\n",
       "emp_hwife      0.116146  0.067907  0.426469\n",
       "no_dish       -0.034195  0.017149 -0.125560\n",
       "n_videos       0.232366  0.032142  0.853212\n",
       "price         -0.093456  0.009642 -0.343156\n",
       "price_mc      -0.034265  0.020003 -0.125817\n",
       "prog_qual      0.088074  0.027199  0.323393\n",
       "race           0.035050  0.022927  0.128699\n",
       "rent          -0.129155  0.080776 -0.474238\n",
       "sat_have       0.574864  0.062670  2.110810\n",
       "sex            0.163320  0.054901  0.599684\n",
       "tv-satis      -0.144714  0.021217 -0.531368\n",
       "value          0.088687  0.018961  0.325645\n",
       "vcr_have       0.220986  0.064196  0.811425\n",
       "bbc1           0.088993  0.048958  0.326769\n",
       "bbc2           0.131079  0.083494  0.481302\n",
       "itv           -0.298324  0.050173 -1.095399\n",
       "ch4           -0.217667  0.077561 -0.799239"
      ]
     },
     "execution_count": 15,
     "metadata": {},
     "output_type": "execute_result"
    }
   ],
   "source": [
    "Model.summary"
   ]
  },
  {
   "cell_type": "code",
   "execution_count": 16,
   "metadata": {
    "collapsed": false,
    "scrolled": true
   },
   "outputs": [
    {
     "data": {
      "text/html": [
       "<div>\n",
       "<style scoped>\n",
       "    .dataframe tbody tr th:only-of-type {\n",
       "        vertical-align: middle;\n",
       "    }\n",
       "\n",
       "    .dataframe tbody tr th {\n",
       "        vertical-align: top;\n",
       "    }\n",
       "\n",
       "    .dataframe thead th {\n",
       "        text-align: right;\n",
       "    }\n",
       "</style>\n",
       "<table border=\"1\" class=\"dataframe\">\n",
       "  <thead>\n",
       "    <tr style=\"text-align: right;\">\n",
       "      <th></th>\n",
       "      <th>Coefficients</th>\n",
       "      <th>SE</th>\n",
       "      <th>p-value</th>\n",
       "    </tr>\n",
       "  </thead>\n",
       "  <tbody>\n",
       "    <tr>\n",
       "      <th>c</th>\n",
       "      <td>0.606557</td>\n",
       "      <td>0.272343</td>\n",
       "      <td>0.0246</td>\n",
       "    </tr>\n",
       "    <tr>\n",
       "      <th>age2</th>\n",
       "      <td>0.230406</td>\n",
       "      <td>0.111368</td>\n",
       "      <td>0.0229</td>\n",
       "    </tr>\n",
       "    <tr>\n",
       "      <th>age3</th>\n",
       "      <td>0.386097</td>\n",
       "      <td>0.111958</td>\n",
       "      <td>0.0057</td>\n",
       "    </tr>\n",
       "    <tr>\n",
       "      <th>age4</th>\n",
       "      <td>0.352442</td>\n",
       "      <td>0.112023</td>\n",
       "      <td>0.0043</td>\n",
       "    </tr>\n",
       "    <tr>\n",
       "      <th>age5</th>\n",
       "      <td>-0.033134</td>\n",
       "      <td>0.128998</td>\n",
       "      <td>0.9307</td>\n",
       "    </tr>\n",
       "    <tr>\n",
       "      <th>age6</th>\n",
       "      <td>-0.043382</td>\n",
       "      <td>0.124698</td>\n",
       "      <td>0.9280</td>\n",
       "    </tr>\n",
       "    <tr>\n",
       "      <th>ab</th>\n",
       "      <td>-2.463974</td>\n",
       "      <td>0.105200</td>\n",
       "      <td>0.0000</td>\n",
       "    </tr>\n",
       "    <tr>\n",
       "      <th>c1</th>\n",
       "      <td>-2.141438</td>\n",
       "      <td>0.078651</td>\n",
       "      <td>0.0000</td>\n",
       "    </tr>\n",
       "    <tr>\n",
       "      <th>c2</th>\n",
       "      <td>-0.773961</td>\n",
       "      <td>0.054843</td>\n",
       "      <td>0.0000</td>\n",
       "    </tr>\n",
       "    <tr>\n",
       "      <th>children</th>\n",
       "      <td>0.319314</td>\n",
       "      <td>0.060554</td>\n",
       "      <td>0.0001</td>\n",
       "    </tr>\n",
       "    <tr>\n",
       "      <th>council</th>\n",
       "      <td>-0.177276</td>\n",
       "      <td>0.064229</td>\n",
       "      <td>0.0004</td>\n",
       "    </tr>\n",
       "    <tr>\n",
       "      <th>emp_ft</th>\n",
       "      <td>0.384183</td>\n",
       "      <td>0.059920</td>\n",
       "      <td>0.0000</td>\n",
       "    </tr>\n",
       "    <tr>\n",
       "      <th>emp_hwife</th>\n",
       "      <td>0.116146</td>\n",
       "      <td>0.067907</td>\n",
       "      <td>0.0084</td>\n",
       "    </tr>\n",
       "    <tr>\n",
       "      <th>no_dish</th>\n",
       "      <td>-0.034195</td>\n",
       "      <td>0.017149</td>\n",
       "      <td>0.0074</td>\n",
       "    </tr>\n",
       "    <tr>\n",
       "      <th>n_videos</th>\n",
       "      <td>0.232366</td>\n",
       "      <td>0.032142</td>\n",
       "      <td>0.0000</td>\n",
       "    </tr>\n",
       "    <tr>\n",
       "      <th>price</th>\n",
       "      <td>-0.093456</td>\n",
       "      <td>0.009642</td>\n",
       "      <td>0.0000</td>\n",
       "    </tr>\n",
       "    <tr>\n",
       "      <th>price_mc</th>\n",
       "      <td>-0.034265</td>\n",
       "      <td>0.020003</td>\n",
       "      <td>0.4265</td>\n",
       "    </tr>\n",
       "    <tr>\n",
       "      <th>prog_qual</th>\n",
       "      <td>0.088074</td>\n",
       "      <td>0.027199</td>\n",
       "      <td>0.2054</td>\n",
       "    </tr>\n",
       "    <tr>\n",
       "      <th>race</th>\n",
       "      <td>0.035050</td>\n",
       "      <td>0.022927</td>\n",
       "      <td>0.1913</td>\n",
       "    </tr>\n",
       "    <tr>\n",
       "      <th>rent</th>\n",
       "      <td>-0.129155</td>\n",
       "      <td>0.080776</td>\n",
       "      <td>0.0119</td>\n",
       "    </tr>\n",
       "    <tr>\n",
       "      <th>sat_have</th>\n",
       "      <td>0.574864</td>\n",
       "      <td>0.062670</td>\n",
       "      <td>0.0000</td>\n",
       "    </tr>\n",
       "    <tr>\n",
       "      <th>sex</th>\n",
       "      <td>0.163320</td>\n",
       "      <td>0.054901</td>\n",
       "      <td>0.0360</td>\n",
       "    </tr>\n",
       "    <tr>\n",
       "      <th>tv-satis</th>\n",
       "      <td>-0.144714</td>\n",
       "      <td>0.021217</td>\n",
       "      <td>0.0000</td>\n",
       "    </tr>\n",
       "    <tr>\n",
       "      <th>value</th>\n",
       "      <td>0.088687</td>\n",
       "      <td>0.018961</td>\n",
       "      <td>0.0002</td>\n",
       "    </tr>\n",
       "    <tr>\n",
       "      <th>vcr_have</th>\n",
       "      <td>0.220986</td>\n",
       "      <td>0.064196</td>\n",
       "      <td>0.0008</td>\n",
       "    </tr>\n",
       "    <tr>\n",
       "      <th>bbc1</th>\n",
       "      <td>0.088993</td>\n",
       "      <td>0.048958</td>\n",
       "      <td>0.0453</td>\n",
       "    </tr>\n",
       "    <tr>\n",
       "      <th>bbc2</th>\n",
       "      <td>0.131079</td>\n",
       "      <td>0.083494</td>\n",
       "      <td>0.0290</td>\n",
       "    </tr>\n",
       "    <tr>\n",
       "      <th>itv</th>\n",
       "      <td>-0.298324</td>\n",
       "      <td>0.050173</td>\n",
       "      <td>0.0001</td>\n",
       "    </tr>\n",
       "    <tr>\n",
       "      <th>ch4</th>\n",
       "      <td>-0.217667</td>\n",
       "      <td>0.077561</td>\n",
       "      <td>0.0371</td>\n",
       "    </tr>\n",
       "  </tbody>\n",
       "</table>\n",
       "</div>"
      ],
      "text/plain": [
       "           Coefficients        SE  p-value\n",
       "c              0.606557  0.272343   0.0246\n",
       "age2           0.230406  0.111368   0.0229\n",
       "age3           0.386097  0.111958   0.0057\n",
       "age4           0.352442  0.112023   0.0043\n",
       "age5          -0.033134  0.128998   0.9307\n",
       "age6          -0.043382  0.124698   0.9280\n",
       "ab            -2.463974  0.105200   0.0000\n",
       "c1            -2.141438  0.078651   0.0000\n",
       "c2            -0.773961  0.054843   0.0000\n",
       "children       0.319314  0.060554   0.0001\n",
       "council       -0.177276  0.064229   0.0004\n",
       "emp_ft         0.384183  0.059920   0.0000\n",
       "emp_hwife      0.116146  0.067907   0.0084\n",
       "no_dish       -0.034195  0.017149   0.0074\n",
       "n_videos       0.232366  0.032142   0.0000\n",
       "price         -0.093456  0.009642   0.0000\n",
       "price_mc      -0.034265  0.020003   0.4265\n",
       "prog_qual      0.088074  0.027199   0.2054\n",
       "race           0.035050  0.022927   0.1913\n",
       "rent          -0.129155  0.080776   0.0119\n",
       "sat_have       0.574864  0.062670   0.0000\n",
       "sex            0.163320  0.054901   0.0360\n",
       "tv-satis      -0.144714  0.021217   0.0000\n",
       "value          0.088687  0.018961   0.0002\n",
       "vcr_have       0.220986  0.064196   0.0008\n",
       "bbc1           0.088993  0.048958   0.0453\n",
       "bbc2           0.131079  0.083494   0.0290\n",
       "itv           -0.298324  0.050173   0.0001\n",
       "ch4           -0.217667  0.077561   0.0371"
      ]
     },
     "execution_count": 16,
     "metadata": {},
     "output_type": "execute_result"
    }
   ],
   "source": [
    "# Please see eviews_output for an Eviews comparison; though there may exist some minute differences in\n",
    "# calculation (esp. for the constant term), we think our estimates are sufficiently to Eviews close to justify moving forward.\n",
    "\n",
    "# Eviews claims that, since normality conditions only hold asymptotically, a reported t-statistic is erroneous.\n",
    "# We were unable to find the Eviews derivation of a p-value in a reasonable amount of time; due to the similarity of coefficients\n",
    "# and SEs across the model elsewhere, we will just assume that the p-values derived from E-views apply here.  We can spend some\n",
    "# more time tracking down and copying Eviews method if it would be a valuable exercise.\n",
    "\n",
    "summary = Model.summary\n",
    "summary = summary.drop('t-stat', axis=1)\n",
    "\n",
    "eviews_output = pd.read_csv('./eviews_output.csv')\n",
    "summary['p-value'] = list(eviews_output['Prob\\xa0\\xa0']) # I have no idea...weird encoding issue\n",
    "\n",
    "summary"
   ]
  },
  {
   "cell_type": "markdown",
   "metadata": {},
   "source": [
    "# Applied-Like Process Improvement"
   ]
  },
  {
   "cell_type": "code",
   "execution_count": 17,
   "metadata": {
    "collapsed": true
   },
   "outputs": [],
   "source": [
    "# Quick notes:  As with the original Applied project, we don't have many sign priors outside of the obvious: \n",
    "\n",
    "    # negative sign on price\n",
    "    # negative sign on income measures (low-class stigma, inferior good - entertainment)\n",
    "    # negative sign on the price of compliments (price_mc)\n",
    "\n",
    "# Weaker cases can be made for other beliefs:\n",
    "\n",
    "    # negative sign on rent (lease agreement forbids installation)\n",
    "    # negative sign on consumption of disimliar programming (high-brow BBC channels)\n",
    "    # positive sign on consumption of similar programming (low-brow ITV & CH4)\n",
    "    \n",
    "# Elsewhere, cultural differences between the US and UK, as well as the existince of cross directional multiple marginal effects\n",
    "# within the same variables (kids want tv more than adults, but parents don't want them to watch it) preclude strong\n",
    "# assumptions about the effect of other demographic information.\n",
    "\n",
    "# ***This should probably be done in order of prior violation magnitude, but we attempt all drops simultaneously for brevity***\n",
    "\n",
    "# A minor prior violation on the income measures of EMP_FT and EMP_HWIFE (redundant proxies for income?) suggests a drop of both\n",
    "\n",
    "# Since program quality is likely proxying an effect like value and it is statistically insignificant, we attempt a drop\n",
    "\n",
    "# Since we don't have strong priors about the importance of the stat. insignificant Race, we attempt a drop\n",
    "\n",
    "# price_mc is also insignificant, but we have good reasons from theory to leave it in (price of compliment, correctly signed)\n",
    "\n",
    "# sex will prove to be insignificant in later rounds of testing; also dropped here for brevity"
   ]
  },
  {
   "cell_type": "code",
   "execution_count": 18,
   "metadata": {
    "collapsed": true
   },
   "outputs": [],
   "source": [
    "# As an applied exercise, I think it makes more sense to specify what to include, as opposed to what\n",
    "# you want to exclude.\n",
    "\n",
    "features_2 = ['c', 'age2', 'age3', 'age4', 'age5', 'age6', 'ab', 'c1', 'c2', 'children', 'council', 'no_dish',\n",
    "       'n_videos', 'price', 'price_mc', 'rent', 'sat_have', 'tv-satis', 'value', 'vcr_have', 'bbc1', 'bbc2', 'itv', 'ch4']"
   ]
  },
  {
   "cell_type": "code",
   "execution_count": 19,
   "metadata": {
    "collapsed": false
   },
   "outputs": [],
   "source": [
    "X2, y2 = CableTrain.getXy(features_2, target_name)"
   ]
  },
  {
   "cell_type": "code",
   "execution_count": 20,
   "metadata": {
    "collapsed": false
   },
   "outputs": [
    {
     "data": {
      "text/plain": [
       "ExtLogisticRegression()"
      ]
     },
     "execution_count": 20,
     "metadata": {},
     "output_type": "execute_result"
    }
   ],
   "source": [
    "Model.fit(X2, y2)"
   ]
  },
  {
   "cell_type": "code",
   "execution_count": 21,
   "metadata": {
    "collapsed": false
   },
   "outputs": [],
   "source": [
    "Model.getStats(X2, features_2)"
   ]
  },
  {
   "cell_type": "code",
   "execution_count": 22,
   "metadata": {
    "collapsed": true
   },
   "outputs": [],
   "source": [
    "eviews_output = pd.read_csv('./eviews_output_final_model.csv')"
   ]
  },
  {
   "cell_type": "code",
   "execution_count": 23,
   "metadata": {
    "collapsed": false,
    "scrolled": true
   },
   "outputs": [
    {
     "data": {
      "text/html": [
       "<div>\n",
       "<style scoped>\n",
       "    .dataframe tbody tr th:only-of-type {\n",
       "        vertical-align: middle;\n",
       "    }\n",
       "\n",
       "    .dataframe tbody tr th {\n",
       "        vertical-align: top;\n",
       "    }\n",
       "\n",
       "    .dataframe thead th {\n",
       "        text-align: right;\n",
       "    }\n",
       "</style>\n",
       "<table border=\"1\" class=\"dataframe\">\n",
       "  <thead>\n",
       "    <tr style=\"text-align: right;\">\n",
       "      <th></th>\n",
       "      <th>Coefficients</th>\n",
       "      <th>SE</th>\n",
       "      <th>p-value</th>\n",
       "    </tr>\n",
       "  </thead>\n",
       "  <tbody>\n",
       "    <tr>\n",
       "      <th>c</th>\n",
       "      <td>0.606557</td>\n",
       "      <td>0.272343</td>\n",
       "      <td>0.0246</td>\n",
       "    </tr>\n",
       "    <tr>\n",
       "      <th>age2</th>\n",
       "      <td>0.230406</td>\n",
       "      <td>0.111368</td>\n",
       "      <td>0.0229</td>\n",
       "    </tr>\n",
       "    <tr>\n",
       "      <th>age3</th>\n",
       "      <td>0.386097</td>\n",
       "      <td>0.111958</td>\n",
       "      <td>0.0057</td>\n",
       "    </tr>\n",
       "    <tr>\n",
       "      <th>age4</th>\n",
       "      <td>0.352442</td>\n",
       "      <td>0.112023</td>\n",
       "      <td>0.0043</td>\n",
       "    </tr>\n",
       "    <tr>\n",
       "      <th>age5</th>\n",
       "      <td>-0.033134</td>\n",
       "      <td>0.128998</td>\n",
       "      <td>0.9307</td>\n",
       "    </tr>\n",
       "    <tr>\n",
       "      <th>age6</th>\n",
       "      <td>-0.043382</td>\n",
       "      <td>0.124698</td>\n",
       "      <td>0.9280</td>\n",
       "    </tr>\n",
       "    <tr>\n",
       "      <th>ab</th>\n",
       "      <td>-2.463974</td>\n",
       "      <td>0.105200</td>\n",
       "      <td>0.0000</td>\n",
       "    </tr>\n",
       "    <tr>\n",
       "      <th>c1</th>\n",
       "      <td>-2.141438</td>\n",
       "      <td>0.078651</td>\n",
       "      <td>0.0000</td>\n",
       "    </tr>\n",
       "    <tr>\n",
       "      <th>c2</th>\n",
       "      <td>-0.773961</td>\n",
       "      <td>0.054843</td>\n",
       "      <td>0.0000</td>\n",
       "    </tr>\n",
       "    <tr>\n",
       "      <th>children</th>\n",
       "      <td>0.319314</td>\n",
       "      <td>0.060554</td>\n",
       "      <td>0.0001</td>\n",
       "    </tr>\n",
       "    <tr>\n",
       "      <th>council</th>\n",
       "      <td>-0.177276</td>\n",
       "      <td>0.064229</td>\n",
       "      <td>0.0004</td>\n",
       "    </tr>\n",
       "    <tr>\n",
       "      <th>emp_ft</th>\n",
       "      <td>0.384183</td>\n",
       "      <td>0.059920</td>\n",
       "      <td>0.0000</td>\n",
       "    </tr>\n",
       "    <tr>\n",
       "      <th>emp_hwife</th>\n",
       "      <td>0.116146</td>\n",
       "      <td>0.067907</td>\n",
       "      <td>0.0084</td>\n",
       "    </tr>\n",
       "    <tr>\n",
       "      <th>no_dish</th>\n",
       "      <td>-0.034195</td>\n",
       "      <td>0.017149</td>\n",
       "      <td>0.0074</td>\n",
       "    </tr>\n",
       "    <tr>\n",
       "      <th>n_videos</th>\n",
       "      <td>0.232366</td>\n",
       "      <td>0.032142</td>\n",
       "      <td>0.0000</td>\n",
       "    </tr>\n",
       "    <tr>\n",
       "      <th>price</th>\n",
       "      <td>-0.093456</td>\n",
       "      <td>0.009642</td>\n",
       "      <td>0.0000</td>\n",
       "    </tr>\n",
       "    <tr>\n",
       "      <th>price_mc</th>\n",
       "      <td>-0.034265</td>\n",
       "      <td>0.020003</td>\n",
       "      <td>0.4265</td>\n",
       "    </tr>\n",
       "    <tr>\n",
       "      <th>prog_qual</th>\n",
       "      <td>0.088074</td>\n",
       "      <td>0.027199</td>\n",
       "      <td>0.2054</td>\n",
       "    </tr>\n",
       "    <tr>\n",
       "      <th>race</th>\n",
       "      <td>0.035050</td>\n",
       "      <td>0.022927</td>\n",
       "      <td>0.1913</td>\n",
       "    </tr>\n",
       "    <tr>\n",
       "      <th>rent</th>\n",
       "      <td>-0.129155</td>\n",
       "      <td>0.080776</td>\n",
       "      <td>0.0119</td>\n",
       "    </tr>\n",
       "    <tr>\n",
       "      <th>sat_have</th>\n",
       "      <td>0.574864</td>\n",
       "      <td>0.062670</td>\n",
       "      <td>0.0000</td>\n",
       "    </tr>\n",
       "    <tr>\n",
       "      <th>sex</th>\n",
       "      <td>0.163320</td>\n",
       "      <td>0.054901</td>\n",
       "      <td>0.0360</td>\n",
       "    </tr>\n",
       "    <tr>\n",
       "      <th>tv-satis</th>\n",
       "      <td>-0.144714</td>\n",
       "      <td>0.021217</td>\n",
       "      <td>0.0000</td>\n",
       "    </tr>\n",
       "    <tr>\n",
       "      <th>value</th>\n",
       "      <td>0.088687</td>\n",
       "      <td>0.018961</td>\n",
       "      <td>0.0002</td>\n",
       "    </tr>\n",
       "    <tr>\n",
       "      <th>vcr_have</th>\n",
       "      <td>0.220986</td>\n",
       "      <td>0.064196</td>\n",
       "      <td>0.0008</td>\n",
       "    </tr>\n",
       "    <tr>\n",
       "      <th>bbc1</th>\n",
       "      <td>0.088993</td>\n",
       "      <td>0.048958</td>\n",
       "      <td>0.0453</td>\n",
       "    </tr>\n",
       "    <tr>\n",
       "      <th>bbc2</th>\n",
       "      <td>0.131079</td>\n",
       "      <td>0.083494</td>\n",
       "      <td>0.0290</td>\n",
       "    </tr>\n",
       "    <tr>\n",
       "      <th>itv</th>\n",
       "      <td>-0.298324</td>\n",
       "      <td>0.050173</td>\n",
       "      <td>0.0001</td>\n",
       "    </tr>\n",
       "    <tr>\n",
       "      <th>ch4</th>\n",
       "      <td>-0.217667</td>\n",
       "      <td>0.077561</td>\n",
       "      <td>0.0371</td>\n",
       "    </tr>\n",
       "  </tbody>\n",
       "</table>\n",
       "</div>"
      ],
      "text/plain": [
       "           Coefficients        SE  p-value\n",
       "c              0.606557  0.272343   0.0246\n",
       "age2           0.230406  0.111368   0.0229\n",
       "age3           0.386097  0.111958   0.0057\n",
       "age4           0.352442  0.112023   0.0043\n",
       "age5          -0.033134  0.128998   0.9307\n",
       "age6          -0.043382  0.124698   0.9280\n",
       "ab            -2.463974  0.105200   0.0000\n",
       "c1            -2.141438  0.078651   0.0000\n",
       "c2            -0.773961  0.054843   0.0000\n",
       "children       0.319314  0.060554   0.0001\n",
       "council       -0.177276  0.064229   0.0004\n",
       "emp_ft         0.384183  0.059920   0.0000\n",
       "emp_hwife      0.116146  0.067907   0.0084\n",
       "no_dish       -0.034195  0.017149   0.0074\n",
       "n_videos       0.232366  0.032142   0.0000\n",
       "price         -0.093456  0.009642   0.0000\n",
       "price_mc      -0.034265  0.020003   0.4265\n",
       "prog_qual      0.088074  0.027199   0.2054\n",
       "race           0.035050  0.022927   0.1913\n",
       "rent          -0.129155  0.080776   0.0119\n",
       "sat_have       0.574864  0.062670   0.0000\n",
       "sex            0.163320  0.054901   0.0360\n",
       "tv-satis      -0.144714  0.021217   0.0000\n",
       "value          0.088687  0.018961   0.0002\n",
       "vcr_have       0.220986  0.064196   0.0008\n",
       "bbc1           0.088993  0.048958   0.0453\n",
       "bbc2           0.131079  0.083494   0.0290\n",
       "itv           -0.298324  0.050173   0.0001\n",
       "ch4           -0.217667  0.077561   0.0371"
      ]
     },
     "execution_count": 23,
     "metadata": {},
     "output_type": "execute_result"
    }
   ],
   "source": [
    "summary"
   ]
  },
  {
   "cell_type": "code",
   "execution_count": 24,
   "metadata": {
    "collapsed": false,
    "scrolled": true
   },
   "outputs": [
    {
     "data": {
      "text/html": [
       "<div>\n",
       "<style scoped>\n",
       "    .dataframe tbody tr th:only-of-type {\n",
       "        vertical-align: middle;\n",
       "    }\n",
       "\n",
       "    .dataframe tbody tr th {\n",
       "        vertical-align: top;\n",
       "    }\n",
       "\n",
       "    .dataframe thead th {\n",
       "        text-align: right;\n",
       "    }\n",
       "</style>\n",
       "<table border=\"1\" class=\"dataframe\">\n",
       "  <thead>\n",
       "    <tr style=\"text-align: right;\">\n",
       "      <th></th>\n",
       "      <th>Coefficients</th>\n",
       "      <th>SE</th>\n",
       "      <th>p-value</th>\n",
       "    </tr>\n",
       "  </thead>\n",
       "  <tbody>\n",
       "    <tr>\n",
       "      <th>c</th>\n",
       "      <td>0.710048</td>\n",
       "      <td>0.258144</td>\n",
       "      <td>0.0001</td>\n",
       "    </tr>\n",
       "    <tr>\n",
       "      <th>age2</th>\n",
       "      <td>0.319995</td>\n",
       "      <td>0.110186</td>\n",
       "      <td>0.0109</td>\n",
       "    </tr>\n",
       "    <tr>\n",
       "      <th>age3</th>\n",
       "      <td>0.426188</td>\n",
       "      <td>0.111086</td>\n",
       "      <td>0.0054</td>\n",
       "    </tr>\n",
       "    <tr>\n",
       "      <th>age4</th>\n",
       "      <td>0.376864</td>\n",
       "      <td>0.110210</td>\n",
       "      <td>0.0100</td>\n",
       "    </tr>\n",
       "    <tr>\n",
       "      <th>age5</th>\n",
       "      <td>-0.133371</td>\n",
       "      <td>0.125621</td>\n",
       "      <td>0.3484</td>\n",
       "    </tr>\n",
       "    <tr>\n",
       "      <th>age6</th>\n",
       "      <td>-0.201481</td>\n",
       "      <td>0.117999</td>\n",
       "      <td>0.1037</td>\n",
       "    </tr>\n",
       "    <tr>\n",
       "      <th>ab</th>\n",
       "      <td>-2.419159</td>\n",
       "      <td>0.103651</td>\n",
       "      <td>0.0000</td>\n",
       "    </tr>\n",
       "    <tr>\n",
       "      <th>c1</th>\n",
       "      <td>-2.036758</td>\n",
       "      <td>0.075391</td>\n",
       "      <td>0.0000</td>\n",
       "    </tr>\n",
       "    <tr>\n",
       "      <th>c2</th>\n",
       "      <td>-0.752647</td>\n",
       "      <td>0.053890</td>\n",
       "      <td>0.0000</td>\n",
       "    </tr>\n",
       "    <tr>\n",
       "      <th>children</th>\n",
       "      <td>0.200951</td>\n",
       "      <td>0.058194</td>\n",
       "      <td>0.0029</td>\n",
       "    </tr>\n",
       "    <tr>\n",
       "      <th>council</th>\n",
       "      <td>-0.213011</td>\n",
       "      <td>0.063207</td>\n",
       "      <td>0.0001</td>\n",
       "    </tr>\n",
       "    <tr>\n",
       "      <th>no_dish</th>\n",
       "      <td>-0.045209</td>\n",
       "      <td>0.016620</td>\n",
       "      <td>0.0030</td>\n",
       "    </tr>\n",
       "    <tr>\n",
       "      <th>n_videos</th>\n",
       "      <td>0.246239</td>\n",
       "      <td>0.031540</td>\n",
       "      <td>0.0000</td>\n",
       "    </tr>\n",
       "    <tr>\n",
       "      <th>price</th>\n",
       "      <td>-0.088099</td>\n",
       "      <td>0.009461</td>\n",
       "      <td>0.0000</td>\n",
       "    </tr>\n",
       "    <tr>\n",
       "      <th>price_mc</th>\n",
       "      <td>-0.037361</td>\n",
       "      <td>0.019565</td>\n",
       "      <td>0.4462</td>\n",
       "    </tr>\n",
       "    <tr>\n",
       "      <th>rent</th>\n",
       "      <td>-0.163439</td>\n",
       "      <td>0.079770</td>\n",
       "      <td>0.0039</td>\n",
       "    </tr>\n",
       "    <tr>\n",
       "      <th>sat_have</th>\n",
       "      <td>0.609405</td>\n",
       "      <td>0.061446</td>\n",
       "      <td>0.0000</td>\n",
       "    </tr>\n",
       "    <tr>\n",
       "      <th>tv-satis</th>\n",
       "      <td>-0.136036</td>\n",
       "      <td>0.020859</td>\n",
       "      <td>0.0000</td>\n",
       "    </tr>\n",
       "    <tr>\n",
       "      <th>value</th>\n",
       "      <td>0.115063</td>\n",
       "      <td>0.017221</td>\n",
       "      <td>0.0000</td>\n",
       "    </tr>\n",
       "    <tr>\n",
       "      <th>vcr_have</th>\n",
       "      <td>0.201981</td>\n",
       "      <td>0.063256</td>\n",
       "      <td>0.0025</td>\n",
       "    </tr>\n",
       "    <tr>\n",
       "      <th>bbc1</th>\n",
       "      <td>0.065008</td>\n",
       "      <td>0.048438</td>\n",
       "      <td>0.0525</td>\n",
       "    </tr>\n",
       "    <tr>\n",
       "      <th>bbc2</th>\n",
       "      <td>0.106335</td>\n",
       "      <td>0.082466</td>\n",
       "      <td>0.0699</td>\n",
       "    </tr>\n",
       "    <tr>\n",
       "      <th>itv</th>\n",
       "      <td>-0.266400</td>\n",
       "      <td>0.048888</td>\n",
       "      <td>0.0002</td>\n",
       "    </tr>\n",
       "    <tr>\n",
       "      <th>ch4</th>\n",
       "      <td>-0.205840</td>\n",
       "      <td>0.076419</td>\n",
       "      <td>0.0430</td>\n",
       "    </tr>\n",
       "  </tbody>\n",
       "</table>\n",
       "</div>"
      ],
      "text/plain": [
       "          Coefficients        SE  p-value\n",
       "c             0.710048  0.258144   0.0001\n",
       "age2          0.319995  0.110186   0.0109\n",
       "age3          0.426188  0.111086   0.0054\n",
       "age4          0.376864  0.110210   0.0100\n",
       "age5         -0.133371  0.125621   0.3484\n",
       "age6         -0.201481  0.117999   0.1037\n",
       "ab           -2.419159  0.103651   0.0000\n",
       "c1           -2.036758  0.075391   0.0000\n",
       "c2           -0.752647  0.053890   0.0000\n",
       "children      0.200951  0.058194   0.0029\n",
       "council      -0.213011  0.063207   0.0001\n",
       "no_dish      -0.045209  0.016620   0.0030\n",
       "n_videos      0.246239  0.031540   0.0000\n",
       "price        -0.088099  0.009461   0.0000\n",
       "price_mc     -0.037361  0.019565   0.4462\n",
       "rent         -0.163439  0.079770   0.0039\n",
       "sat_have      0.609405  0.061446   0.0000\n",
       "tv-satis     -0.136036  0.020859   0.0000\n",
       "value         0.115063  0.017221   0.0000\n",
       "vcr_have      0.201981  0.063256   0.0025\n",
       "bbc1          0.065008  0.048438   0.0525\n",
       "bbc2          0.106335  0.082466   0.0699\n",
       "itv          -0.266400  0.048888   0.0002\n",
       "ch4          -0.205840  0.076419   0.0430"
      ]
     },
     "execution_count": 24,
     "metadata": {},
     "output_type": "execute_result"
    }
   ],
   "source": [
    "summary = Model.summary\n",
    "summary = summary.drop('t-stat', axis=1)\n",
    "\n",
    "eviews_output = pd.read_csv('./eviews_output_final_model.csv')\n",
    "summary['p-value'] = list(eviews_output['Prob\\xa0\\xa0']) # weird encoding issue\n",
    "\n",
    "summary"
   ]
  },
  {
   "cell_type": "markdown",
   "metadata": {},
   "source": [
    "# Final Model Evaluation & Comments:"
   ]
  },
  {
   "cell_type": "code",
   "execution_count": 25,
   "metadata": {
    "collapsed": true
   },
   "outputs": [],
   "source": [
    "# Our only remaining prior violation was somewhat weak (we don't have strong beliefs about previous television consumption)\n",
    "# Our only remaining statistical insignificance gripes are with an age dummy; we should test their joint significance, \n",
    "# but programming a Wald-test from scratch seems excessive; we just leave them in for simplicities sake.\n",
    "\n",
    "FinalModel = Model\n",
    "\n",
    "# Lets see how the model predicts w.r.t. the training data and hold out:"
   ]
  },
  {
   "cell_type": "code",
   "execution_count": 26,
   "metadata": {
    "collapsed": true
   },
   "outputs": [],
   "source": [
    "def getPhat(model, X):\n",
    "    \n",
    "    predictions = model.predict_proba(X)\n",
    "    predictions = [p[1] for p in predictions]\n",
    "    \n",
    "    return sum(predictions) / len(predictions)"
   ]
  },
  {
   "cell_type": "code",
   "execution_count": 27,
   "metadata": {
    "collapsed": false
   },
   "outputs": [
    {
     "data": {
      "text/plain": [
       "(0.30302264937012563, 0.30355220667384286)"
      ]
     },
     "execution_count": 27,
     "metadata": {},
     "output_type": "execute_result"
    }
   ],
   "source": [
    "# Report the average predicted p(buy) and actual p(buy) across the training set\n",
    "\n",
    "getPhat(FinalModel, X2), y.mean() # Looks good"
   ]
  },
  {
   "cell_type": "code",
   "execution_count": 30,
   "metadata": {
    "collapsed": false
   },
   "outputs": [],
   "source": [
    "CableHold = Dataset(cable_holdout)"
   ]
  },
  {
   "cell_type": "code",
   "execution_count": 29,
   "metadata": {
    "collapsed": true
   },
   "outputs": [],
   "source": [
    "XH, yH = CableHold.getXy(features_2, target_name)"
   ]
  },
  {
   "cell_type": "code",
   "execution_count": 31,
   "metadata": {
    "collapsed": false
   },
   "outputs": [
    {
     "data": {
      "text/plain": [
       "(0.306791031110274, 0.3229166666666667)"
      ]
     },
     "execution_count": 31,
     "metadata": {},
     "output_type": "execute_result"
    }
   ],
   "source": [
    "# Report the average predict p(buy) and actual p(buy) across the holdout\n",
    "\n",
    "getPhat(FinalModel, XH), yH.mean() # looks ~ok"
   ]
  },
  {
   "cell_type": "code",
   "execution_count": 32,
   "metadata": {
    "collapsed": true
   },
   "outputs": [],
   "source": [
    "# Our final model looks like it predicts well across our hold-out\n",
    "# All in all, we think that the Applied-like logisticRegression model is, at least somewhat, believable\n",
    "# Moving on to what-if questions..."
   ]
  },
  {
   "cell_type": "markdown",
   "metadata": {},
   "source": [
    "# KFold Cross Validation of a Logistic Regression"
   ]
  },
  {
   "cell_type": "code",
   "execution_count": 33,
   "metadata": {
    "collapsed": true
   },
   "outputs": [],
   "source": [
    "from sklearn import model_selection\n",
    "import random"
   ]
  },
  {
   "cell_type": "code",
   "execution_count": 37,
   "metadata": {
    "collapsed": false
   },
   "outputs": [
    {
     "data": {
      "text/plain": [
       "ExtLogisticRegression()"
      ]
     },
     "execution_count": 37,
     "metadata": {},
     "output_type": "execute_result"
    }
   ],
   "source": [
    "Cable = Dataset(cable_all)\n",
    "\n",
    "X, y = Cable.getXy(features_2, target_name)\n",
    "FinalModel.fit(X, y) # No reason to waste data"
   ]
  },
  {
   "cell_type": "code",
   "execution_count": 38,
   "metadata": {
    "collapsed": false
   },
   "outputs": [
    {
     "data": {
      "text/plain": [
       "array([0.73206377, 0.73737821, 0.73250664, 0.74224978, 0.75287865])"
      ]
     },
     "execution_count": 38,
     "metadata": {},
     "output_type": "execute_result"
    }
   ],
   "source": [
    "folds = 5\n",
    "rstate = 420\n",
    "\n",
    "kfold = model_selection.KFold(n_splits=folds, random_state=rstate) \n",
    "cv_result = model_selection.cross_val_score(LogisticRegression(), X, y, cv=kfold, scoring='accuracy')\n",
    "\n",
    "cv_result"
   ]
  },
  {
   "cell_type": "code",
   "execution_count": null,
   "metadata": {
    "collapsed": true
   },
   "outputs": [],
   "source": [
    "# http://t-redactyl.io/blog/2015/10/using-k-fold-cross-validation-to-estimate-out-of-sample-accuracy.html"
   ]
  },
  {
   "cell_type": "code",
   "execution_count": null,
   "metadata": {
    "collapsed": false
   },
   "outputs": [],
   "source": [
    "# What does this result tell us?  Not much in and of itself; \n",
    "\n",
    "\n",
    "# ~ 95% CI interval\n",
    "# Is this normally distributed?\n",
    "\n",
    "# Central Limit Theorem:\n",
    "\n",
    "# is n large enough ?\n",
    "# Since each round of cross validationRegardless, I can be sure that the sample means will be \n",
    "\n",
    "cv_means = np.array([])\n",
    "for i in range(0, 51):\n",
    "    \n",
    "    kfold = model_selection.KFold(n_splits=folds,shuffle=True) # Don't supply a seeded randomn state\n",
    "    cv_result = model_selection.cross_val_score(LogisticRegression(), X, y, cv=kfold, scoring='accuracy')\n",
    "    \n",
    "    cv_means = np.append(cv_means, cv_result.mean())"
   ]
  },
  {
   "cell_type": "code",
   "execution_count": null,
   "metadata": {
    "collapsed": false
   },
   "outputs": [],
   "source": [
    "plt.hist(cv_means, bins=15)\n",
    "plt.show()"
   ]
  },
  {
   "cell_type": "code",
   "execution_count": null,
   "metadata": {
    "collapsed": false
   },
   "outputs": [],
   "source": [
    "std = cv_means.std()\n",
    "mean = cv_means.mean()\n",
    "\n",
    "print('~95% CI: ', mean - (1.96 * std), '-', mean + (1.96 * std))\n",
    "\n",
    "# Is this result decieving me?  Am I actually all that concerned with how well behaved the means of cv tests\n",
    "# are, or am I singularly concerned with variance around individual estimates"
   ]
  },
  {
   "cell_type": "code",
   "execution_count": null,
   "metadata": {
    "collapsed": true
   },
   "outputs": [],
   "source": [
    "# We're a little confused as to what the result of a  KFold cross validation means in the context of a structural model:\n",
    "\n",
    "# In Applied, we reserved a holdout over a date range, presumably, on purpose; we were interested in testing wether or not\n",
    "# we had identified the causal relationships between y and X (the truth).  In a way, we were hoping that modest structural\n",
    "# change and/or input vector changes *had* taken place between the sample and holdout period, becuase if our model could\n",
    "# predict well under such circumstances, we could be reasonably confident in the robustness of our model in novel situations.\n",
    "\n",
    "# In machine learning: f*(x) = E(y | X); f* is the soln of argmin[c] of E(y|x) ([Y-c]^2 | X = x)\n",
    "\n",
    "# A Cross Validation test on a purely inferential model, therefore, can't give us an indication of how well the model is likely to\n",
    "# perform an unknown prediction set; it can only tell us wether structural change and/or input vector changes were present between the K and\n",
    "# K-1 Folds.\n",
    "\n",
    "# Sensitivity to sampling in a structural model (a failure to generalize) means that you have not identifed a general truth.\n",
    "\n",
    "# Sensitivity to sampling in an inferential framework (a failure to predict Y | X') means only that either \n",
    "# f*(X) =/= f**(X') -> structural change or X =/= X' -> no information"
   ]
  },
  {
   "cell_type": "markdown",
   "metadata": {},
   "source": [
    "# Elasticity Simulation"
   ]
  },
  {
   "cell_type": "code",
   "execution_count": null,
   "metadata": {
    "collapsed": true
   },
   "outputs": [],
   "source": [
    "def getSimulationRange(x, dx):\n",
    "    \n",
    "    # Accepts a series and a step: returns an ordered list ranging from the minimum to the maximum of the list\n",
    "    # in the series, seperated by steps\n",
    "    \n",
    "    min_x = min(x)\n",
    "    max_x = max(x)\n",
    "    \n",
    "    r = np.arange(min_x, max_x + dx, dx)\n",
    "    \n",
    "    return r"
   ]
  },
  {
   "cell_type": "code",
   "execution_count": null,
   "metadata": {
    "collapsed": false
   },
   "outputs": [],
   "source": [
    "def replaceCol(arr, index, val):\n",
    "    \n",
    "    arr[:, index] = val\n",
    "    return arr"
   ]
  },
  {
   "cell_type": "code",
   "execution_count": null,
   "metadata": {
    "collapsed": false
   },
   "outputs": [],
   "source": [
    "def getElasticity(demand_model, X_arr, price_index, min_price, max_price, dp=1):\n",
    "    \n",
    "    p1 = getSimulationRange([min_price, max_price], dp)\n",
    "    p2 = np.multiply(p1, 1.01)\n",
    "    delta = []\n",
    "    \n",
    "    for price1, price2 in zip(p1, p2):\n",
    "    \n",
    "        replaceCol(X_arr, price_index, price1)\n",
    "        y1 = getPhat(demand_model, X_arr)\n",
    "    \n",
    "        replaceCol(X_arr, price_index, price2)\n",
    "        y2 = getPhat(demand_model, X_arr)\n",
    "        \n",
    "        delta.append(y2 - y1)\n",
    "        \n",
    "    return p1, p2, delta "
   ]
  },
  {
   "cell_type": "code",
   "execution_count": null,
   "metadata": {
    "collapsed": false
   },
   "outputs": [],
   "source": [
    "# Note that these are still differences in probabilities, so to obtain demand figures we must assume a market size\n",
    "\n",
    "price_index = 13\n",
    "\n",
    "X, y = Cable.getXy(features_2, target_name)\n",
    "\n",
    "FinalModel.fit(X, y) # no need to waste data\n",
    "\n",
    "\n",
    "p1, p2, delta = getElasticity(FinalModel, X, price_index, 8, 15, 0.25)"
   ]
  },
  {
   "cell_type": "code",
   "execution_count": null,
   "metadata": {
    "collapsed": false
   },
   "outputs": [],
   "source": [
    "Elasticities = pd.DataFrame({'Price': p1, 'Price Elasticity of Demand': delta})"
   ]
  },
  {
   "cell_type": "code",
   "execution_count": null,
   "metadata": {
    "collapsed": false
   },
   "outputs": [],
   "source": [
    "Elasticities # These are all still in terms of probability differentials, supply a market size for demand estimations"
   ]
  },
  {
   "cell_type": "code",
   "execution_count": null,
   "metadata": {
    "collapsed": true
   },
   "outputs": [],
   "source": []
  }
 ],
 "metadata": {
  "kernelspec": {
   "display_name": "Python 3",
   "language": "python",
   "name": "python3"
  },
  "language_info": {
   "codemirror_mode": {
    "name": "ipython",
    "version": 3
   },
   "file_extension": ".py",
   "mimetype": "text/x-python",
   "name": "python",
   "nbconvert_exporter": "python",
   "pygments_lexer": "ipython3",
   "version": "3.5.4"
  }
 },
 "nbformat": 4,
 "nbformat_minor": 0
}
