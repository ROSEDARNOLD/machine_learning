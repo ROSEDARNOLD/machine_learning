{
 "cells": [
  {
   "cell_type": "code",
   "execution_count": 1,
   "metadata": {
    "collapsed": false
   },
   "outputs": [
    {
     "name": "stderr",
     "output_type": "stream",
     "text": [
      "C:\\Users\\cjrdn_000\\Anaconda3\\lib\\site-packages\\h5py\\__init__.py:34: FutureWarning: Conversion of the second argument of issubdtype from `float` to `np.floating` is deprecated. In future, it will be treated as `np.float64 == np.dtype(float).type`.\n",
      "  from ._conv import register_converters as _register_converters\n",
      "Using TensorFlow backend.\n"
     ]
    }
   ],
   "source": [
    "from keras.models import Sequential\n",
    "from keras.layers import Dense\n",
    "import numpy as np\n",
    "import pandas as pd"
   ]
  },
  {
   "cell_type": "code",
   "execution_count": 2,
   "metadata": {
    "collapsed": true
   },
   "outputs": [],
   "source": [
    "def CleanCableData(df):\n",
    "    \n",
    "    drop = ['YES', 'ID', 'age', 'class', 'tele_have']\n",
    "    df['value'] = [(i - 3) for i in df['value']] # Normalize (-2 to +2)\n",
    "    df = df[[col for col in df.columns if col not in drop]]\n",
    "    df = df.dropna()\n",
    "    \n",
    "    return df"
   ]
  },
  {
   "cell_type": "code",
   "execution_count": 3,
   "metadata": {
    "collapsed": false
   },
   "outputs": [],
   "source": [
    "# Since there are some semantic differences between the way we approach working with \n",
    "# datasets based on the problem pace (inferential statistics vs structural modeling) \n",
    "# we instantiate an object to deal with features of both.  Since we aren't amending the sklearn API\n",
    "# We can take the methods of 'fit' and 'predict' as a given; Whatever this class outputs\n",
    "# should be directly passed to fit metods -> must yield X, y\n",
    "\n",
    "class Dataset(object):\n",
    "    \n",
    "    def __init__(self, data):\n",
    "        \n",
    "        # since we are taking subsets later, no reason not to include now\n",
    "        \n",
    "        data.insert(0, column='c', value=1)\n",
    "        self.data = data\n",
    "        \n",
    "    # When do I drop n/a?\n",
    "    def getFeatures(self, names): return self.data[feature_names]\n",
    "    def getTargets(self, name): return self.data[target_name]\n",
    "    \n",
    "    # Pass directly to model fit methods\n",
    "    def getXy(self, feature_names, target_name):       \n",
    "        \n",
    "        relevant = self.data[feature_names + target_name] # Not dropping data unneccessarily\n",
    "        defined = relevant.dropna()\n",
    "        \n",
    "        X, y = np.array(defined[feature_names]), np.array(defined[target_name])\n",
    "        return X, y"
   ]
  },
  {
   "cell_type": "code",
   "execution_count": 4,
   "metadata": {
    "collapsed": true
   },
   "outputs": [],
   "source": [
    "cable = pd.read_csv('./Data/training.csv', na_values=(-999, 6))\n",
    "cable_holdout = pd.read_csv('./Data/holdout.csv', na_values=(-999, 6))"
   ]
  },
  {
   "cell_type": "code",
   "execution_count": 5,
   "metadata": {
    "collapsed": false
   },
   "outputs": [],
   "source": [
    "C = Dataset(cable)"
   ]
  },
  {
   "cell_type": "code",
   "execution_count": 6,
   "metadata": {
    "collapsed": false
   },
   "outputs": [],
   "source": [
    "feature_names = ['c', 'age2', 'age3', 'age4', 'age5', 'age6', 'ab', 'c1', 'c2', 'children', 'council', 'no_dish',\n",
    "                 'n_videos', 'price', 'price_mc', 'rent', 'sat_have', 'value', 'vcr_have', 'bbc1', 'bbc2', 'itv', 'ch4']\n",
    "target_name = ['buy']"
   ]
  },
  {
   "cell_type": "code",
   "execution_count": 7,
   "metadata": {
    "collapsed": false
   },
   "outputs": [],
   "source": [
    "X, y = C.getXy(feature_names, target_name)"
   ]
  },
  {
   "cell_type": "code",
   "execution_count": 8,
   "metadata": {
    "collapsed": false
   },
   "outputs": [
    {
     "data": {
      "text/plain": [
       "array([[0.],\n",
       "       [1.],\n",
       "       [0.],\n",
       "       ...,\n",
       "       [0.],\n",
       "       [0.],\n",
       "       [1.]])"
      ]
     },
     "execution_count": 8,
     "metadata": {},
     "output_type": "execute_result"
    }
   ],
   "source": [
    "y"
   ]
  },
  {
   "cell_type": "markdown",
   "metadata": {},
   "source": [
    "# Neural Net"
   ]
  },
  {
   "cell_type": "code",
   "execution_count": 9,
   "metadata": {
    "collapsed": true
   },
   "outputs": [],
   "source": [
    "# y = pd.DataFrame(cable['buy'])\n",
    "# X = cable[[col for col in cable.columns if col != 'buy']]\n",
    "\n",
    "k = X.shape[1]"
   ]
  },
  {
   "cell_type": "code",
   "execution_count": 13,
   "metadata": {
    "collapsed": false
   },
   "outputs": [
    {
     "data": {
      "text/plain": [
       "<keras.callbacks.History at 0x1816030e6a0>"
      ]
     },
     "execution_count": 13,
     "metadata": {},
     "output_type": "execute_result"
    }
   ],
   "source": [
    "# create a black box (GridSearchCV for param selection?)\n",
    "\n",
    "nn_model = Sequential()\n",
    "\n",
    "#input layer?\n",
    "nn_model.add(Dense(12, input_dim=k, activation='relu')) # why relu?\n",
    "\n",
    "# hidden layer?\n",
    "nn_model.add(Dense(k, activation='relu')) # why relu?\n",
    "\n",
    "#output layer?\n",
    "nn_model.add(Dense(1, activation='sigmoid')) # why sigmoid?\n",
    "\n",
    "nn_model.compile(loss='mean_squared_error', optimizer='adam') # why adam?\n",
    "\n",
    "nn_model.fit(X, y, verbose=0,epochs=100) # Why stop at 100?"
   ]
  },
  {
   "cell_type": "code",
   "execution_count": 14,
   "metadata": {
    "collapsed": false
   },
   "outputs": [],
   "source": [
    "nn_predictions = nn_model.predict_proba(X)"
   ]
  },
  {
   "cell_type": "code",
   "execution_count": 16,
   "metadata": {
    "collapsed": false
   },
   "outputs": [
    {
     "data": {
      "text/plain": [
       "0.294254"
      ]
     },
     "execution_count": 16,
     "metadata": {},
     "output_type": "execute_result"
    }
   ],
   "source": [
    "nn_predictions.mean()"
   ]
  },
  {
   "cell_type": "code",
   "execution_count": 17,
   "metadata": {
    "collapsed": false
   },
   "outputs": [
    {
     "data": {
      "text/plain": [
       "[array([[-6.14264905e-02,  1.08747393e-01, -4.67382163e-01,\n",
       "         -1.89632371e-01, -5.28563082e-01,  2.71239072e-01,\n",
       "          2.98165768e-01,  3.28177929e-01,  3.72975737e-01,\n",
       "          8.54555368e-02, -6.27162009e-02,  3.21265936e-01],\n",
       "        [ 2.84841388e-01, -5.24814665e-01, -1.76694065e-01,\n",
       "         -1.43943667e-01, -6.72344625e-01, -5.16115904e-01,\n",
       "         -8.93856585e-02, -6.46332026e-01,  7.35563487e-02,\n",
       "          1.48489863e-01,  3.45630825e-01, -3.21594119e-01],\n",
       "        [-6.86586201e-02, -8.62767756e-01,  1.28204972e-01,\n",
       "         -1.35206133e-01,  1.12264752e+00,  4.75006461e-01,\n",
       "          4.94193673e-01,  9.02821302e-01,  5.20843826e-02,\n",
       "          2.56231457e-01,  4.88485932e-01, -1.14304759e-03],\n",
       "        [ 3.58373731e-01, -2.64678329e-01,  9.43113506e-01,\n",
       "          8.34389627e-02,  1.11236525e+00, -8.66341531e-01,\n",
       "          3.23259562e-01,  2.56950051e-01,  2.59562999e-01,\n",
       "          4.20713052e-02,  3.73044938e-01,  3.67806107e-01],\n",
       "        [-3.82071674e-01,  7.76971579e-01,  2.19147593e-01,\n",
       "          1.77867383e-01, -6.94908977e-01,  3.62762272e-01,\n",
       "          1.47050655e+00, -4.34374541e-01,  5.81450164e-01,\n",
       "          9.71821994e-02,  2.31746048e-01,  5.95196664e-01],\n",
       "        [ 2.87021697e-02, -3.64445210e-01,  9.81940866e-01,\n",
       "         -2.28943601e-01,  2.55035698e-01, -3.10985506e-01,\n",
       "          2.53431275e-02, -6.47126436e-01,  3.69819790e-01,\n",
       "         -4.74144340e-01, -4.69895862e-02,  2.11441979e-01],\n",
       "        [-2.55502194e-01, -5.12302279e-01, -1.86962023e-01,\n",
       "         -1.54002994e-01, -7.53627121e-01, -4.23389971e-01,\n",
       "          1.53631344e-01,  1.61049020e+00,  5.04194438e-01,\n",
       "         -1.86302316e+00,  5.15027195e-02, -2.58291543e-01],\n",
       "        [ 5.91634512e-02,  5.32083809e-01, -6.98671222e-01,\n",
       "          1.51052982e-01, -2.45685577e+00, -4.80875850e-01,\n",
       "         -5.10080874e-01,  6.23477936e-01,  4.40639436e-01,\n",
       "         -3.61845255e-01,  1.11802423e+00,  1.39998391e-01],\n",
       "        [-1.14476830e-01,  8.65808189e-01,  4.53773826e-01,\n",
       "         -1.34391427e-01,  5.99630415e-01,  3.86567324e-01,\n",
       "          1.24090157e-01,  5.66106975e-01, -9.30631340e-01,\n",
       "         -5.44597507e-01,  4.18501012e-02, -1.26982009e+00],\n",
       "        [ 1.56510442e-01,  6.63393140e-01,  5.41556299e-01,\n",
       "          5.66388369e-02,  7.59500384e-01, -6.84720814e-01,\n",
       "         -1.78129375e-01,  2.58465428e-02, -5.19962490e-01,\n",
       "         -2.69834965e-01,  4.47050989e-01,  1.02022536e-01],\n",
       "        [-2.01872200e-01,  4.80170965e-01,  5.83269000e-01,\n",
       "          1.46650374e-02, -3.82517695e-01, -1.40598488e+00,\n",
       "         -1.88811034e-01,  7.64121175e-01, -1.09869587e+00,\n",
       "         -1.92747429e-01, -7.15716362e-01, -2.17745110e-01],\n",
       "        [ 7.27623701e-04,  1.26654714e-01, -4.81194824e-01,\n",
       "         -2.65629351e-01,  4.04991508e-01,  3.78667623e-01,\n",
       "         -2.95079291e-01,  6.69375896e-01,  4.84322637e-01,\n",
       "          8.10643315e-01, -2.08540782e-02, -1.95097223e-01],\n",
       "        [ 4.03011829e-01, -5.06838262e-01,  1.14893715e-03,\n",
       "         -1.78052053e-01, -1.02452636e-01, -4.60333169e-01,\n",
       "          1.09473430e-01, -4.45910469e-02,  2.97110286e-02,\n",
       "          2.55808294e-01,  2.92787224e-01, -2.23204624e-02],\n",
       "        [-3.81544441e-01,  1.90555155e-01, -1.29166514e-01,\n",
       "         -2.61584014e-01, -7.32816709e-03, -2.52917409e-01,\n",
       "          1.28852025e-01, -3.21151167e-02, -5.85478283e-02,\n",
       "         -6.16927892e-02, -4.93522227e-01, -3.74978721e-01],\n",
       "        [-7.47695565e-03,  2.97406167e-01,  3.42984051e-01,\n",
       "         -2.10825324e-01, -5.22357970e-02,  1.79977804e-01,\n",
       "          4.46216427e-02, -1.47351623e-01,  1.87629864e-01,\n",
       "          2.89711267e-01,  3.84889603e-01,  2.21468136e-01],\n",
       "        [ 3.10136646e-01, -8.55413437e-01, -3.01096797e-01,\n",
       "          7.22975433e-02,  4.28679064e-02,  1.90108955e-01,\n",
       "          5.33455968e-01,  1.15390825e+00, -1.44869074e-01,\n",
       "          6.87520146e-01, -1.26805559e-01, -8.41282532e-02],\n",
       "        [ 5.52595854e-02, -1.20649767e+00,  1.43566537e+00,\n",
       "          3.54116470e-01, -8.79413262e-03, -1.74266458e-01,\n",
       "          3.23889941e-01, -2.39180744e-01, -1.51853234e-01,\n",
       "         -6.41107798e-01,  6.13318801e-01, -6.11399822e-02],\n",
       "        [-3.37724686e-02, -1.08929984e-01,  8.36022317e-01,\n",
       "          4.31087613e-03,  2.96099305e-01, -4.24213588e-01,\n",
       "          7.00983286e-01,  6.99181855e-02, -3.82790089e-01,\n",
       "         -4.61095512e-01,  4.12572056e-01,  1.64009929e-01],\n",
       "        [-2.49403715e-03, -1.08943498e+00,  4.31035459e-01,\n",
       "          2.74206430e-01, -6.65538609e-02, -1.01137483e+00,\n",
       "         -3.02288949e-01,  8.54332626e-01,  2.18094826e-01,\n",
       "          4.64199036e-01, -4.54041272e-01,  8.88752401e-01],\n",
       "        [ 3.00846905e-01,  1.37159371e+00, -5.08093596e-01,\n",
       "          3.12253386e-01,  4.16460007e-01,  2.92750120e-01,\n",
       "          1.04015911e+00, -4.04211104e-01,  4.67578828e-01,\n",
       "          1.02738328e-01,  1.43193215e-01,  1.10241258e+00],\n",
       "        [ 3.21446985e-01, -1.01662302e+00, -4.97025073e-01,\n",
       "         -3.05475593e-02,  2.37790033e-01, -1.39416993e-01,\n",
       "          2.04795197e-01,  5.19993126e-01, -1.00504756e-01,\n",
       "         -2.55006939e-01,  5.78355551e-01,  8.85656834e-01],\n",
       "        [ 6.63847327e-02, -4.99140650e-01, -4.75682825e-01,\n",
       "         -2.67820299e-01, -4.81919020e-01, -2.31785372e-01,\n",
       "         -5.08385479e-01,  1.11323428e+00, -1.04700601e+00,\n",
       "          3.67057055e-01,  3.65071207e-01, -1.47592828e-01],\n",
       "        [-6.39462769e-02, -1.01961330e-01, -2.53780127e-01,\n",
       "          2.29925543e-01,  6.43875122e-01,  5.15491903e-01,\n",
       "          2.60350734e-01, -4.55073148e-01,  8.17598522e-01,\n",
       "         -1.16450153e-01, -2.83963829e-01, -7.17288196e-01]], dtype=float32),\n",
       " array([ 0.        , -0.02867503, -0.12857747,  0.        , -0.23874609,\n",
       "         0.00397219,  0.01847536,  0.0571069 ,  0.01010484,  0.08525133,\n",
       "         0.13735822,  0.31532228], dtype=float32),\n",
       " array([[ 0.15743795, -0.39264137,  0.03480414, -0.3970608 , -0.34406477,\n",
       "          0.20546469,  0.31323984, -0.26437497,  0.11053458,  0.2426996 ,\n",
       "         -0.12293905, -0.32473168,  0.27598587,  0.31190768, -0.04215571,\n",
       "         -0.22526984,  0.35014072,  0.2858385 , -0.41311607, -0.18441816,\n",
       "          0.0169051 , -0.06613657,  0.40388384],\n",
       "        [ 0.46305224, -0.35733968, -0.36571082,  0.01638245,  0.11082975,\n",
       "          0.0401062 ,  0.10494296, -0.5541353 ,  0.52289456, -0.40153047,\n",
       "          0.39726552,  0.5725454 ,  0.2961211 ,  0.1286962 , -0.20561348,\n",
       "         -0.31509012, -0.11673364,  0.12856819, -0.00611814, -0.07592747,\n",
       "          0.24884531, -0.01705721,  0.45395815],\n",
       "        [ 0.24584305,  0.6652876 , -0.19808984,  0.12925999, -0.60380626,\n",
       "         -0.06819434,  0.38617164,  0.17616443, -0.5155965 ,  0.03689823,\n",
       "          0.22978705, -0.34667355, -0.08151367,  0.01328801, -0.34281975,\n",
       "          0.7595605 , -0.13720086, -0.07411376, -0.47030106,  0.08087385,\n",
       "         -0.25096843, -0.30259138,  0.14535818],\n",
       "        [-0.32059407, -0.32675958,  0.22590628,  0.30743453,  0.02582464,\n",
       "         -0.3517196 ,  0.00832698, -0.12076625,  0.09498969, -0.21764423,\n",
       "          0.28542104,  0.13309363, -0.03252816, -0.26725033, -0.26914853,\n",
       "          0.0292078 , -0.2997943 , -0.399698  , -0.3723775 , -0.10636616,\n",
       "          0.24591246,  0.26261023,  0.3401455 ],\n",
       "        [-0.10258099,  1.0664638 ,  0.34951136,  0.49681652, -0.5136547 ,\n",
       "         -0.6218008 , -0.32577   , -0.416278  , -0.14434846,  0.07330264,\n",
       "         -0.01485464, -0.4185852 ,  0.4772313 ,  0.209596  , -0.21480678,\n",
       "          1.2005044 ,  0.10902569,  1.5135958 , -0.41494012,  0.6620509 ,\n",
       "          0.3605068 ,  0.24843898, -0.24467084],\n",
       "        [-2.1606014 , -1.5786927 ,  0.23796257,  1.9723283 ,  3.2486844 ,\n",
       "          1.5048141 , -2.2192235 ,  0.01044214,  2.5895476 ,  0.21727416,\n",
       "         -2.0874953 , -1.9449635 ,  2.0660968 ,  2.1906273 ,  0.00465766,\n",
       "          2.37049   , -0.22025129,  1.8187225 , -2.190955  ,  1.7531704 ,\n",
       "          2.2733617 , -0.37293148, -1.5807091 ],\n",
       "        [-0.04059539,  0.60067564,  0.09195063, -0.1273575 , -0.5433923 ,\n",
       "         -0.28340372,  0.3751328 , -0.13760644, -0.05560432, -0.3709979 ,\n",
       "         -0.00336117,  0.33068705,  0.01909691,  0.02224367,  0.14121261,\n",
       "         -0.69230187, -0.15101182, -0.37162435, -0.13390847, -0.0132131 ,\n",
       "          0.14116226, -0.39753976,  0.44005087],\n",
       "        [ 0.32663208, -1.4762205 , -0.37231058, -0.2583241 ,  0.772904  ,\n",
       "         -2.835394  ,  0.5575445 ,  0.37127525, -1.4741185 , -0.30451623,\n",
       "          0.8739991 ,  0.36473438, -0.21253717, -0.5749194 ,  0.19568399,\n",
       "          0.5945244 , -0.36356506,  0.22258489,  0.552075  , -0.45514676,\n",
       "         -0.24467798, -0.29055914,  0.5319063 ],\n",
       "        [ 0.45310247, -0.9563329 , -0.37699094, -0.5471413 ,  0.3449968 ,\n",
       "          0.7515071 ,  0.8461735 , -0.02564475,  1.1452609 ,  0.19910769,\n",
       "          0.6959147 , -0.07244644, -0.17241001, -0.69185245, -0.256639  ,\n",
       "         -1.2083238 ,  0.17575261, -0.02195366,  0.45310402, -0.17953627,\n",
       "         -0.4031277 , -0.38597497,  0.41297558],\n",
       "        [-0.4883268 ,  0.09207531, -0.33358186,  0.5209168 ,  0.37483066,\n",
       "         -0.02211732, -0.30701572, -0.36165217,  0.0459108 ,  0.23018391,\n",
       "         -0.6595985 , -0.34363106,  0.06222792,  0.6270652 , -0.3986825 ,\n",
       "          0.25346497, -0.38785774,  0.16234028,  0.59476066,  0.53943706,\n",
       "          0.70765615, -0.2870527 , -0.0765371 ],\n",
       "        [ 0.701463  ,  0.14099939, -0.30679107, -0.16202553, -1.2720801 ,\n",
       "          1.1499265 ,  0.42655337,  0.14056951, -0.92214084, -0.13765377,\n",
       "          0.38614315,  0.42000568, -0.20262267, -0.62014264, -0.25089806,\n",
       "          1.0499672 ,  0.375473  , -0.12050135,  1.4780726 , -0.44814542,\n",
       "         -1.401609  , -0.08143488,  0.91334623],\n",
       "        [-0.4616183 ,  0.5311696 ,  0.10326293,  0.71349925,  0.1296603 ,\n",
       "          1.4183538 , -0.37852675, -0.36584362,  0.79708755, -0.0767832 ,\n",
       "         -1.5103024 , -0.6825204 ,  1.122734  ,  0.9726118 , -0.18026662,\n",
       "         -0.21273726,  0.04750556,  0.65050316,  0.6779527 ,  0.909045  ,\n",
       "          0.87567997,  0.09115222, -1.0095915 ]], dtype=float32),\n",
       " array([ 0.09117961,  0.40622973,  0.        ,  0.09896879,  0.09370918,\n",
       "        -0.47945908,  0.00457285, -0.21615851,  0.1515773 , -0.0240194 ,\n",
       "         0.05149801, -0.05775963,  0.16531277,  0.11077328,  0.        ,\n",
       "        -0.11114875,  0.        ,  0.00306204,  0.02287506,  0.06072963,\n",
       "         0.2297737 ,  0.        , -0.02497807], dtype=float32),\n",
       " array([[-0.581192  ],\n",
       "        [ 1.8703141 ],\n",
       "        [-0.36924624],\n",
       "        [ 0.23764609],\n",
       "        [ 2.2034721 ],\n",
       "        [-3.59963   ],\n",
       "        [-0.84896886],\n",
       "        [-0.13228047],\n",
       "        [ 1.5138342 ],\n",
       "        [-0.12614729],\n",
       "        [-1.3290752 ],\n",
       "        [-0.8458915 ],\n",
       "        [ 0.21645881],\n",
       "        [ 0.61123466],\n",
       "        [-0.00976539],\n",
       "        [ 2.026103  ],\n",
       "        [-0.34898806],\n",
       "        [ 0.7614378 ],\n",
       "        [-1.0650903 ],\n",
       "        [ 0.28023434],\n",
       "        [ 1.1298143 ],\n",
       "        [ 0.15645766],\n",
       "        [-0.53338313]], dtype=float32),\n",
       " array([-0.00114725], dtype=float32)]"
      ]
     },
     "execution_count": 17,
     "metadata": {},
     "output_type": "execute_result"
    }
   ],
   "source": [
    "# Ok, what does this model look like?\n",
    "\n",
    "nn_model.get_weights() # What does this mean?  I can't formulate this many priors"
   ]
  },
  {
   "cell_type": "markdown",
   "metadata": {},
   "source": [
    "# SVC"
   ]
  },
  {
   "cell_type": "code",
   "execution_count": 127,
   "metadata": {
    "collapsed": false
   },
   "outputs": [],
   "source": [
    "from sklearn.svm import SVC"
   ]
  },
  {
   "cell_type": "code",
   "execution_count": 129,
   "metadata": {
    "collapsed": false
   },
   "outputs": [
    {
     "name": "stderr",
     "output_type": "stream",
     "text": [
      "C:\\Users\\cjrdn_000\\Anaconda3\\lib\\site-packages\\sklearn\\utils\\validation.py:526: DataConversionWarning: A column-vector y was passed when a 1d array was expected. Please change the shape of y to (n_samples, ), for example using ravel().\n",
      "  y = column_or_1d(y, warn=True)\n"
     ]
    },
    {
     "data": {
      "text/plain": [
       "SVC(C=1.0, cache_size=200, class_weight=None, coef0=0.0,\n",
       "  decision_function_shape=None, degree=3, gamma='auto', kernel='rbf',\n",
       "  max_iter=-1, probability=False, random_state=None, shrinking=True,\n",
       "  tol=0.001, verbose=False)"
      ]
     },
     "execution_count": 129,
     "metadata": {},
     "output_type": "execute_result"
    }
   ],
   "source": [
    "svc_model = SVC()\n",
    "\n",
    "svc_model.fit(X, y)"
   ]
  },
  {
   "cell_type": "code",
   "execution_count": 132,
   "metadata": {
    "collapsed": false
   },
   "outputs": [],
   "source": [
    "svc_predictions = svc_model.predict(X)"
   ]
  },
  {
   "cell_type": "markdown",
   "metadata": {
    "collapsed": true
   },
   "source": [
    "# LIME - Nueral Net"
   ]
  },
  {
   "cell_type": "code",
   "execution_count": null,
   "metadata": {
    "collapsed": true
   },
   "outputs": [],
   "source": []
  },
  {
   "cell_type": "markdown",
   "metadata": {},
   "source": [
    "# LIME - SVC"
   ]
  },
  {
   "cell_type": "code",
   "execution_count": null,
   "metadata": {
    "collapsed": true
   },
   "outputs": [],
   "source": []
  },
  {
   "cell_type": "markdown",
   "metadata": {},
   "source": [
    "# LIME - Boosted Tree"
   ]
  },
  {
   "cell_type": "code",
   "execution_count": null,
   "metadata": {
    "collapsed": true
   },
   "outputs": [],
   "source": []
  }
 ],
 "metadata": {
  "kernelspec": {
   "display_name": "Python 3",
   "language": "python",
   "name": "python3"
  },
  "language_info": {
   "codemirror_mode": {
    "name": "ipython",
    "version": 3
   },
   "file_extension": ".py",
   "mimetype": "text/x-python",
   "name": "python",
   "nbconvert_exporter": "python",
   "pygments_lexer": "ipython3",
   "version": "3.5.4"
  }
 },
 "nbformat": 4,
 "nbformat_minor": 0
}
