{
 "cells": [
  {
   "cell_type": "markdown",
   "metadata": {},
   "source": [
    "# 'Applied' Exercise"
   ]
  },
  {
   "cell_type": "code",
   "execution_count": 1,
   "metadata": {
    "collapsed": false
   },
   "outputs": [],
   "source": [
    "from profk import Dataset\n",
    "\n",
    "import numpy as np\n",
    "import pandas as pd\n",
    "from sklearn.linear_model import LogisticRegression\n",
    "from sklearn.model_selection import KFold"
   ]
  },
  {
   "cell_type": "code",
   "execution_count": 2,
   "metadata": {
    "collapsed": true
   },
   "outputs": [],
   "source": [
    "%matplotlib inline\n",
    "import matplotlib.pyplot as plt"
   ]
  },
  {
   "cell_type": "code",
   "execution_count": 3,
   "metadata": {
    "collapsed": true
   },
   "outputs": [],
   "source": [
    "normal = {'value': lambda i: int(i) -3} # Normalization; we should have performed this on prog_qual too, but overlooked it foolishly."
   ]
  },
  {
   "cell_type": "code",
   "execution_count": 4,
   "metadata": {
    "collapsed": false
   },
   "outputs": [],
   "source": [
    "# value = 6 corresponds to refusal to answer, 6 nowhere else in data\n",
    "\n",
    "cable_training = pd.read_csv('./Data/training.csv', na_values=(-999, 6), converters=normal) \n",
    "cable_holdout = pd.read_csv('./Data/holdout.csv', na_values=(-999, 6), converters=normal)\n",
    "cable_all = pd.concat([cable_training, cable_holdout])"
   ]
  },
  {
   "cell_type": "code",
   "execution_count": 5,
   "metadata": {
    "collapsed": false
   },
   "outputs": [],
   "source": [
    "CableTrain = Dataset(cable_training)\n",
    "\n",
    "# The act of amending features was most easily taken care of in the context of a pandas df, but the sklearn algorithms\n",
    "# behaved most predictably when we supplied them with np arrays; we constructed a custom class (Dataset) to hold information\n",
    "# and return subsets in the form of np arrays when queried to limit the number of Python instructions \n",
    "# issued for the sole purpose of manipulating data.  We've tried to keep the ratio of \"theory related\" instructions\n",
    "# to \"quality of life\" instructions high."
   ]
  },
  {
   "cell_type": "markdown",
   "metadata": {},
   "source": [
    "# Model Estimation & Display"
   ]
  },
  {
   "cell_type": "code",
   "execution_count": 6,
   "metadata": {
    "collapsed": false
   },
   "outputs": [],
   "source": [
    "# Extend the sklearn LogisticRegression class to return Standard Errors and T-statistics\n",
    "\n",
    "class ExtLogisticRegression(LogisticRegression):\n",
    "    \n",
    "    def __init__(self):\n",
    "        \n",
    "        LogisticRegression.__init__(self)\n",
    "            \n",
    "    def tstat(self, estimate, se): return estimate / se\n",
    "    \n",
    "    def getStats(self, X, feature_names): # passing X again after fit() is ugly, but unavoidable without serious class amendment.\n",
    "        \n",
    "        '''Courtesy of: \n",
    "        # https://stats.stackexchange.com/questions/89484/how-to-compute-the-standard-errors-of-a-logistic-regressions-coefficients\n",
    "        # The covariance matrix as given by: (X'VX)^-1\n",
    "\n",
    "        # X: (n x k), X': (k x n)\n",
    "        # V: (n x n)\n",
    "\n",
    "        # -> X'VX: (k x k)'''\n",
    "\n",
    "        n = len(X)\n",
    "        predictions = np.matrix(self.predict_proba(X))\n",
    "\n",
    "        # Initiate matrix of 0's, fill diagonal with each predicted observation's variance\n",
    "        V = np.matrix(np.zeros(shape = (n, n)))\n",
    "\n",
    "        p_no = predictions[:,0] # array of all p(no buy)\n",
    "        p_yes = (predictions[:,1]).A1 # flattened array of all p(buy)\n",
    "\n",
    "        np.fill_diagonal(V, np.multiply(p_no, p_yes)) # n X n \n",
    "\n",
    "        # Covariance matrix\n",
    "        cov = np.linalg.inv(X.T * V * X)\n",
    "\n",
    "        # Standard errors\n",
    "        se = np.sqrt(np.diag(cov))\n",
    "        \n",
    "        # Check with E-Views output -> ~ok\n",
    "        \n",
    "        tstats = pd.Series(map(self.tstat, self.coef_,se))[0]\n",
    "        \n",
    "        summary = pd.DataFrame({'Coefficients': list(self.coef_[0]), 'SE': list(se), 't-stat': list(tstats)})  \n",
    "        summary = summary.set_index(pd.Index(feature_names))\n",
    "        \n",
    "        self.summary = summary"
   ]
  },
  {
   "cell_type": "code",
   "execution_count": 7,
   "metadata": {
    "collapsed": false
   },
   "outputs": [],
   "source": [
    "drop = ['YES', 'ID', 'age', 'class', 'tele_have', 'd', 'de'] # no theory needed to drop these guys (redundant or irrelevant features)\n",
    "\n",
    "feature_names = [i for i in cable_training.columns if i not in drop and i != 'buy']\n",
    "target_name = ['buy']\n",
    "\n",
    "X, y = CableTrain.getXy(feature_names, target_name)"
   ]
  },
  {
   "cell_type": "code",
   "execution_count": 8,
   "metadata": {
    "collapsed": false
   },
   "outputs": [
    {
     "data": {
      "text/plain": [
       "ExtLogisticRegression()"
      ]
     },
     "execution_count": 8,
     "metadata": {},
     "output_type": "execute_result"
    }
   ],
   "source": [
    "Model = ExtLogisticRegression()\n",
    "Model.fit(X, y)"
   ]
  },
  {
   "cell_type": "code",
   "execution_count": 9,
   "metadata": {
    "collapsed": false
   },
   "outputs": [],
   "source": [
    "Model.getStats(X, feature_names)"
   ]
  },
  {
   "cell_type": "code",
   "execution_count": 10,
   "metadata": {
    "collapsed": false,
    "scrolled": true
   },
   "outputs": [
    {
     "data": {
      "text/html": [
       "<div>\n",
       "<style scoped>\n",
       "    .dataframe tbody tr th:only-of-type {\n",
       "        vertical-align: middle;\n",
       "    }\n",
       "\n",
       "    .dataframe tbody tr th {\n",
       "        vertical-align: top;\n",
       "    }\n",
       "\n",
       "    .dataframe thead th {\n",
       "        text-align: right;\n",
       "    }\n",
       "</style>\n",
       "<table border=\"1\" class=\"dataframe\">\n",
       "  <thead>\n",
       "    <tr style=\"text-align: right;\">\n",
       "      <th></th>\n",
       "      <th>Coefficients</th>\n",
       "      <th>SE</th>\n",
       "      <th>t-stat</th>\n",
       "    </tr>\n",
       "  </thead>\n",
       "  <tbody>\n",
       "    <tr>\n",
       "      <th>c</th>\n",
       "      <td>0.395029</td>\n",
       "      <td>0.280520</td>\n",
       "      <td>1.408203</td>\n",
       "    </tr>\n",
       "    <tr>\n",
       "      <th>age2</th>\n",
       "      <td>0.246855</td>\n",
       "      <td>0.111314</td>\n",
       "      <td>0.879992</td>\n",
       "    </tr>\n",
       "    <tr>\n",
       "      <th>age3</th>\n",
       "      <td>0.381403</td>\n",
       "      <td>0.112075</td>\n",
       "      <td>1.359631</td>\n",
       "    </tr>\n",
       "    <tr>\n",
       "      <th>age4</th>\n",
       "      <td>0.399270</td>\n",
       "      <td>0.111944</td>\n",
       "      <td>1.423325</td>\n",
       "    </tr>\n",
       "    <tr>\n",
       "      <th>age5</th>\n",
       "      <td>-0.019031</td>\n",
       "      <td>0.128969</td>\n",
       "      <td>-0.067841</td>\n",
       "    </tr>\n",
       "    <tr>\n",
       "      <th>age6</th>\n",
       "      <td>-0.041825</td>\n",
       "      <td>0.125131</td>\n",
       "      <td>-0.149098</td>\n",
       "    </tr>\n",
       "    <tr>\n",
       "      <th>ab</th>\n",
       "      <td>-2.549116</td>\n",
       "      <td>0.108625</td>\n",
       "      <td>-9.087122</td>\n",
       "    </tr>\n",
       "    <tr>\n",
       "      <th>c1</th>\n",
       "      <td>-2.146333</td>\n",
       "      <td>0.078841</td>\n",
       "      <td>-7.651277</td>\n",
       "    </tr>\n",
       "    <tr>\n",
       "      <th>c2</th>\n",
       "      <td>-0.785388</td>\n",
       "      <td>0.055086</td>\n",
       "      <td>-2.799763</td>\n",
       "    </tr>\n",
       "    <tr>\n",
       "      <th>children</th>\n",
       "      <td>0.296022</td>\n",
       "      <td>0.060525</td>\n",
       "      <td>1.055262</td>\n",
       "    </tr>\n",
       "    <tr>\n",
       "      <th>council</th>\n",
       "      <td>-0.194406</td>\n",
       "      <td>0.064528</td>\n",
       "      <td>-0.693022</td>\n",
       "    </tr>\n",
       "    <tr>\n",
       "      <th>emp_ft</th>\n",
       "      <td>0.415404</td>\n",
       "      <td>0.060057</td>\n",
       "      <td>1.480837</td>\n",
       "    </tr>\n",
       "    <tr>\n",
       "      <th>emp_hwife</th>\n",
       "      <td>0.139947</td>\n",
       "      <td>0.068175</td>\n",
       "      <td>0.498885</td>\n",
       "    </tr>\n",
       "    <tr>\n",
       "      <th>no_dish</th>\n",
       "      <td>-0.030955</td>\n",
       "      <td>0.017462</td>\n",
       "      <td>-0.110348</td>\n",
       "    </tr>\n",
       "    <tr>\n",
       "      <th>n_videos</th>\n",
       "      <td>0.256738</td>\n",
       "      <td>0.032377</td>\n",
       "      <td>0.915222</td>\n",
       "    </tr>\n",
       "    <tr>\n",
       "      <th>price</th>\n",
       "      <td>-0.088526</td>\n",
       "      <td>0.009700</td>\n",
       "      <td>-0.315577</td>\n",
       "    </tr>\n",
       "    <tr>\n",
       "      <th>price_mc</th>\n",
       "      <td>-0.025503</td>\n",
       "      <td>0.020054</td>\n",
       "      <td>-0.090912</td>\n",
       "    </tr>\n",
       "    <tr>\n",
       "      <th>prog_qual</th>\n",
       "      <td>0.080564</td>\n",
       "      <td>0.033630</td>\n",
       "      <td>0.287196</td>\n",
       "    </tr>\n",
       "    <tr>\n",
       "      <th>race</th>\n",
       "      <td>0.032810</td>\n",
       "      <td>0.022989</td>\n",
       "      <td>0.116962</td>\n",
       "    </tr>\n",
       "    <tr>\n",
       "      <th>rent</th>\n",
       "      <td>-0.201801</td>\n",
       "      <td>0.083666</td>\n",
       "      <td>-0.719384</td>\n",
       "    </tr>\n",
       "    <tr>\n",
       "      <th>sat_have</th>\n",
       "      <td>0.577575</td>\n",
       "      <td>0.062784</td>\n",
       "      <td>2.058949</td>\n",
       "    </tr>\n",
       "    <tr>\n",
       "      <th>sex</th>\n",
       "      <td>0.127350</td>\n",
       "      <td>0.055372</td>\n",
       "      <td>0.453977</td>\n",
       "    </tr>\n",
       "    <tr>\n",
       "      <th>tv-satis</th>\n",
       "      <td>-0.128870</td>\n",
       "      <td>0.021565</td>\n",
       "      <td>-0.459397</td>\n",
       "    </tr>\n",
       "    <tr>\n",
       "      <th>value</th>\n",
       "      <td>0.098160</td>\n",
       "      <td>0.019466</td>\n",
       "      <td>0.349921</td>\n",
       "    </tr>\n",
       "    <tr>\n",
       "      <th>vcr_have</th>\n",
       "      <td>0.229441</td>\n",
       "      <td>0.065088</td>\n",
       "      <td>0.817914</td>\n",
       "    </tr>\n",
       "    <tr>\n",
       "      <th>bbc1</th>\n",
       "      <td>0.103849</td>\n",
       "      <td>0.049391</td>\n",
       "      <td>0.370201</td>\n",
       "    </tr>\n",
       "    <tr>\n",
       "      <th>bbc2</th>\n",
       "      <td>0.143757</td>\n",
       "      <td>0.083960</td>\n",
       "      <td>0.512468</td>\n",
       "    </tr>\n",
       "    <tr>\n",
       "      <th>itv</th>\n",
       "      <td>-0.265909</td>\n",
       "      <td>0.050906</td>\n",
       "      <td>-0.947916</td>\n",
       "    </tr>\n",
       "    <tr>\n",
       "      <th>ch4</th>\n",
       "      <td>-0.192898</td>\n",
       "      <td>0.078394</td>\n",
       "      <td>-0.687645</td>\n",
       "    </tr>\n",
       "  </tbody>\n",
       "</table>\n",
       "</div>"
      ],
      "text/plain": [
       "           Coefficients        SE    t-stat\n",
       "c              0.395029  0.280520  1.408203\n",
       "age2           0.246855  0.111314  0.879992\n",
       "age3           0.381403  0.112075  1.359631\n",
       "age4           0.399270  0.111944  1.423325\n",
       "age5          -0.019031  0.128969 -0.067841\n",
       "age6          -0.041825  0.125131 -0.149098\n",
       "ab            -2.549116  0.108625 -9.087122\n",
       "c1            -2.146333  0.078841 -7.651277\n",
       "c2            -0.785388  0.055086 -2.799763\n",
       "children       0.296022  0.060525  1.055262\n",
       "council       -0.194406  0.064528 -0.693022\n",
       "emp_ft         0.415404  0.060057  1.480837\n",
       "emp_hwife      0.139947  0.068175  0.498885\n",
       "no_dish       -0.030955  0.017462 -0.110348\n",
       "n_videos       0.256738  0.032377  0.915222\n",
       "price         -0.088526  0.009700 -0.315577\n",
       "price_mc      -0.025503  0.020054 -0.090912\n",
       "prog_qual      0.080564  0.033630  0.287196\n",
       "race           0.032810  0.022989  0.116962\n",
       "rent          -0.201801  0.083666 -0.719384\n",
       "sat_have       0.577575  0.062784  2.058949\n",
       "sex            0.127350  0.055372  0.453977\n",
       "tv-satis      -0.128870  0.021565 -0.459397\n",
       "value          0.098160  0.019466  0.349921\n",
       "vcr_have       0.229441  0.065088  0.817914\n",
       "bbc1           0.103849  0.049391  0.370201\n",
       "bbc2           0.143757  0.083960  0.512468\n",
       "itv           -0.265909  0.050906 -0.947916\n",
       "ch4           -0.192898  0.078394 -0.687645"
      ]
     },
     "execution_count": 10,
     "metadata": {},
     "output_type": "execute_result"
    }
   ],
   "source": [
    "Model.summary"
   ]
  },
  {
   "cell_type": "code",
   "execution_count": 11,
   "metadata": {
    "collapsed": false,
    "scrolled": true
   },
   "outputs": [
    {
     "data": {
      "text/html": [
       "<div>\n",
       "<style scoped>\n",
       "    .dataframe tbody tr th:only-of-type {\n",
       "        vertical-align: middle;\n",
       "    }\n",
       "\n",
       "    .dataframe tbody tr th {\n",
       "        vertical-align: top;\n",
       "    }\n",
       "\n",
       "    .dataframe thead th {\n",
       "        text-align: right;\n",
       "    }\n",
       "</style>\n",
       "<table border=\"1\" class=\"dataframe\">\n",
       "  <thead>\n",
       "    <tr style=\"text-align: right;\">\n",
       "      <th></th>\n",
       "      <th>Coefficients</th>\n",
       "      <th>SE</th>\n",
       "      <th>p-value</th>\n",
       "    </tr>\n",
       "  </thead>\n",
       "  <tbody>\n",
       "    <tr>\n",
       "      <th>c</th>\n",
       "      <td>0.395029</td>\n",
       "      <td>0.280520</td>\n",
       "      <td>0.0246</td>\n",
       "    </tr>\n",
       "    <tr>\n",
       "      <th>age2</th>\n",
       "      <td>0.246855</td>\n",
       "      <td>0.111314</td>\n",
       "      <td>0.0229</td>\n",
       "    </tr>\n",
       "    <tr>\n",
       "      <th>age3</th>\n",
       "      <td>0.381403</td>\n",
       "      <td>0.112075</td>\n",
       "      <td>0.0057</td>\n",
       "    </tr>\n",
       "    <tr>\n",
       "      <th>age4</th>\n",
       "      <td>0.399270</td>\n",
       "      <td>0.111944</td>\n",
       "      <td>0.0043</td>\n",
       "    </tr>\n",
       "    <tr>\n",
       "      <th>age5</th>\n",
       "      <td>-0.019031</td>\n",
       "      <td>0.128969</td>\n",
       "      <td>0.9307</td>\n",
       "    </tr>\n",
       "    <tr>\n",
       "      <th>age6</th>\n",
       "      <td>-0.041825</td>\n",
       "      <td>0.125131</td>\n",
       "      <td>0.9280</td>\n",
       "    </tr>\n",
       "    <tr>\n",
       "      <th>ab</th>\n",
       "      <td>-2.549116</td>\n",
       "      <td>0.108625</td>\n",
       "      <td>0.0000</td>\n",
       "    </tr>\n",
       "    <tr>\n",
       "      <th>c1</th>\n",
       "      <td>-2.146333</td>\n",
       "      <td>0.078841</td>\n",
       "      <td>0.0000</td>\n",
       "    </tr>\n",
       "    <tr>\n",
       "      <th>c2</th>\n",
       "      <td>-0.785388</td>\n",
       "      <td>0.055086</td>\n",
       "      <td>0.0000</td>\n",
       "    </tr>\n",
       "    <tr>\n",
       "      <th>children</th>\n",
       "      <td>0.296022</td>\n",
       "      <td>0.060525</td>\n",
       "      <td>0.0001</td>\n",
       "    </tr>\n",
       "    <tr>\n",
       "      <th>council</th>\n",
       "      <td>-0.194406</td>\n",
       "      <td>0.064528</td>\n",
       "      <td>0.0004</td>\n",
       "    </tr>\n",
       "    <tr>\n",
       "      <th>emp_ft</th>\n",
       "      <td>0.415404</td>\n",
       "      <td>0.060057</td>\n",
       "      <td>0.0000</td>\n",
       "    </tr>\n",
       "    <tr>\n",
       "      <th>emp_hwife</th>\n",
       "      <td>0.139947</td>\n",
       "      <td>0.068175</td>\n",
       "      <td>0.0084</td>\n",
       "    </tr>\n",
       "    <tr>\n",
       "      <th>no_dish</th>\n",
       "      <td>-0.030955</td>\n",
       "      <td>0.017462</td>\n",
       "      <td>0.0074</td>\n",
       "    </tr>\n",
       "    <tr>\n",
       "      <th>n_videos</th>\n",
       "      <td>0.256738</td>\n",
       "      <td>0.032377</td>\n",
       "      <td>0.0000</td>\n",
       "    </tr>\n",
       "    <tr>\n",
       "      <th>price</th>\n",
       "      <td>-0.088526</td>\n",
       "      <td>0.009700</td>\n",
       "      <td>0.0000</td>\n",
       "    </tr>\n",
       "    <tr>\n",
       "      <th>price_mc</th>\n",
       "      <td>-0.025503</td>\n",
       "      <td>0.020054</td>\n",
       "      <td>0.4265</td>\n",
       "    </tr>\n",
       "    <tr>\n",
       "      <th>prog_qual</th>\n",
       "      <td>0.080564</td>\n",
       "      <td>0.033630</td>\n",
       "      <td>0.2054</td>\n",
       "    </tr>\n",
       "    <tr>\n",
       "      <th>race</th>\n",
       "      <td>0.032810</td>\n",
       "      <td>0.022989</td>\n",
       "      <td>0.1913</td>\n",
       "    </tr>\n",
       "    <tr>\n",
       "      <th>rent</th>\n",
       "      <td>-0.201801</td>\n",
       "      <td>0.083666</td>\n",
       "      <td>0.0119</td>\n",
       "    </tr>\n",
       "    <tr>\n",
       "      <th>sat_have</th>\n",
       "      <td>0.577575</td>\n",
       "      <td>0.062784</td>\n",
       "      <td>0.0000</td>\n",
       "    </tr>\n",
       "    <tr>\n",
       "      <th>sex</th>\n",
       "      <td>0.127350</td>\n",
       "      <td>0.055372</td>\n",
       "      <td>0.0360</td>\n",
       "    </tr>\n",
       "    <tr>\n",
       "      <th>tv-satis</th>\n",
       "      <td>-0.128870</td>\n",
       "      <td>0.021565</td>\n",
       "      <td>0.0000</td>\n",
       "    </tr>\n",
       "    <tr>\n",
       "      <th>value</th>\n",
       "      <td>0.098160</td>\n",
       "      <td>0.019466</td>\n",
       "      <td>0.0002</td>\n",
       "    </tr>\n",
       "    <tr>\n",
       "      <th>vcr_have</th>\n",
       "      <td>0.229441</td>\n",
       "      <td>0.065088</td>\n",
       "      <td>0.0008</td>\n",
       "    </tr>\n",
       "    <tr>\n",
       "      <th>bbc1</th>\n",
       "      <td>0.103849</td>\n",
       "      <td>0.049391</td>\n",
       "      <td>0.0453</td>\n",
       "    </tr>\n",
       "    <tr>\n",
       "      <th>bbc2</th>\n",
       "      <td>0.143757</td>\n",
       "      <td>0.083960</td>\n",
       "      <td>0.0290</td>\n",
       "    </tr>\n",
       "    <tr>\n",
       "      <th>itv</th>\n",
       "      <td>-0.265909</td>\n",
       "      <td>0.050906</td>\n",
       "      <td>0.0001</td>\n",
       "    </tr>\n",
       "    <tr>\n",
       "      <th>ch4</th>\n",
       "      <td>-0.192898</td>\n",
       "      <td>0.078394</td>\n",
       "      <td>0.0371</td>\n",
       "    </tr>\n",
       "  </tbody>\n",
       "</table>\n",
       "</div>"
      ],
      "text/plain": [
       "           Coefficients        SE  p-value\n",
       "c              0.395029  0.280520   0.0246\n",
       "age2           0.246855  0.111314   0.0229\n",
       "age3           0.381403  0.112075   0.0057\n",
       "age4           0.399270  0.111944   0.0043\n",
       "age5          -0.019031  0.128969   0.9307\n",
       "age6          -0.041825  0.125131   0.9280\n",
       "ab            -2.549116  0.108625   0.0000\n",
       "c1            -2.146333  0.078841   0.0000\n",
       "c2            -0.785388  0.055086   0.0000\n",
       "children       0.296022  0.060525   0.0001\n",
       "council       -0.194406  0.064528   0.0004\n",
       "emp_ft         0.415404  0.060057   0.0000\n",
       "emp_hwife      0.139947  0.068175   0.0084\n",
       "no_dish       -0.030955  0.017462   0.0074\n",
       "n_videos       0.256738  0.032377   0.0000\n",
       "price         -0.088526  0.009700   0.0000\n",
       "price_mc      -0.025503  0.020054   0.4265\n",
       "prog_qual      0.080564  0.033630   0.2054\n",
       "race           0.032810  0.022989   0.1913\n",
       "rent          -0.201801  0.083666   0.0119\n",
       "sat_have       0.577575  0.062784   0.0000\n",
       "sex            0.127350  0.055372   0.0360\n",
       "tv-satis      -0.128870  0.021565   0.0000\n",
       "value          0.098160  0.019466   0.0002\n",
       "vcr_have       0.229441  0.065088   0.0008\n",
       "bbc1           0.103849  0.049391   0.0453\n",
       "bbc2           0.143757  0.083960   0.0290\n",
       "itv           -0.265909  0.050906   0.0001\n",
       "ch4           -0.192898  0.078394   0.0371"
      ]
     },
     "execution_count": 11,
     "metadata": {},
     "output_type": "execute_result"
    }
   ],
   "source": [
    "# Please see eviews_output for an Eviews comparison; though there may exist some minute differences in\n",
    "# calculation (esp. for the constant term), we think our estimates are sufficiently to Eviews close to justify moving forward.\n",
    "\n",
    "# Eviews claims that, since normality conditions only hold asymptotically, a reported t-statistic is erroneous here.\n",
    "# We were unable to find the Eviews derivation of a p-value in a reasonable amount of time; due to the similarity of coefficients\n",
    "# and SEs across the model elsewhere, we will just assume that the p-values derived from E-views apply here.  We can spend some\n",
    "# more time tracking down and copying Eviews method if it would be a valuable exercise.\n",
    "\n",
    "summary = Model.summary\n",
    "summary = summary.drop('t-stat', axis=1)\n",
    "\n",
    "eviews_output = pd.read_csv('./eviews_output.csv')\n",
    "summary['p-value'] = list(eviews_output['Prob\\xa0\\xa0']) # I have no idea...weird encoding issue\n",
    "\n",
    "summary"
   ]
  },
  {
   "cell_type": "markdown",
   "metadata": {},
   "source": [
    "# Applied-Like Process Improvement"
   ]
  },
  {
   "cell_type": "code",
   "execution_count": 12,
   "metadata": {
    "collapsed": true
   },
   "outputs": [],
   "source": [
    "# Quick notes:  As with the original Applied project, we don't have many sign priors outside of the obvious: \n",
    "\n",
    "    # negative sign on price\n",
    "    # negative sign on income measures (low-class stigma, inferior good - entertainment)\n",
    "    # negative sign on the price of compliments (price_mc)\n",
    "\n",
    "# Weaker cases can be made for other beliefs:\n",
    "\n",
    "    # negative sign on rent (lease agreement forbids installation)\n",
    "    # negative sign on consumption of disimliar programming (high-brow BBC channels)\n",
    "    # positive sign on consumption of similar programming (low-brow ITV & CH4)\n",
    "    \n",
    "# Elsewhere, cultural differences between the US and UK, as well as the existince of cross directional multiple marginal effects\n",
    "# within the same variables (kids want tv more than adults, but parents don't want them to watch it) preclude strong\n",
    "# assumptions about the effect of other demographic information.\n",
    "\n",
    "# ***This should probably be done in order of prior violation magnitude, but we attempt all drops simultaneously for brevity***\n",
    "\n",
    "# A minor prior violation on the income measures of EMP_FT and EMP_HWIFE (redundant proxies for income?) suggests a drop of both\n",
    "\n",
    "# Since program quality is likely proxying an effect like value and it is statistically insignificant, we attempt a drop\n",
    "\n",
    "# Since we don't have strong priors about the importance of the stat. insignificant Race, we attempt a drop\n",
    "\n",
    "# price_mc is also insignificant, but we have good reasons from theory to leave it in (price of compliment, correctly signed)\n",
    "\n",
    "# sex will prove to be insignificant in later rounds of testing; also dropped here for brevity"
   ]
  },
  {
   "cell_type": "code",
   "execution_count": 13,
   "metadata": {
    "collapsed": true
   },
   "outputs": [],
   "source": [
    "# As an applied exercise, I think it makes more sense to specify what to include, as opposed to what\n",
    "# you want to exclude.\n",
    "\n",
    "features_2 = ['c', 'age2', 'age3', 'age4', 'age5', 'age6', 'ab', 'c1', 'c2', 'children', 'council', 'no_dish',\n",
    "       'n_videos', 'price', 'price_mc', 'rent', 'sat_have', 'tv-satis', 'value', 'vcr_have', 'bbc1', 'bbc2', 'itv', 'ch4']"
   ]
  },
  {
   "cell_type": "code",
   "execution_count": 14,
   "metadata": {
    "collapsed": false
   },
   "outputs": [],
   "source": [
    "X2, y2 = CableTrain.getXy(features_2, target_name)"
   ]
  },
  {
   "cell_type": "code",
   "execution_count": 15,
   "metadata": {
    "collapsed": false
   },
   "outputs": [
    {
     "data": {
      "text/plain": [
       "ExtLogisticRegression()"
      ]
     },
     "execution_count": 15,
     "metadata": {},
     "output_type": "execute_result"
    }
   ],
   "source": [
    "Model.fit(X2, y2)"
   ]
  },
  {
   "cell_type": "code",
   "execution_count": 16,
   "metadata": {
    "collapsed": false
   },
   "outputs": [],
   "source": [
    "Model.getStats(X2, features_2)"
   ]
  },
  {
   "cell_type": "code",
   "execution_count": 17,
   "metadata": {
    "collapsed": true
   },
   "outputs": [],
   "source": [
    "eviews_output = pd.read_csv('./eviews_output_final_model.csv')"
   ]
  },
  {
   "cell_type": "code",
   "execution_count": 18,
   "metadata": {
    "collapsed": false,
    "scrolled": true
   },
   "outputs": [
    {
     "data": {
      "text/html": [
       "<div>\n",
       "<style scoped>\n",
       "    .dataframe tbody tr th:only-of-type {\n",
       "        vertical-align: middle;\n",
       "    }\n",
       "\n",
       "    .dataframe tbody tr th {\n",
       "        vertical-align: top;\n",
       "    }\n",
       "\n",
       "    .dataframe thead th {\n",
       "        text-align: right;\n",
       "    }\n",
       "</style>\n",
       "<table border=\"1\" class=\"dataframe\">\n",
       "  <thead>\n",
       "    <tr style=\"text-align: right;\">\n",
       "      <th></th>\n",
       "      <th>Coefficients</th>\n",
       "      <th>SE</th>\n",
       "      <th>p-value</th>\n",
       "    </tr>\n",
       "  </thead>\n",
       "  <tbody>\n",
       "    <tr>\n",
       "      <th>c</th>\n",
       "      <td>0.710048</td>\n",
       "      <td>0.258144</td>\n",
       "      <td>0.0001</td>\n",
       "    </tr>\n",
       "    <tr>\n",
       "      <th>age2</th>\n",
       "      <td>0.319995</td>\n",
       "      <td>0.110186</td>\n",
       "      <td>0.0109</td>\n",
       "    </tr>\n",
       "    <tr>\n",
       "      <th>age3</th>\n",
       "      <td>0.426188</td>\n",
       "      <td>0.111086</td>\n",
       "      <td>0.0054</td>\n",
       "    </tr>\n",
       "    <tr>\n",
       "      <th>age4</th>\n",
       "      <td>0.376864</td>\n",
       "      <td>0.110210</td>\n",
       "      <td>0.0100</td>\n",
       "    </tr>\n",
       "    <tr>\n",
       "      <th>age5</th>\n",
       "      <td>-0.133371</td>\n",
       "      <td>0.125621</td>\n",
       "      <td>0.3484</td>\n",
       "    </tr>\n",
       "    <tr>\n",
       "      <th>age6</th>\n",
       "      <td>-0.201481</td>\n",
       "      <td>0.117999</td>\n",
       "      <td>0.1037</td>\n",
       "    </tr>\n",
       "    <tr>\n",
       "      <th>ab</th>\n",
       "      <td>-2.419159</td>\n",
       "      <td>0.103651</td>\n",
       "      <td>0.0000</td>\n",
       "    </tr>\n",
       "    <tr>\n",
       "      <th>c1</th>\n",
       "      <td>-2.036758</td>\n",
       "      <td>0.075391</td>\n",
       "      <td>0.0000</td>\n",
       "    </tr>\n",
       "    <tr>\n",
       "      <th>c2</th>\n",
       "      <td>-0.752647</td>\n",
       "      <td>0.053890</td>\n",
       "      <td>0.0000</td>\n",
       "    </tr>\n",
       "    <tr>\n",
       "      <th>children</th>\n",
       "      <td>0.200951</td>\n",
       "      <td>0.058194</td>\n",
       "      <td>0.0029</td>\n",
       "    </tr>\n",
       "    <tr>\n",
       "      <th>council</th>\n",
       "      <td>-0.213011</td>\n",
       "      <td>0.063207</td>\n",
       "      <td>0.0001</td>\n",
       "    </tr>\n",
       "    <tr>\n",
       "      <th>no_dish</th>\n",
       "      <td>-0.045209</td>\n",
       "      <td>0.016620</td>\n",
       "      <td>0.0030</td>\n",
       "    </tr>\n",
       "    <tr>\n",
       "      <th>n_videos</th>\n",
       "      <td>0.246239</td>\n",
       "      <td>0.031540</td>\n",
       "      <td>0.0000</td>\n",
       "    </tr>\n",
       "    <tr>\n",
       "      <th>price</th>\n",
       "      <td>-0.088099</td>\n",
       "      <td>0.009461</td>\n",
       "      <td>0.0000</td>\n",
       "    </tr>\n",
       "    <tr>\n",
       "      <th>price_mc</th>\n",
       "      <td>-0.037361</td>\n",
       "      <td>0.019565</td>\n",
       "      <td>0.4462</td>\n",
       "    </tr>\n",
       "    <tr>\n",
       "      <th>rent</th>\n",
       "      <td>-0.163439</td>\n",
       "      <td>0.079770</td>\n",
       "      <td>0.0039</td>\n",
       "    </tr>\n",
       "    <tr>\n",
       "      <th>sat_have</th>\n",
       "      <td>0.609405</td>\n",
       "      <td>0.061446</td>\n",
       "      <td>0.0000</td>\n",
       "    </tr>\n",
       "    <tr>\n",
       "      <th>tv-satis</th>\n",
       "      <td>-0.136036</td>\n",
       "      <td>0.020859</td>\n",
       "      <td>0.0000</td>\n",
       "    </tr>\n",
       "    <tr>\n",
       "      <th>value</th>\n",
       "      <td>0.115063</td>\n",
       "      <td>0.017221</td>\n",
       "      <td>0.0000</td>\n",
       "    </tr>\n",
       "    <tr>\n",
       "      <th>vcr_have</th>\n",
       "      <td>0.201981</td>\n",
       "      <td>0.063256</td>\n",
       "      <td>0.0025</td>\n",
       "    </tr>\n",
       "    <tr>\n",
       "      <th>bbc1</th>\n",
       "      <td>0.065008</td>\n",
       "      <td>0.048438</td>\n",
       "      <td>0.0525</td>\n",
       "    </tr>\n",
       "    <tr>\n",
       "      <th>bbc2</th>\n",
       "      <td>0.106335</td>\n",
       "      <td>0.082466</td>\n",
       "      <td>0.0699</td>\n",
       "    </tr>\n",
       "    <tr>\n",
       "      <th>itv</th>\n",
       "      <td>-0.266400</td>\n",
       "      <td>0.048888</td>\n",
       "      <td>0.0002</td>\n",
       "    </tr>\n",
       "    <tr>\n",
       "      <th>ch4</th>\n",
       "      <td>-0.205840</td>\n",
       "      <td>0.076419</td>\n",
       "      <td>0.0430</td>\n",
       "    </tr>\n",
       "  </tbody>\n",
       "</table>\n",
       "</div>"
      ],
      "text/plain": [
       "          Coefficients        SE  p-value\n",
       "c             0.710048  0.258144   0.0001\n",
       "age2          0.319995  0.110186   0.0109\n",
       "age3          0.426188  0.111086   0.0054\n",
       "age4          0.376864  0.110210   0.0100\n",
       "age5         -0.133371  0.125621   0.3484\n",
       "age6         -0.201481  0.117999   0.1037\n",
       "ab           -2.419159  0.103651   0.0000\n",
       "c1           -2.036758  0.075391   0.0000\n",
       "c2           -0.752647  0.053890   0.0000\n",
       "children      0.200951  0.058194   0.0029\n",
       "council      -0.213011  0.063207   0.0001\n",
       "no_dish      -0.045209  0.016620   0.0030\n",
       "n_videos      0.246239  0.031540   0.0000\n",
       "price        -0.088099  0.009461   0.0000\n",
       "price_mc     -0.037361  0.019565   0.4462\n",
       "rent         -0.163439  0.079770   0.0039\n",
       "sat_have      0.609405  0.061446   0.0000\n",
       "tv-satis     -0.136036  0.020859   0.0000\n",
       "value         0.115063  0.017221   0.0000\n",
       "vcr_have      0.201981  0.063256   0.0025\n",
       "bbc1          0.065008  0.048438   0.0525\n",
       "bbc2          0.106335  0.082466   0.0699\n",
       "itv          -0.266400  0.048888   0.0002\n",
       "ch4          -0.205840  0.076419   0.0430"
      ]
     },
     "execution_count": 18,
     "metadata": {},
     "output_type": "execute_result"
    }
   ],
   "source": [
    "summary = Model.summary\n",
    "summary = summary.drop('t-stat', axis=1)\n",
    "\n",
    "eviews_output = pd.read_csv('./eviews_output_final_model.csv')\n",
    "summary['p-value'] = list(eviews_output['Prob\\xa0\\xa0']) # weird encoding issue\n",
    "\n",
    "summary"
   ]
  },
  {
   "cell_type": "markdown",
   "metadata": {},
   "source": [
    "# Final Model Evaluation & Comments:"
   ]
  },
  {
   "cell_type": "code",
   "execution_count": 19,
   "metadata": {
    "collapsed": true
   },
   "outputs": [],
   "source": [
    "# Our only remaining prior violation was somewhat weak (we don't have strong beliefs about previous television consumption)\n",
    "# Our only remaining statistical insignificance gripes are with an age dummy; we should test their joint significance, \n",
    "# but programming a Wald-test from scratch seems excessive; we just leave them in for simplicities sake.\n",
    "\n",
    "FinalModel = Model\n",
    "\n",
    "# Lets see how the model predicts w.r.t. the training data and hold out:"
   ]
  },
  {
   "cell_type": "code",
   "execution_count": 20,
   "metadata": {
    "collapsed": true
   },
   "outputs": [],
   "source": [
    "def getPhat(model, X):\n",
    "    \n",
    "    predictions = model.predict_proba(X)\n",
    "    predictions = [p[1] for p in predictions]\n",
    "    \n",
    "    return sum(predictions) / len(predictions)"
   ]
  },
  {
   "cell_type": "code",
   "execution_count": 21,
   "metadata": {
    "collapsed": false
   },
   "outputs": [
    {
     "data": {
      "text/plain": [
       "(0.30302264937012563, 0.3025027203482046)"
      ]
     },
     "execution_count": 21,
     "metadata": {},
     "output_type": "execute_result"
    }
   ],
   "source": [
    "# Report the average predicted p(buy) and actual p(buy) across the training set\n",
    "\n",
    "getPhat(FinalModel, X2), y.mean() # Looks good"
   ]
  },
  {
   "cell_type": "code",
   "execution_count": 22,
   "metadata": {
    "collapsed": false
   },
   "outputs": [],
   "source": [
    "CableHold = Dataset(cable_holdout)"
   ]
  },
  {
   "cell_type": "code",
   "execution_count": 23,
   "metadata": {
    "collapsed": true
   },
   "outputs": [],
   "source": [
    "XH, yH = CableHold.getXy(features_2, target_name)"
   ]
  },
  {
   "cell_type": "code",
   "execution_count": 24,
   "metadata": {
    "collapsed": false
   },
   "outputs": [
    {
     "data": {
      "text/plain": [
       "(0.306791031110274, 0.3229166666666667)"
      ]
     },
     "execution_count": 24,
     "metadata": {},
     "output_type": "execute_result"
    }
   ],
   "source": [
    "# Report the average predict p(buy) and actual p(buy) across the holdout\n",
    "\n",
    "getPhat(FinalModel, XH), yH.mean() # looks ~ok"
   ]
  },
  {
   "cell_type": "code",
   "execution_count": 25,
   "metadata": {
    "collapsed": true
   },
   "outputs": [],
   "source": [
    "# Our final model looks like it predicts well across our hold-out\n",
    "# All in all, we think that the Applied-like logisticRegression model is, at least somewhat, believable\n",
    "# Moving on to what-if questions..."
   ]
  },
  {
   "cell_type": "markdown",
   "metadata": {},
   "source": [
    "# KFold Cross Validation of a Logistic Regression"
   ]
  },
  {
   "cell_type": "code",
   "execution_count": 26,
   "metadata": {
    "collapsed": true
   },
   "outputs": [],
   "source": [
    "from sklearn import model_selection\n",
    "\n",
    "import random"
   ]
  },
  {
   "cell_type": "code",
   "execution_count": 27,
   "metadata": {
    "collapsed": false
   },
   "outputs": [
    {
     "data": {
      "text/plain": [
       "ExtLogisticRegression()"
      ]
     },
     "execution_count": 27,
     "metadata": {},
     "output_type": "execute_result"
    }
   ],
   "source": [
    "Cable = Dataset(cable_all)\n",
    "\n",
    "X, y = Cable.getXy(features_2, target_name)\n",
    "FinalModel.fit(X, y) # No reason to waste data"
   ]
  },
  {
   "cell_type": "code",
   "execution_count": 28,
   "metadata": {
    "collapsed": false
   },
   "outputs": [
    {
     "data": {
      "text/plain": [
       "array([0.73206377, 0.73737821, 0.73250664, 0.74224978, 0.75287865])"
      ]
     },
     "execution_count": 28,
     "metadata": {},
     "output_type": "execute_result"
    }
   ],
   "source": [
    "folds = 5\n",
    "rstate = 420\n",
    "\n",
    "kfold = model_selection.KFold(n_splits=folds, random_state=rstate) \n",
    "cv_result = model_selection.cross_val_score(LogisticRegression(), X, y, cv=kfold, scoring='accuracy')\n",
    "\n",
    "cv_result"
   ]
  },
  {
   "cell_type": "code",
   "execution_count": 29,
   "metadata": {
    "collapsed": true
   },
   "outputs": [],
   "source": [
    "# There does not seem to be an easy way to evaluate the validity of the interim models used in the CV process,\n",
    "# which is telling in and of itself - Data Scientist aren't looking to assess the robustness of models from the point of\n",
    "# view of prior violations; even the procedure looking at the parameters of models in the context\n",
    "# of sampling sensitivity doesn't come as an out of the box feature (provided we haven't missed something critical)\n",
    "\n",
    "# So what do we do with what we have access to?"
   ]
  },
  {
   "cell_type": "code",
   "execution_count": 30,
   "metadata": {
    "collapsed": true
   },
   "outputs": [],
   "source": [
    "# What does the single cv result tell us?  Not much in and of itself.\n",
    "\n",
    "# We're a little confused as to what the result of a  KFold cross validation means in the context of a structural model:\n",
    "\n",
    "# In Applied, we reserved a holdout over a date range, presumably, on purpose; we were interested in testing wether or not\n",
    "# we had identified the causal relationships between y and X (the 'truth').  In a way, we were hoping that modest structural\n",
    "# change and/or input vector changes *had* taken place between the sample and holdout period, becuase if our model could\n",
    "# predict well under such circumstances, we could be reasonably confident in the robustness of our model (an\n",
    "# explanation of y) in novel situations.\n",
    "\n",
    "# In machine learning: f*(x) = E(y | X); f* is the soln of argmin[c] of E(y|x) ([Y-c]^2 | X = x)\n",
    "\n",
    "# A Cross Validation test on a purely inferential model, therefore, can't give us an indication of how well the model is likely to\n",
    "# perform an unknown prediction set; it can only tell us wether structural change and/or input vector changes were present between the K and\n",
    "# K-1 Folds.\n",
    "\n",
    "# Sensitivity to sampling in a structural model (a failure to generalize) means that you have not identifed a general truth.\n",
    "\n",
    "# Sensitivity to sampling in an inferential framework (a failure to predict Y | X') means only that either \n",
    "# f*(X) =/= f**(X') -> there was structural change or X =/= X' -> we didn't have sufficient information between folds.\n",
    "\n",
    "# So what does our KFold result tell us?  \n",
    "\n",
    "# cv = array([0.73206377, 0.73737821, 0.73250664, 0.74224978, 0.75287865])\n",
    "\n",
    "# I don't know the distribution of cv scores, so how can I speak with confidence about sampling sensitivity?\n",
    "\n",
    "\n",
    "# I can:\n",
    "\n",
    "    # 1: Assert the distribution of cv scores\n",
    "    # 2: Use the central limit theorem and talk about population means instead\n",
    "        # -> # http://t-redactyl.io/blog/2015/10/using-k-fold-cross-validation-to-estimate-out-of-sample-accuracy.html"
   ]
  },
  {
   "cell_type": "code",
   "execution_count": 31,
   "metadata": {
    "collapsed": false
   },
   "outputs": [],
   "source": [
    "# Central Limit Theorem:\n",
    "\n",
    "# Regardless of the nature of the distribution of cv scores, we know that the population means of cv_scores will be\n",
    "# normally distributed for n sufficiently large.\n",
    "\n",
    "n = 100\n",
    "cv_means = np.array([])\n",
    "for i in range(0, n + 1):\n",
    "    \n",
    "    kfold = model_selection.KFold(n_splits=folds,shuffle=True) # Don't supply a seeded randomn state\n",
    "    cv_result = model_selection.cross_val_score(LogisticRegression(), X, y, cv=kfold, scoring='accuracy')\n",
    "    \n",
    "    cv_means = np.append(cv_means, cv_result.mean())"
   ]
  },
  {
   "cell_type": "code",
   "execution_count": 32,
   "metadata": {
    "collapsed": false
   },
   "outputs": [
    {
     "data": {
      "image/png": "[encoded data removed]",
      "text/plain": [
       "<matplotlib.figure.Figure at 0x2628000a1d0>"
      ]
     },
     "metadata": {},
     "output_type": "display_data"
    },
    {
     "name": "stdout",
     "output_type": "stream",
     "text": [
      "~95% CI:  0.7396205520100558 - 0.7448491881437647\n"
     ]
    }
   ],
   "source": [
    "std = cv_means.std()\n",
    "mean = cv_means.mean()\n",
    "\n",
    "plt.hist(cv_means, bins=15)\n",
    "plt.show()\n",
    "print('~95% CI: ', mean - (1.96 * std), '-', mean + (1.96 * std))"
   ]
  },
  {
   "cell_type": "code",
   "execution_count": 33,
   "metadata": {
    "collapsed": true
   },
   "outputs": [],
   "source": [
    "# Is this result decieving me?  Am I actually all that concerned with how well behaved the means of cv tests\n",
    "# are, or am I singularly concerned with variance around individual estimates?\n",
    "\n",
    "# Even if I believe in the process, what do I do with this information?  I arrived at this model from an\n",
    "# applied like process; should I have instead evaluated models on the basis of cv_score mean confidence intervals and\n",
    "# selected the final feature set based on the model that produced the highest cv_score mean?  The one with the tightest\n",
    "# CI?  Not sure if this is a fruitful method of decision making."
   ]
  },
  {
   "cell_type": "markdown",
   "metadata": {},
   "source": [
    "# Elasticity Simulation"
   ]
  },
  {
   "cell_type": "code",
   "execution_count": 34,
   "metadata": {
    "collapsed": true
   },
   "outputs": [],
   "source": [
    "def getSimulationRange(x, dx):\n",
    "    \n",
    "    # Accepts a series and a step: returns an ordered list ranging from the minimum to the maximum of the list\n",
    "    # in the series, seperated by steps\n",
    "    \n",
    "    min_x = min(x)\n",
    "    max_x = max(x)\n",
    "    \n",
    "    r = np.arange(min_x, max_x + dx, dx)\n",
    "    \n",
    "    return r"
   ]
  },
  {
   "cell_type": "code",
   "execution_count": 35,
   "metadata": {
    "collapsed": false
   },
   "outputs": [],
   "source": [
    "def replaceCol(arr, index, val):\n",
    "    \n",
    "    arr[:, index] = val\n",
    "    return arr"
   ]
  },
  {
   "cell_type": "code",
   "execution_count": 36,
   "metadata": {
    "collapsed": false
   },
   "outputs": [],
   "source": [
    "def getElasticity(demand_model, X_arr, price_index, min_price, max_price, dp=1): \n",
    "    \n",
    "    p1 = getSimulationRange([min_price, max_price], dp)\n",
    "    p2 = np.multiply(p1, 1.01)\n",
    "    delta = []\n",
    "    \n",
    "    for price1, price2 in zip(p1, p2):\n",
    "    \n",
    "        replaceCol(X_arr, price_index, price1)\n",
    "        y1 = getPhat(demand_model, X_arr) \n",
    "    \n",
    "        replaceCol(X_arr, price_index, price2)\n",
    "        y2 = getPhat(demand_model, X_arr)\n",
    "        \n",
    "        delta.append(((y2 - y1)/y1)/((price2 -price1) / price1))\n",
    "        \n",
    "    return p1, p2, delta"
   ]
  },
  {
   "cell_type": "code",
   "execution_count": 37,
   "metadata": {
    "collapsed": false
   },
   "outputs": [],
   "source": [
    "price_index = 13\n",
    "\n",
    "X, y = Cable.getXy(features_2, target_name)\n",
    "\n",
    "FinalModel.fit(X, y) # no need to waste data\n",
    "\n",
    "p1, p2, delta = getElasticity(FinalModel, X, price_index, 8, 15, 0.25)"
   ]
  },
  {
   "cell_type": "code",
   "execution_count": 38,
   "metadata": {
    "collapsed": false
   },
   "outputs": [],
   "source": [
    "Elasticities = pd.DataFrame({'Price': p1, 'Price Elasticity of Demand': delta})"
   ]
  },
  {
   "cell_type": "code",
   "execution_count": 39,
   "metadata": {
    "collapsed": false
   },
   "outputs": [
    {
     "data": {
      "text/html": [
       "<div>\n",
       "<style scoped>\n",
       "    .dataframe tbody tr th:only-of-type {\n",
       "        vertical-align: middle;\n",
       "    }\n",
       "\n",
       "    .dataframe tbody tr th {\n",
       "        vertical-align: top;\n",
       "    }\n",
       "\n",
       "    .dataframe thead th {\n",
       "        text-align: right;\n",
       "    }\n",
       "</style>\n",
       "<table border=\"1\" class=\"dataframe\">\n",
       "  <thead>\n",
       "    <tr style=\"text-align: right;\">\n",
       "      <th></th>\n",
       "      <th>Price</th>\n",
       "      <th>Price Elasticity of Demand</th>\n",
       "    </tr>\n",
       "  </thead>\n",
       "  <tbody>\n",
       "    <tr>\n",
       "      <th>0</th>\n",
       "      <td>8.00</td>\n",
       "      <td>-0.374148</td>\n",
       "    </tr>\n",
       "    <tr>\n",
       "      <th>1</th>\n",
       "      <td>8.25</td>\n",
       "      <td>-0.388825</td>\n",
       "    </tr>\n",
       "    <tr>\n",
       "      <th>2</th>\n",
       "      <td>8.50</td>\n",
       "      <td>-0.403686</td>\n",
       "    </tr>\n",
       "    <tr>\n",
       "      <th>3</th>\n",
       "      <td>8.75</td>\n",
       "      <td>-0.418732</td>\n",
       "    </tr>\n",
       "    <tr>\n",
       "      <th>4</th>\n",
       "      <td>9.00</td>\n",
       "      <td>-0.433962</td>\n",
       "    </tr>\n",
       "    <tr>\n",
       "      <th>5</th>\n",
       "      <td>9.25</td>\n",
       "      <td>-0.449377</td>\n",
       "    </tr>\n",
       "    <tr>\n",
       "      <th>6</th>\n",
       "      <td>9.50</td>\n",
       "      <td>-0.464975</td>\n",
       "    </tr>\n",
       "    <tr>\n",
       "      <th>7</th>\n",
       "      <td>9.75</td>\n",
       "      <td>-0.480758</td>\n",
       "    </tr>\n",
       "    <tr>\n",
       "      <th>8</th>\n",
       "      <td>10.00</td>\n",
       "      <td>-0.496724</td>\n",
       "    </tr>\n",
       "    <tr>\n",
       "      <th>9</th>\n",
       "      <td>10.25</td>\n",
       "      <td>-0.512873</td>\n",
       "    </tr>\n",
       "    <tr>\n",
       "      <th>10</th>\n",
       "      <td>10.50</td>\n",
       "      <td>-0.529206</td>\n",
       "    </tr>\n",
       "    <tr>\n",
       "      <th>11</th>\n",
       "      <td>10.75</td>\n",
       "      <td>-0.545721</td>\n",
       "    </tr>\n",
       "    <tr>\n",
       "      <th>12</th>\n",
       "      <td>11.00</td>\n",
       "      <td>-0.562419</td>\n",
       "    </tr>\n",
       "    <tr>\n",
       "      <th>13</th>\n",
       "      <td>11.25</td>\n",
       "      <td>-0.579298</td>\n",
       "    </tr>\n",
       "    <tr>\n",
       "      <th>14</th>\n",
       "      <td>11.50</td>\n",
       "      <td>-0.596359</td>\n",
       "    </tr>\n",
       "    <tr>\n",
       "      <th>15</th>\n",
       "      <td>11.75</td>\n",
       "      <td>-0.613601</td>\n",
       "    </tr>\n",
       "    <tr>\n",
       "      <th>16</th>\n",
       "      <td>12.00</td>\n",
       "      <td>-0.631023</td>\n",
       "    </tr>\n",
       "    <tr>\n",
       "      <th>17</th>\n",
       "      <td>12.25</td>\n",
       "      <td>-0.648624</td>\n",
       "    </tr>\n",
       "    <tr>\n",
       "      <th>18</th>\n",
       "      <td>12.50</td>\n",
       "      <td>-0.666404</td>\n",
       "    </tr>\n",
       "    <tr>\n",
       "      <th>19</th>\n",
       "      <td>12.75</td>\n",
       "      <td>-0.684363</td>\n",
       "    </tr>\n",
       "    <tr>\n",
       "      <th>20</th>\n",
       "      <td>13.00</td>\n",
       "      <td>-0.702498</td>\n",
       "    </tr>\n",
       "    <tr>\n",
       "      <th>21</th>\n",
       "      <td>13.25</td>\n",
       "      <td>-0.720810</td>\n",
       "    </tr>\n",
       "    <tr>\n",
       "      <th>22</th>\n",
       "      <td>13.50</td>\n",
       "      <td>-0.739298</td>\n",
       "    </tr>\n",
       "    <tr>\n",
       "      <th>23</th>\n",
       "      <td>13.75</td>\n",
       "      <td>-0.757960</td>\n",
       "    </tr>\n",
       "    <tr>\n",
       "      <th>24</th>\n",
       "      <td>14.00</td>\n",
       "      <td>-0.776796</td>\n",
       "    </tr>\n",
       "    <tr>\n",
       "      <th>25</th>\n",
       "      <td>14.25</td>\n",
       "      <td>-0.795804</td>\n",
       "    </tr>\n",
       "    <tr>\n",
       "      <th>26</th>\n",
       "      <td>14.50</td>\n",
       "      <td>-0.814984</td>\n",
       "    </tr>\n",
       "    <tr>\n",
       "      <th>27</th>\n",
       "      <td>14.75</td>\n",
       "      <td>-0.834335</td>\n",
       "    </tr>\n",
       "    <tr>\n",
       "      <th>28</th>\n",
       "      <td>15.00</td>\n",
       "      <td>-0.853855</td>\n",
       "    </tr>\n",
       "  </tbody>\n",
       "</table>\n",
       "</div>"
      ],
      "text/plain": [
       "    Price  Price Elasticity of Demand\n",
       "0    8.00                   -0.374148\n",
       "1    8.25                   -0.388825\n",
       "2    8.50                   -0.403686\n",
       "3    8.75                   -0.418732\n",
       "4    9.00                   -0.433962\n",
       "5    9.25                   -0.449377\n",
       "6    9.50                   -0.464975\n",
       "7    9.75                   -0.480758\n",
       "8   10.00                   -0.496724\n",
       "9   10.25                   -0.512873\n",
       "10  10.50                   -0.529206\n",
       "11  10.75                   -0.545721\n",
       "12  11.00                   -0.562419\n",
       "13  11.25                   -0.579298\n",
       "14  11.50                   -0.596359\n",
       "15  11.75                   -0.613601\n",
       "16  12.00                   -0.631023\n",
       "17  12.25                   -0.648624\n",
       "18  12.50                   -0.666404\n",
       "19  12.75                   -0.684363\n",
       "20  13.00                   -0.702498\n",
       "21  13.25                   -0.720810\n",
       "22  13.50                   -0.739298\n",
       "23  13.75                   -0.757960\n",
       "24  14.00                   -0.776796\n",
       "25  14.25                   -0.795804\n",
       "26  14.50                   -0.814984\n",
       "27  14.75                   -0.834335\n",
       "28  15.00                   -0.853855"
      ]
     },
     "execution_count": 39,
     "metadata": {},
     "output_type": "execute_result"
    }
   ],
   "source": [
    "Elasticities"
   ]
  },
  {
   "cell_type": "code",
   "execution_count": 40,
   "metadata": {
    "collapsed": false
   },
   "outputs": [
    {
     "data": {
      "text/plain": [
       "-0.3741477180767155"
      ]
     },
     "execution_count": 40,
     "metadata": {},
     "output_type": "execute_result"
    }
   ],
   "source": [
    "# Elasticity check\n",
    "\n",
    "market_size = 100000\n",
    "X = replaceCol(X, price_index, 8)\n",
    "demand1 = getPhat(FinalModel, X) * market_size\n",
    "\n",
    "X = replaceCol(X, price_index, 8.08)\n",
    "demand2 = getPhat(FinalModel, X) * market_size\n",
    "\n",
    "((demand2 - demand1) / demand1) / (.01) # ok, looks good"
   ]
  },
  {
   "cell_type": "code",
   "execution_count": null,
   "metadata": {
    "collapsed": true
   },
   "outputs": [],
   "source": []
  }
 ],
 "metadata": {
  "kernelspec": {
   "display_name": "Python 3",
   "language": "python",
   "name": "python3"
  },
  "language_info": {
   "codemirror_mode": {
    "name": "ipython",
    "version": 3
   },
   "file_extension": ".py",
   "mimetype": "text/x-python",
   "name": "python",
   "nbconvert_exporter": "python",
   "pygments_lexer": "ipython3",
   "version": "3.5.4"
  }
 },
 "nbformat": 4,
 "nbformat_minor": 0
}
