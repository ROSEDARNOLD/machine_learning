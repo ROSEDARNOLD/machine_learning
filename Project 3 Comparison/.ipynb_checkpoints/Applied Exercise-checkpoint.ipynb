{
 "cells": [
  {
   "cell_type": "markdown",
   "metadata": {},
   "source": [
    "# 'Applied' Exercise"
   ]
  },
  {
   "cell_type": "code",
   "execution_count": 10,
   "metadata": {
    "collapsed": false
   },
   "outputs": [],
   "source": [
    "import numpy as np\n",
    "import pandas as pd\n",
    "from sklearn.linear_model import LogisticRegression\n",
    "from sklearn.model_selection import KFold\n",
    "from sklearn.metrics import log_loss"
   ]
  },
  {
   "cell_type": "code",
   "execution_count": 11,
   "metadata": {
    "collapsed": true
   },
   "outputs": [],
   "source": [
    "# from profk import Dataset"
   ]
  },
  {
   "cell_type": "code",
   "execution_count": 12,
   "metadata": {
    "collapsed": true
   },
   "outputs": [],
   "source": [
    "%matplotlib inline\n",
    "import matplotlib.pyplot as plt"
   ]
  },
  {
   "cell_type": "code",
   "execution_count": 13,
   "metadata": {
    "collapsed": false
   },
   "outputs": [],
   "source": [
    "cable_training = pd.read_csv('./Data/training.csv', na_values=(-999, 6)) # value = 6 corresponds to refusal to answer, 6 nowhere else in data\n",
    "cable_holdout = pd.read_csv('./Data/holdout.csv', na_values=(-999, 6))\n",
    "cable_all = pd.concat([cable_training, cable_holdout])"
   ]
  },
  {
   "cell_type": "markdown",
   "metadata": {},
   "source": [
    "# Adjust the Feature Set"
   ]
  },
  {
   "cell_type": "code",
   "execution_count": 14,
   "metadata": {
    "collapsed": true
   },
   "outputs": [],
   "source": [
    "def CleanCableData(df):\n",
    "    \n",
    "    # omitting irrelevant/redundant columns and singular dummies (age=1, class=poor(d and e))\n",
    "    \n",
    "    drop = ['YES', 'ID', 'age', 'class', 'tele_have', 'd', 'de'] \n",
    "    df['value'] = [(i - 3) for i in df['value']] # Normalize (-2 to +2)\n",
    "    df = df[[col for col in df.columns if col not in drop]]\n",
    "    df = df.dropna()\n",
    "    \n",
    "    return df"
   ]
  },
  {
   "cell_type": "code",
   "execution_count": 6,
   "metadata": {
    "collapsed": true
   },
   "outputs": [],
   "source": [
    "CableTrain = Dataset(cable_training)"
   ]
  },
  {
   "cell_type": "code",
   "execution_count": 15,
   "metadata": {
    "collapsed": false
   },
   "outputs": [],
   "source": [
    "cable_training = CleanCableData(cable_training)"
   ]
  },
  {
   "cell_type": "code",
   "execution_count": 16,
   "metadata": {
    "collapsed": false
   },
   "outputs": [],
   "source": [
    "cable_training.insert(0, column='c', value=1) # add a constant column\n",
    "\n",
    "y = pd.DataFrame(cable_training['buy'])\n",
    "X = cable_training[[col for col in cable_training.columns if col != 'buy']]\n",
    "\n",
    "feature_names = X.columns\n",
    "X = np.array(X)"
   ]
  },
  {
   "cell_type": "markdown",
   "metadata": {},
   "source": [
    "# Model Estimation & Display"
   ]
  },
  {
   "cell_type": "code",
   "execution_count": 24,
   "metadata": {
    "collapsed": false
   },
   "outputs": [],
   "source": [
    "# Extend the sklearn LogisticRegression class to return Standard Errors and T-statistics\n",
    "\n",
    "class ExtLogisticRegression(LogisticRegression):\n",
    "    \n",
    "    def __init__(self):\n",
    "        \n",
    "        LogisticRegression.__init__(self)\n",
    "            \n",
    "    def tstat(self, estimate, se): return estimate / se\n",
    "    \n",
    "    def getStats(self, X, feature_names): # passing X again after fit() is ugly, but unavoidable without serious class amendment.\n",
    "        \n",
    "        '''Courtesy of: \n",
    "        # https://stats.stackexchange.com/questions/89484/how-to-compute-the-standard-errors-of-a-logistic-regressions-coefficients\n",
    "        # The covariance matrix as given by: (X'VX)^-1\n",
    "\n",
    "        # X: (n x k), X': (k x n)\n",
    "        # V: (n x n)\n",
    "\n",
    "        # -> X'VX: (k x k)'''\n",
    "\n",
    "        n = len(X)\n",
    "        predictions = np.matrix(self.predict_proba(X))\n",
    "\n",
    "        # Initiate matrix of 0's, fill diagonal with each predicted observation's variance\n",
    "        V = np.matrix(np.zeros(shape = (n, n)))\n",
    "\n",
    "        p_no = predictions[:,0] # array of all p(no buy)\n",
    "        p_yes = (predictions[:,1]).A1 # flattened array of all p(buy)\n",
    "\n",
    "        np.fill_diagonal(V, np.multiply(p_no, p_yes)) # n X n \n",
    "\n",
    "        # Covariance matrix\n",
    "        cov = np.linalg.inv(X.T * V * X)\n",
    "\n",
    "        # Standard errors\n",
    "        se = np.sqrt(np.diag(cov))\n",
    "        \n",
    "        # Check with E-Views output -> ~ok\n",
    "        \n",
    "        tstats = pd.Series(map(self.tstat, self.coef_,se))[0]\n",
    "        \n",
    "        summary = pd.DataFrame({'Coefficients': list(self.coef_[0]), 'SE': list(se), 't-stat': list(tstats)})\n",
    "        summary = summary.set_index(feature_names)\n",
    "        \n",
    "        self.summary = summary"
   ]
  },
  {
   "cell_type": "code",
   "execution_count": 25,
   "metadata": {
    "collapsed": false
   },
   "outputs": [],
   "source": [
    "Model = ExtLogisticRegression()"
   ]
  },
  {
   "cell_type": "code",
   "execution_count": 26,
   "metadata": {
    "collapsed": false
   },
   "outputs": [
    {
     "name": "stderr",
     "output_type": "stream",
     "text": [
      "C:\\Users\\cjrdn_000\\Anaconda3\\lib\\site-packages\\sklearn\\utils\\validation.py:526: DataConversionWarning: A column-vector y was passed when a 1d array was expected. Please change the shape of y to (n_samples, ), for example using ravel().\n",
      "  y = column_or_1d(y, warn=True)\n"
     ]
    },
    {
     "data": {
      "text/plain": [
       "ExtLogisticRegression()"
      ]
     },
     "execution_count": 26,
     "metadata": {},
     "output_type": "execute_result"
    }
   ],
   "source": [
    "Model.fit(X, y)"
   ]
  },
  {
   "cell_type": "code",
   "execution_count": 27,
   "metadata": {
    "collapsed": false
   },
   "outputs": [],
   "source": [
    "Model.getStats(X, feature_names)"
   ]
  },
  {
   "cell_type": "code",
   "execution_count": 28,
   "metadata": {
    "collapsed": false
   },
   "outputs": [
    {
     "data": {
      "text/html": [
       "<div>\n",
       "<style scoped>\n",
       "    .dataframe tbody tr th:only-of-type {\n",
       "        vertical-align: middle;\n",
       "    }\n",
       "\n",
       "    .dataframe tbody tr th {\n",
       "        vertical-align: top;\n",
       "    }\n",
       "\n",
       "    .dataframe thead th {\n",
       "        text-align: right;\n",
       "    }\n",
       "</style>\n",
       "<table border=\"1\" class=\"dataframe\">\n",
       "  <thead>\n",
       "    <tr style=\"text-align: right;\">\n",
       "      <th></th>\n",
       "      <th>Coefficients</th>\n",
       "      <th>SE</th>\n",
       "      <th>p-value</th>\n",
       "    </tr>\n",
       "  </thead>\n",
       "  <tbody>\n",
       "    <tr>\n",
       "      <th>c</th>\n",
       "      <td>0.357277</td>\n",
       "      <td>0.300927</td>\n",
       "      <td>0.0246</td>\n",
       "    </tr>\n",
       "    <tr>\n",
       "      <th>age2</th>\n",
       "      <td>0.271506</td>\n",
       "      <td>0.113775</td>\n",
       "      <td>0.0229</td>\n",
       "    </tr>\n",
       "    <tr>\n",
       "      <th>age3</th>\n",
       "      <td>0.335084</td>\n",
       "      <td>0.115239</td>\n",
       "      <td>0.0057</td>\n",
       "    </tr>\n",
       "    <tr>\n",
       "      <th>age4</th>\n",
       "      <td>0.342480</td>\n",
       "      <td>0.114885</td>\n",
       "      <td>0.0043</td>\n",
       "    </tr>\n",
       "    <tr>\n",
       "      <th>age5</th>\n",
       "      <td>0.005747</td>\n",
       "      <td>0.132889</td>\n",
       "      <td>0.9307</td>\n",
       "    </tr>\n",
       "    <tr>\n",
       "      <th>age6</th>\n",
       "      <td>0.006027</td>\n",
       "      <td>0.129059</td>\n",
       "      <td>0.9280</td>\n",
       "    </tr>\n",
       "    <tr>\n",
       "      <th>ab</th>\n",
       "      <td>-2.624517</td>\n",
       "      <td>0.114740</td>\n",
       "      <td>0.0000</td>\n",
       "    </tr>\n",
       "    <tr>\n",
       "      <th>c1</th>\n",
       "      <td>-2.195010</td>\n",
       "      <td>0.082904</td>\n",
       "      <td>0.0000</td>\n",
       "    </tr>\n",
       "    <tr>\n",
       "      <th>c2</th>\n",
       "      <td>-0.828344</td>\n",
       "      <td>0.057754</td>\n",
       "      <td>0.0000</td>\n",
       "    </tr>\n",
       "    <tr>\n",
       "      <th>children</th>\n",
       "      <td>0.276937</td>\n",
       "      <td>0.063324</td>\n",
       "      <td>0.0001</td>\n",
       "    </tr>\n",
       "    <tr>\n",
       "      <th>council</th>\n",
       "      <td>-0.259984</td>\n",
       "      <td>0.067515</td>\n",
       "      <td>0.0004</td>\n",
       "    </tr>\n",
       "    <tr>\n",
       "      <th>emp_ft</th>\n",
       "      <td>0.385142</td>\n",
       "      <td>0.063802</td>\n",
       "      <td>0.0000</td>\n",
       "    </tr>\n",
       "    <tr>\n",
       "      <th>emp_hwife</th>\n",
       "      <td>0.205446</td>\n",
       "      <td>0.070488</td>\n",
       "      <td>0.0084</td>\n",
       "    </tr>\n",
       "    <tr>\n",
       "      <th>no_dish</th>\n",
       "      <td>-0.052723</td>\n",
       "      <td>0.018113</td>\n",
       "      <td>0.0074</td>\n",
       "    </tr>\n",
       "    <tr>\n",
       "      <th>n_videos</th>\n",
       "      <td>0.283967</td>\n",
       "      <td>0.033824</td>\n",
       "      <td>0.0000</td>\n",
       "    </tr>\n",
       "    <tr>\n",
       "      <th>price</th>\n",
       "      <td>-0.081947</td>\n",
       "      <td>0.010138</td>\n",
       "      <td>0.0000</td>\n",
       "    </tr>\n",
       "    <tr>\n",
       "      <th>price_mc</th>\n",
       "      <td>-0.016759</td>\n",
       "      <td>0.020784</td>\n",
       "      <td>0.4265</td>\n",
       "    </tr>\n",
       "    <tr>\n",
       "      <th>prog_qual</th>\n",
       "      <td>0.055656</td>\n",
       "      <td>0.039374</td>\n",
       "      <td>0.2054</td>\n",
       "    </tr>\n",
       "    <tr>\n",
       "      <th>race</th>\n",
       "      <td>0.034209</td>\n",
       "      <td>0.023469</td>\n",
       "      <td>0.1913</td>\n",
       "    </tr>\n",
       "    <tr>\n",
       "      <th>rent</th>\n",
       "      <td>-0.228814</td>\n",
       "      <td>0.086332</td>\n",
       "      <td>0.0119</td>\n",
       "    </tr>\n",
       "    <tr>\n",
       "      <th>sat_have</th>\n",
       "      <td>0.570994</td>\n",
       "      <td>0.065642</td>\n",
       "      <td>0.0000</td>\n",
       "    </tr>\n",
       "    <tr>\n",
       "      <th>sex</th>\n",
       "      <td>0.133960</td>\n",
       "      <td>0.058382</td>\n",
       "      <td>0.0360</td>\n",
       "    </tr>\n",
       "    <tr>\n",
       "      <th>tv-satis</th>\n",
       "      <td>-0.121061</td>\n",
       "      <td>0.022532</td>\n",
       "      <td>0.0000</td>\n",
       "    </tr>\n",
       "    <tr>\n",
       "      <th>value</th>\n",
       "      <td>0.129149</td>\n",
       "      <td>0.031799</td>\n",
       "      <td>0.0002</td>\n",
       "    </tr>\n",
       "    <tr>\n",
       "      <th>vcr_have</th>\n",
       "      <td>0.239867</td>\n",
       "      <td>0.068685</td>\n",
       "      <td>0.0008</td>\n",
       "    </tr>\n",
       "    <tr>\n",
       "      <th>bbc1</th>\n",
       "      <td>0.112133</td>\n",
       "      <td>0.051936</td>\n",
       "      <td>0.0453</td>\n",
       "    </tr>\n",
       "    <tr>\n",
       "      <th>bbc2</th>\n",
       "      <td>0.203114</td>\n",
       "      <td>0.087210</td>\n",
       "      <td>0.0290</td>\n",
       "    </tr>\n",
       "    <tr>\n",
       "      <th>itv</th>\n",
       "      <td>-0.222381</td>\n",
       "      <td>0.053531</td>\n",
       "      <td>0.0001</td>\n",
       "    </tr>\n",
       "    <tr>\n",
       "      <th>ch4</th>\n",
       "      <td>-0.176778</td>\n",
       "      <td>0.081186</td>\n",
       "      <td>0.0371</td>\n",
       "    </tr>\n",
       "  </tbody>\n",
       "</table>\n",
       "</div>"
      ],
      "text/plain": [
       "           Coefficients        SE  p-value\n",
       "c              0.357277  0.300927   0.0246\n",
       "age2           0.271506  0.113775   0.0229\n",
       "age3           0.335084  0.115239   0.0057\n",
       "age4           0.342480  0.114885   0.0043\n",
       "age5           0.005747  0.132889   0.9307\n",
       "age6           0.006027  0.129059   0.9280\n",
       "ab            -2.624517  0.114740   0.0000\n",
       "c1            -2.195010  0.082904   0.0000\n",
       "c2            -0.828344  0.057754   0.0000\n",
       "children       0.276937  0.063324   0.0001\n",
       "council       -0.259984  0.067515   0.0004\n",
       "emp_ft         0.385142  0.063802   0.0000\n",
       "emp_hwife      0.205446  0.070488   0.0084\n",
       "no_dish       -0.052723  0.018113   0.0074\n",
       "n_videos       0.283967  0.033824   0.0000\n",
       "price         -0.081947  0.010138   0.0000\n",
       "price_mc      -0.016759  0.020784   0.4265\n",
       "prog_qual      0.055656  0.039374   0.2054\n",
       "race           0.034209  0.023469   0.1913\n",
       "rent          -0.228814  0.086332   0.0119\n",
       "sat_have       0.570994  0.065642   0.0000\n",
       "sex            0.133960  0.058382   0.0360\n",
       "tv-satis      -0.121061  0.022532   0.0000\n",
       "value          0.129149  0.031799   0.0002\n",
       "vcr_have       0.239867  0.068685   0.0008\n",
       "bbc1           0.112133  0.051936   0.0453\n",
       "bbc2           0.203114  0.087210   0.0290\n",
       "itv           -0.222381  0.053531   0.0001\n",
       "ch4           -0.176778  0.081186   0.0371"
      ]
     },
     "execution_count": 28,
     "metadata": {},
     "output_type": "execute_result"
    }
   ],
   "source": [
    "# Please see  for an Eviews comparison; though there may exist some minute differences in\n",
    "# calculation (esp. for the constant term), we think our estimates are sufficiently to Eviews close to justify moving forward.\n",
    "\n",
    "# Eviews claims that, since normality conditions only holds asymptotically, a reported t-statistic is erroneous.\n",
    "# We were unable to find the Eviews derivation of a p-value in a reasonable amount of time; due to the similarity of coefficients\n",
    "# and SEs across the model elsewhere, we will just assume that the p-values derived from E-views apply here.  We can spend some\n",
    "# more time tracking down and copying Eviews method if it would be a valuable exercise.\n",
    "\n",
    "summary = Model.summary\n",
    "summary = summary.drop('t-stat', axis=1)\n",
    "\n",
    "eviews_output = pd.read_csv('./eviews_output.csv')\n",
    "summary['p-value'] = list(eviews_output['Prob\\xa0\\xa0']) # I have no idea...weird encoding issue\n",
    "\n",
    "summary"
   ]
  },
  {
   "cell_type": "markdown",
   "metadata": {},
   "source": [
    "# Applied-Like Process Improvement"
   ]
  },
  {
   "cell_type": "code",
   "execution_count": 31,
   "metadata": {
    "collapsed": true
   },
   "outputs": [],
   "source": [
    "# Quick notes:  As with the original Applied project, we don't have many sign priors outside of the obvious: \n",
    "\n",
    "    # negative sign on price\n",
    "    # negative sign on income measures (low-class stigma, inferior good - entertainment)\n",
    "    # negative sign on the price of compliments (price_mc)\n",
    "\n",
    "# Weaker cases can be made for other beliefs:\n",
    "\n",
    "    # negative sign on rent (lease agreement forbids installation)\n",
    "    # negative sign on consumption of disimliar programming (high-brow BBC channels)\n",
    "    # positive sign on consumption of similar programming (low-brow ITV & CH4)\n",
    "    \n",
    "# Elsewhere, cultural differences between the US and UK, as well as the existince of bi-directional multiple marginal effects\n",
    "# within the same variables (kids want tv more than adults, but parents don't want them to watch it) preclude strong\n",
    "# assumptions about the effect of other demographic information.\n",
    "\n",
    "# ***This should probably be done in order of prior violation magnitude, but we attempt all drops simultaneously for brevity***\n",
    "\n",
    "# A minor prior violation on the income measures of EMP_FT and EMP_HWIFE (redundant proxies for income?) suggests a drop of both\n",
    "\n",
    "# Since program quality is likely proxying an effect like value and it is statistically insignificant, we attempt a drop\n",
    "\n",
    "# Since we don't have strong priors about the importance of the stat. insignificant Race, we attempt a drop\n",
    "\n",
    "# price_mc is also insignificant, but we have good reasons from theory to leave it in (price of compliment, correctly signed)\n",
    "\n",
    "# sex will prove to be insignificant in later rounds of testing; also dropped here for brevity"
   ]
  },
  {
   "cell_type": "code",
   "execution_count": 32,
   "metadata": {
    "collapsed": true
   },
   "outputs": [],
   "source": [
    "# As an applied exercise, I think it makes more sense to specify what to include, as opposed to what\n",
    "# you want to exclude.\n",
    "\n",
    "keep = ['c', 'age2', 'age3', 'age4', 'age5', 'age6', 'buy', 'ab', 'c1', 'c2', 'children', 'council', 'no_dish',\n",
    "       'n_videos', 'price', 'price_mc', 'rent', 'sat_have', 'value', 'vcr_have', 'bbc1', 'bbc2', 'itv', 'ch4']"
   ]
  },
  {
   "cell_type": "code",
   "execution_count": 33,
   "metadata": {
    "collapsed": false
   },
   "outputs": [],
   "source": [
    "cable_training = cable_training[keep]"
   ]
  },
  {
   "cell_type": "code",
   "execution_count": 34,
   "metadata": {
    "collapsed": false
   },
   "outputs": [],
   "source": [
    "# This mess should all be abstracted out to functions\n",
    "\n",
    "\n",
    "y = pd.DataFrame(cable_training['buy'])\n",
    "X = cable_training[[col for col in cable_training.columns if col != 'buy']]\n",
    "\n",
    "feature_names = X.columns\n",
    "X = np.array(X)"
   ]
  },
  {
   "cell_type": "code",
   "execution_count": 35,
   "metadata": {
    "collapsed": false
   },
   "outputs": [
    {
     "name": "stderr",
     "output_type": "stream",
     "text": [
      "C:\\Users\\cjrdn_000\\Anaconda3\\lib\\site-packages\\sklearn\\utils\\validation.py:526: DataConversionWarning: A column-vector y was passed when a 1d array was expected. Please change the shape of y to (n_samples, ), for example using ravel().\n",
      "  y = column_or_1d(y, warn=True)\n"
     ]
    },
    {
     "data": {
      "text/plain": [
       "ExtLogisticRegression()"
      ]
     },
     "execution_count": 35,
     "metadata": {},
     "output_type": "execute_result"
    }
   ],
   "source": [
    "Model = ExtLogisticRegression()\n",
    "Model.fit(X, y)"
   ]
  },
  {
   "cell_type": "code",
   "execution_count": 36,
   "metadata": {
    "collapsed": false
   },
   "outputs": [],
   "source": [
    "Model.getStats(X, feature_names)"
   ]
  },
  {
   "cell_type": "code",
   "execution_count": 37,
   "metadata": {
    "collapsed": true
   },
   "outputs": [],
   "source": [
    "eviews_output = pd.read_csv('./eviews_output_final_model.csv')"
   ]
  },
  {
   "cell_type": "code",
   "execution_count": 38,
   "metadata": {
    "collapsed": false
   },
   "outputs": [
    {
     "ename": "ValueError",
     "evalue": "Length of values does not match length of index",
     "output_type": "error",
     "traceback": [
      "\u001b[1;31m---------------------------------------------------------------------------\u001b[0m",
      "\u001b[1;31mValueError\u001b[0m                                Traceback (most recent call last)",
      "\u001b[1;32m<ipython-input-38-d59dd3bed6a5>\u001b[0m in \u001b[0;36m<module>\u001b[1;34m()\u001b[0m\n\u001b[0;32m      3\u001b[0m \u001b[1;33m\u001b[0m\u001b[0m\n\u001b[0;32m      4\u001b[0m \u001b[0meviews_output\u001b[0m \u001b[1;33m=\u001b[0m \u001b[0mpd\u001b[0m\u001b[1;33m.\u001b[0m\u001b[0mread_csv\u001b[0m\u001b[1;33m(\u001b[0m\u001b[1;34m'./eviews_output_final_model.csv'\u001b[0m\u001b[1;33m)\u001b[0m\u001b[1;33m\u001b[0m\u001b[0m\n\u001b[1;32m----> 5\u001b[1;33m \u001b[0msummary\u001b[0m\u001b[1;33m[\u001b[0m\u001b[1;34m'p-value'\u001b[0m\u001b[1;33m]\u001b[0m \u001b[1;33m=\u001b[0m \u001b[0mlist\u001b[0m\u001b[1;33m(\u001b[0m\u001b[0meviews_output\u001b[0m\u001b[1;33m[\u001b[0m\u001b[1;34m'Prob\\xa0\\xa0'\u001b[0m\u001b[1;33m]\u001b[0m\u001b[1;33m)\u001b[0m \u001b[1;31m# weird encoding issue\u001b[0m\u001b[1;33m\u001b[0m\u001b[0m\n\u001b[0m\u001b[0;32m      6\u001b[0m \u001b[1;33m\u001b[0m\u001b[0m\n\u001b[0;32m      7\u001b[0m \u001b[0msummary\u001b[0m\u001b[1;33m\u001b[0m\u001b[0m\n",
      "\u001b[1;32mC:\\Users\\cjrdn_000\\Anaconda3\\lib\\site-packages\\pandas\\core\\frame.py\u001b[0m in \u001b[0;36m__setitem__\u001b[1;34m(self, key, value)\u001b[0m\n\u001b[0;32m   2517\u001b[0m         \u001b[1;32melse\u001b[0m\u001b[1;33m:\u001b[0m\u001b[1;33m\u001b[0m\u001b[0m\n\u001b[0;32m   2518\u001b[0m             \u001b[1;31m# set column\u001b[0m\u001b[1;33m\u001b[0m\u001b[1;33m\u001b[0m\u001b[0m\n\u001b[1;32m-> 2519\u001b[1;33m             \u001b[0mself\u001b[0m\u001b[1;33m.\u001b[0m\u001b[0m_set_item\u001b[0m\u001b[1;33m(\u001b[0m\u001b[0mkey\u001b[0m\u001b[1;33m,\u001b[0m \u001b[0mvalue\u001b[0m\u001b[1;33m)\u001b[0m\u001b[1;33m\u001b[0m\u001b[0m\n\u001b[0m\u001b[0;32m   2520\u001b[0m \u001b[1;33m\u001b[0m\u001b[0m\n\u001b[0;32m   2521\u001b[0m     \u001b[1;32mdef\u001b[0m \u001b[0m_setitem_slice\u001b[0m\u001b[1;33m(\u001b[0m\u001b[0mself\u001b[0m\u001b[1;33m,\u001b[0m \u001b[0mkey\u001b[0m\u001b[1;33m,\u001b[0m \u001b[0mvalue\u001b[0m\u001b[1;33m)\u001b[0m\u001b[1;33m:\u001b[0m\u001b[1;33m\u001b[0m\u001b[0m\n",
      "\u001b[1;32mC:\\Users\\cjrdn_000\\Anaconda3\\lib\\site-packages\\pandas\\core\\frame.py\u001b[0m in \u001b[0;36m_set_item\u001b[1;34m(self, key, value)\u001b[0m\n\u001b[0;32m   2583\u001b[0m \u001b[1;33m\u001b[0m\u001b[0m\n\u001b[0;32m   2584\u001b[0m         \u001b[0mself\u001b[0m\u001b[1;33m.\u001b[0m\u001b[0m_ensure_valid_index\u001b[0m\u001b[1;33m(\u001b[0m\u001b[0mvalue\u001b[0m\u001b[1;33m)\u001b[0m\u001b[1;33m\u001b[0m\u001b[0m\n\u001b[1;32m-> 2585\u001b[1;33m         \u001b[0mvalue\u001b[0m \u001b[1;33m=\u001b[0m \u001b[0mself\u001b[0m\u001b[1;33m.\u001b[0m\u001b[0m_sanitize_column\u001b[0m\u001b[1;33m(\u001b[0m\u001b[0mkey\u001b[0m\u001b[1;33m,\u001b[0m \u001b[0mvalue\u001b[0m\u001b[1;33m)\u001b[0m\u001b[1;33m\u001b[0m\u001b[0m\n\u001b[0m\u001b[0;32m   2586\u001b[0m         \u001b[0mNDFrame\u001b[0m\u001b[1;33m.\u001b[0m\u001b[0m_set_item\u001b[0m\u001b[1;33m(\u001b[0m\u001b[0mself\u001b[0m\u001b[1;33m,\u001b[0m \u001b[0mkey\u001b[0m\u001b[1;33m,\u001b[0m \u001b[0mvalue\u001b[0m\u001b[1;33m)\u001b[0m\u001b[1;33m\u001b[0m\u001b[0m\n\u001b[0;32m   2587\u001b[0m \u001b[1;33m\u001b[0m\u001b[0m\n",
      "\u001b[1;32mC:\\Users\\cjrdn_000\\Anaconda3\\lib\\site-packages\\pandas\\core\\frame.py\u001b[0m in \u001b[0;36m_sanitize_column\u001b[1;34m(self, key, value, broadcast)\u001b[0m\n\u001b[0;32m   2758\u001b[0m \u001b[1;33m\u001b[0m\u001b[0m\n\u001b[0;32m   2759\u001b[0m             \u001b[1;31m# turn me into an ndarray\u001b[0m\u001b[1;33m\u001b[0m\u001b[1;33m\u001b[0m\u001b[0m\n\u001b[1;32m-> 2760\u001b[1;33m             \u001b[0mvalue\u001b[0m \u001b[1;33m=\u001b[0m \u001b[0m_sanitize_index\u001b[0m\u001b[1;33m(\u001b[0m\u001b[0mvalue\u001b[0m\u001b[1;33m,\u001b[0m \u001b[0mself\u001b[0m\u001b[1;33m.\u001b[0m\u001b[0mindex\u001b[0m\u001b[1;33m,\u001b[0m \u001b[0mcopy\u001b[0m\u001b[1;33m=\u001b[0m\u001b[1;32mFalse\u001b[0m\u001b[1;33m)\u001b[0m\u001b[1;33m\u001b[0m\u001b[0m\n\u001b[0m\u001b[0;32m   2761\u001b[0m             \u001b[1;32mif\u001b[0m \u001b[1;32mnot\u001b[0m \u001b[0misinstance\u001b[0m\u001b[1;33m(\u001b[0m\u001b[0mvalue\u001b[0m\u001b[1;33m,\u001b[0m \u001b[1;33m(\u001b[0m\u001b[0mnp\u001b[0m\u001b[1;33m.\u001b[0m\u001b[0mndarray\u001b[0m\u001b[1;33m,\u001b[0m \u001b[0mIndex\u001b[0m\u001b[1;33m)\u001b[0m\u001b[1;33m)\u001b[0m\u001b[1;33m:\u001b[0m\u001b[1;33m\u001b[0m\u001b[0m\n\u001b[0;32m   2762\u001b[0m                 \u001b[1;32mif\u001b[0m \u001b[0misinstance\u001b[0m\u001b[1;33m(\u001b[0m\u001b[0mvalue\u001b[0m\u001b[1;33m,\u001b[0m \u001b[0mlist\u001b[0m\u001b[1;33m)\u001b[0m \u001b[1;32mand\u001b[0m \u001b[0mlen\u001b[0m\u001b[1;33m(\u001b[0m\u001b[0mvalue\u001b[0m\u001b[1;33m)\u001b[0m \u001b[1;33m>\u001b[0m \u001b[1;36m0\u001b[0m\u001b[1;33m:\u001b[0m\u001b[1;33m\u001b[0m\u001b[0m\n",
      "\u001b[1;32mC:\\Users\\cjrdn_000\\Anaconda3\\lib\\site-packages\\pandas\\core\\series.py\u001b[0m in \u001b[0;36m_sanitize_index\u001b[1;34m(data, index, copy)\u001b[0m\n\u001b[0;32m   3119\u001b[0m \u001b[1;33m\u001b[0m\u001b[0m\n\u001b[0;32m   3120\u001b[0m     \u001b[1;32mif\u001b[0m \u001b[0mlen\u001b[0m\u001b[1;33m(\u001b[0m\u001b[0mdata\u001b[0m\u001b[1;33m)\u001b[0m \u001b[1;33m!=\u001b[0m \u001b[0mlen\u001b[0m\u001b[1;33m(\u001b[0m\u001b[0mindex\u001b[0m\u001b[1;33m)\u001b[0m\u001b[1;33m:\u001b[0m\u001b[1;33m\u001b[0m\u001b[0m\n\u001b[1;32m-> 3121\u001b[1;33m         \u001b[1;32mraise\u001b[0m \u001b[0mValueError\u001b[0m\u001b[1;33m(\u001b[0m\u001b[1;34m'Length of values does not match length of '\u001b[0m \u001b[1;34m'index'\u001b[0m\u001b[1;33m)\u001b[0m\u001b[1;33m\u001b[0m\u001b[0m\n\u001b[0m\u001b[0;32m   3122\u001b[0m \u001b[1;33m\u001b[0m\u001b[0m\n\u001b[0;32m   3123\u001b[0m     \u001b[1;32mif\u001b[0m \u001b[0misinstance\u001b[0m\u001b[1;33m(\u001b[0m\u001b[0mdata\u001b[0m\u001b[1;33m,\u001b[0m \u001b[0mPeriodIndex\u001b[0m\u001b[1;33m)\u001b[0m\u001b[1;33m:\u001b[0m\u001b[1;33m\u001b[0m\u001b[0m\n",
      "\u001b[1;31mValueError\u001b[0m: Length of values does not match length of index"
     ]
    }
   ],
   "source": [
    "summary = Model.summary\n",
    "summary = summary.drop('t-stat', axis=1)\n",
    "\n",
    "eviews_output = pd.read_csv('./eviews_output_final_model.csv')\n",
    "summary['p-value'] = list(eviews_output['Prob\\xa0\\xa0']) # weird encoding issue\n",
    "\n",
    "summary"
   ]
  },
  {
   "cell_type": "markdown",
   "metadata": {},
   "source": [
    "# Final Model Evaluation & Comments:"
   ]
  },
  {
   "cell_type": "code",
   "execution_count": 21,
   "metadata": {
    "collapsed": true
   },
   "outputs": [],
   "source": [
    "# Our only remaining prior violation was somewhat weak (we don't have strong beliefs about previous television consumption)\n",
    "# Our only remaining statistical insignificance gripes are with an age dummy; we should test their joint significance, \n",
    "# but programming a Wald-test from scratch seems excessive; we just leave them in for simplicities sake.\n",
    "\n",
    "FinalModel = Model\n",
    "\n",
    "# Lets see how the model predicts w.r.t. the training data and hold out:"
   ]
  },
  {
   "cell_type": "code",
   "execution_count": 22,
   "metadata": {
    "collapsed": true
   },
   "outputs": [],
   "source": [
    "def getPhat(model, X):\n",
    "    \n",
    "    predictions = Model.predict_proba(X)\n",
    "    predictions = [p[1] for p in predictions]\n",
    "    \n",
    "    return sum(predictions) / len(predictions)"
   ]
  },
  {
   "cell_type": "code",
   "execution_count": 23,
   "metadata": {
    "collapsed": false
   },
   "outputs": [
    {
     "data": {
      "text/plain": [
       "(0.2983591190727778, 0.29842342342342343)"
      ]
     },
     "execution_count": 23,
     "metadata": {},
     "output_type": "execute_result"
    }
   ],
   "source": [
    "# Report the average predict p(buy) and actual p(buy) across the training set\n",
    "\n",
    "getPhat(FinalModel, X), y.mean()[0] # Looks good"
   ]
  },
  {
   "cell_type": "code",
   "execution_count": 24,
   "metadata": {
    "collapsed": false
   },
   "outputs": [],
   "source": [
    "cable_holdout = CleanCableData(cable_holdout)"
   ]
  },
  {
   "cell_type": "code",
   "execution_count": 25,
   "metadata": {
    "collapsed": false
   },
   "outputs": [],
   "source": [
    "cable_holdout.insert(0, column='constant', value=1) # add a constant column\n",
    "\n",
    "y_2 = pd.DataFrame(cable_holdout['buy'])\n",
    "X_2 = cable_holdout[[col for col in cable_holdout.columns if col != 'buy']]\n",
    "\n",
    "X_2 = X_2[[col for col in X_2.columns if col not in applied_drop]]\n",
    "\n",
    "feature_names = X_2.columns\n",
    "\n",
    "X_2 = np.array(X_2)\n",
    "\n",
    "# add a constant column\n",
    "\n",
    "\n",
    "#X_2c = np.c_[np.ones(X_2.shape[0]), X_2]\n",
    "#feature_names = feature_names.insert(0, 'constant')"
   ]
  },
  {
   "cell_type": "code",
   "execution_count": 26,
   "metadata": {
    "collapsed": false
   },
   "outputs": [
    {
     "data": {
      "text/plain": [
       "(0.3071644327303411, 0.30978260869565216)"
      ]
     },
     "execution_count": 26,
     "metadata": {},
     "output_type": "execute_result"
    }
   ],
   "source": [
    "# Report the average predict p(buy) and actual p(buy) across the holdout\n",
    "\n",
    "getPhat(FinalModel, X_2), y_2.mean()[0] # looks good"
   ]
  },
  {
   "cell_type": "code",
   "execution_count": 27,
   "metadata": {
    "collapsed": true
   },
   "outputs": [],
   "source": [
    "# Our final model looks like it predicts well across our hold-out\n",
    "# All in all, we think that the Applied-like logisticRegression model is, at least somewhat, believable\n",
    "# Moving on to what-if questions..."
   ]
  },
  {
   "cell_type": "markdown",
   "metadata": {},
   "source": [
    "# KFold Cross Validation of a Logistic Regression"
   ]
  },
  {
   "cell_type": "code",
   "execution_count": 28,
   "metadata": {
    "collapsed": true
   },
   "outputs": [],
   "source": [
    "from sklearn import model_selection\n",
    "import random"
   ]
  },
  {
   "cell_type": "code",
   "execution_count": 29,
   "metadata": {
    "collapsed": false
   },
   "outputs": [],
   "source": [
    "cable_all = CleanCableData(cable_all)\n",
    "\n",
    "y_3 = pd.DataFrame(cable_all['buy'])\n",
    "y_3 = np.array(y_3).ravel()\n",
    "\n",
    "X_3 = cable_all[[col for col in cable_all.columns if col != 'buy']]\n",
    "\n",
    "X_3 = X_3[[col for col in X_3.columns if col not in applied_drop]]\n",
    "feature_names = X_3.columns\n",
    "\n",
    "X_3 = np.array(X_3)\n",
    "\n",
    "# add a constant column\n",
    "\n",
    "X_3c = np.c_[np.ones(X_3.shape[0]), X_3]\n",
    "feature_names = feature_names.insert(0, 'constant')"
   ]
  },
  {
   "cell_type": "code",
   "execution_count": 30,
   "metadata": {
    "collapsed": false
   },
   "outputs": [
    {
     "data": {
      "text/plain": [
       "array([0.74020522, 0.74393657, 0.74113806, 0.74533582, 0.76539179])"
      ]
     },
     "execution_count": 30,
     "metadata": {},
     "output_type": "execute_result"
    }
   ],
   "source": [
    "folds = 5\n",
    "rstate = 420\n",
    "\n",
    "kfold = model_selection.KFold(n_splits=folds, random_state=rstate) \n",
    "cv_result = model_selection.cross_val_score(LogisticRegression(), X_3c, y_3, cv=kfold, scoring='accuracy')\n",
    "\n",
    "cv_result"
   ]
  },
  {
   "cell_type": "code",
   "execution_count": 34,
   "metadata": {
    "collapsed": true
   },
   "outputs": [],
   "source": [
    "# http://t-redactyl.io/blog/2015/10/using-k-fold-cross-validation-to-estimate-out-of-sample-accuracy.html"
   ]
  },
  {
   "cell_type": "code",
   "execution_count": 31,
   "metadata": {
    "collapsed": false
   },
   "outputs": [],
   "source": [
    "# What does this result tell us?  Not much in and of itself; \n",
    "\n",
    "\n",
    "# ~ 95% CI interval\n",
    "# Is this normally distributed?\n",
    "\n",
    "# Central Limit Theorem:\n",
    "\n",
    "# is n large enough ?\n",
    "# Since each round of cross validationRegardless, I can be sure that the sample means will be \n",
    "\n",
    "cv_means = np.array([])\n",
    "for i in range(0, 51):\n",
    "    \n",
    "    kfold = model_selection.KFold(n_splits=folds,shuffle=True) # Don't supply a seeded randomn state\n",
    "    cv_result = model_selection.cross_val_score(LogisticRegression(), X_3c, y_3, cv=kfold, scoring='accuracy')\n",
    "    \n",
    "    cv_means = np.append(cv_means, cv_result.mean())"
   ]
  },
  {
   "cell_type": "code",
   "execution_count": 32,
   "metadata": {
    "collapsed": false
   },
   "outputs": [
    {
     "data": {
      "image/png": "[encoded data removed]",
      "text/plain": [
       "<matplotlib.figure.Figure at 0x1e5b67dcf60>"
      ]
     },
     "metadata": {},
     "output_type": "display_data"
    }
   ],
   "source": [
    "plt.hist(cv_means, bins=15)\n",
    "plt.show()"
   ]
  },
  {
   "cell_type": "code",
   "execution_count": 33,
   "metadata": {
    "collapsed": false
   },
   "outputs": [
    {
     "name": "stdout",
     "output_type": "stream",
     "text": [
      "95% CI:  0.7462038713368017 - 0.7516524353649835\n"
     ]
    }
   ],
   "source": [
    "std = cv_means.std()\n",
    "mean = cv_means.mean()\n",
    "\n",
    "print('95% CI: ', mean - (1.96 * std), '-', mean + (1.96 * std))\n",
    "\n",
    "# Is this result decieving me?  Am I actually all that concerned with how well behaved the means of cv tests\n",
    "# are, or am I singularly concerned with variance around individual estimates"
   ]
  },
  {
   "cell_type": "code",
   "execution_count": 35,
   "metadata": {
    "collapsed": true
   },
   "outputs": [],
   "source": [
    "# We're a little confused as to what the result of a  KFold cross validation means in the context of a structural model:\n",
    "\n",
    "# In Applied, we reserved a holdout over a date range, presumably, on purpose; we were interested in testing wether or not\n",
    "# we had identified the causal relationships between y and X (the truth).  In a way, we were hoping that modest structural\n",
    "# change and/or input vector changes *had* taken place between the sample and holdout period, becuase if our model could\n",
    "# predict well under such circumstances, we could be reasonably confident in the robustness of our model in novel situations.\n",
    "\n",
    "# A Cross Validation test on a purely inferential model, however, can't give us an indication of how well the model is likely to\n",
    "# perform an unknown prediction set; it can only tell us wether structural change or input vectors was present between the K and\n",
    "# K-1 Folds.  \n",
    "\n",
    "# Sensitivity to sampling in a structural model (a failure to generalize) means that you have not identifed a general truth.\n",
    "\n",
    "# Sensitivity to sampling in an inferential framework (a failure to predict Y | X') means only that either \n",
    "# f(X) =/= f'(X') or X =/= X' (same issue?)"
   ]
  },
  {
   "cell_type": "markdown",
   "metadata": {},
   "source": [
    "# Elasticity Simulation"
   ]
  },
  {
   "cell_type": "code",
   "execution_count": 36,
   "metadata": {
    "collapsed": true
   },
   "outputs": [],
   "source": [
    "def getSimulationRange(x, dx):\n",
    "    \n",
    "    # Accepts a series and a step: returns an ordered list ranging from the minimum to the maximum of the list\n",
    "    # in the series, seperated by steps\n",
    "    \n",
    "    min_x = min(x)\n",
    "    max_x = max(x)\n",
    "    \n",
    "    r = np.arange(min_x, max_x + dx, dx)\n",
    "    \n",
    "    return r"
   ]
  },
  {
   "cell_type": "code",
   "execution_count": 37,
   "metadata": {
    "collapsed": false
   },
   "outputs": [],
   "source": [
    "def replaceCol(arr, index, val):\n",
    "    \n",
    "    arr[:, index] = val\n",
    "    return arr"
   ]
  },
  {
   "cell_type": "code",
   "execution_count": 47,
   "metadata": {
    "collapsed": false
   },
   "outputs": [],
   "source": [
    "def getElasticity(demand_model, X_arr, price_index, min_price, max_price, dx=1):\n",
    "    \n",
    "    p1 = getSimulationRange([min_price, max_price], dx)\n",
    "    p2 = np.multiply(p1, 1.01)\n",
    "    delta = []\n",
    "    \n",
    "    for price1, price2 in zip(p1, p2):\n",
    "    \n",
    "        x = replaceCol(X_arr, price_index, price1)\n",
    "        y1 = getPhat(demand_model, x)\n",
    "    \n",
    "        x2 = replaceCol(X_arr, price_index, price2)\n",
    "        y2 = getPhat(demand_model, x2)\n",
    "        \n",
    "        delta.append(y2 - y1)\n",
    "        \n",
    "    return p1, p2, delta "
   ]
  },
  {
   "cell_type": "code",
   "execution_count": 48,
   "metadata": {
    "collapsed": false
   },
   "outputs": [],
   "source": [
    "price_index = cable_training.columns.get_loc('price') - 1"
   ]
  },
  {
   "cell_type": "code",
   "execution_count": 49,
   "metadata": {
    "collapsed": false
   },
   "outputs": [],
   "source": [
    "# Note that these are still differences in probabilities, so to obtain demand figures we must assume a market size\n",
    "\n",
    "p1, p2, delta = getElasticity(FinalModel, X, price_index, 8, 15)"
   ]
  },
  {
   "cell_type": "code",
   "execution_count": 50,
   "metadata": {
    "collapsed": false
   },
   "outputs": [
    {
     "data": {
      "text/plain": [
       "array([ 8.08,  9.09, 10.1 , 11.11, 12.12, 13.13, 14.14, 15.15])"
      ]
     },
     "execution_count": 50,
     "metadata": {},
     "output_type": "execute_result"
    }
   ],
   "source": [
    "p2"
   ]
  },
  {
   "cell_type": "code",
   "execution_count": 51,
   "metadata": {
    "collapsed": false
   },
   "outputs": [
    {
     "data": {
      "text/plain": [
       "[-0.0011820353693103303,\n",
       " -0.0013089795352474454,\n",
       " -0.0014291403043327766,\n",
       " -0.0015419827188100643,\n",
       " -0.0016470291938749937,\n",
       " -0.0017438653435307705,\n",
       " -0.001832144952090664,\n",
       " -0.0019115939326293518]"
      ]
     },
     "execution_count": 51,
     "metadata": {},
     "output_type": "execute_result"
    }
   ],
   "source": [
    "delta"
   ]
  },
  {
   "cell_type": "code",
   "execution_count": 46,
   "metadata": {
    "collapsed": false
   },
   "outputs": [
    {
     "data": {
      "text/plain": [
       "0.25327950526744236"
      ]
     },
     "execution_count": 46,
     "metadata": {},
     "output_type": "execute_result"
    }
   ],
   "source": []
  },
  {
   "cell_type": "code",
   "execution_count": null,
   "metadata": {
    "collapsed": true
   },
   "outputs": [],
   "source": []
  }
 ],
 "metadata": {
  "kernelspec": {
   "display_name": "Python 3",
   "language": "python",
   "name": "python3"
  },
  "language_info": {
   "codemirror_mode": {
    "name": "ipython",
    "version": 3
   },
   "file_extension": ".py",
   "mimetype": "text/x-python",
   "name": "python",
   "nbconvert_exporter": "python",
   "pygments_lexer": "ipython3",
   "version": "3.5.4"
  }
 },
 "nbformat": 4,
 "nbformat_minor": 0
}
