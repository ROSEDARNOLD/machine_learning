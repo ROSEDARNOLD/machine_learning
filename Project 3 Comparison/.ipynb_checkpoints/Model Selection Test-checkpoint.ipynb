{
 "cells": [
  {
   "cell_type": "markdown",
   "metadata": {},
   "source": [
    "### We'll compare the results of the Iris Model Selection Notebook with our Custom Class as a proof of concept;\n",
    "### if this level of abstraction is useful, this can seed a __unittest__.py file"
   ]
  },
  {
   "cell_type": "markdown",
   "metadata": {},
   "source": [
    "# Iris Manual Model Selection - From Code Sample"
   ]
  },
  {
   "cell_type": "code",
   "execution_count": 38,
   "metadata": {
    "collapsed": true
   },
   "outputs": [],
   "source": [
    "from sklearn.linear_model import LogisticRegression\n",
    "from sklearn.tree import DecisionTreeClassifier\n",
    "from sklearn.ensemble import GradientBoostingClassifier\n",
    "#from sklearn.neighbors import KNeighborsClassifier\n",
    "#from sklearn.discriminant_analysis import LinearDiscriminantAnalysis\n",
    "from sklearn.naive_bayes import GaussianNB\n",
    "from sklearn.svm import SVC\n",
    "from sklearn.linear_model import LinearRegression"
   ]
  },
  {
   "cell_type": "code",
   "execution_count": 25,
   "metadata": {
    "collapsed": false
   },
   "outputs": [
    {
     "name": "stdout",
     "output_type": "stream",
     "text": [
      "\n",
      "Crossfold Validation using Train/Test/Split:\n",
      "\n",
      "LR: 0.880000 (0.148474)\n",
      "KNN: 0.933333 (0.084327)\n",
      "GBT: 0.926667 (0.096379)\n",
      "NB: 0.946667 (0.058119)\n",
      "SVM: 0.953333 (0.052068)\n",
      "DT: 0.933333 (0.084327)\n"
     ]
    }
   ],
   "source": [
    "from sklearn.datasets import load_iris\n",
    "from sklearn import model_selection\n",
    "from sklearn.neighbors import KNeighborsClassifier\n",
    "from sklearn import metrics\n",
    "\n",
    "# read in the iris data\n",
    "iris = load_iris()\n",
    "\n",
    "# create X (features) and Y (responses)\n",
    "X = iris.data\n",
    "Y, y = iris.target, iris.target\n",
    "\n",
    "folds = 10\n",
    "rstate = 4\n",
    "#use train/test split with different random_state values\n",
    "print()\n",
    "\n",
    "print(\"Crossfold Validation using Train/Test/Split:\")\n",
    "print()\n",
    "X_train, X_test, Y_train, Y_test = model_selection.train_test_split(X, Y, random_state = rstate)\n",
    "\n",
    "models = []\n",
    "models.append(('LR', LogisticRegression()))\n",
    "#models.append(('LDA', LinearDiscriminantAnalysis()))\n",
    "models.append(('KNN', KNeighborsClassifier()))\n",
    "models.append(('GBT', GradientBoostingClassifier()))\n",
    "models.append(('NB', GaussianNB()))\n",
    "models.append(('SVM', SVC()))\n",
    "models.append(('DT', DecisionTreeClassifier()))\n",
    "\n",
    "for name, model in models:\n",
    "    kfold = model_selection.KFold(n_splits=folds, random_state=rstate)\n",
    "    cv_results = model_selection.cross_val_score(model, X, y, cv=kfold, scoring='accuracy')\n",
    "    #print(cv_results)\n",
    "    msg = \"%s: %f (%f)\" % (name, cv_results.mean(), cv_results.std())\n",
    "    print(msg)"
   ]
  },
  {
   "cell_type": "markdown",
   "metadata": {},
   "source": [
    "# Class Based Selection"
   ]
  },
  {
   "cell_type": "code",
   "execution_count": 47,
   "metadata": {
    "collapsed": false
   },
   "outputs": [],
   "source": [
    "class Selector():\n",
    "        \n",
    "    '''Non-operational bag of Methods for selecting between model types and feature inputs given a model.  Parent of the\n",
    "    operant classes GenericClassifier and GenericRegressor'''    \n",
    "    \n",
    "    def ModelSelection(self, folds=10, rstate=420):\n",
    "        \n",
    "        cv_scores, cv_summary = {}, {}\n",
    "        \n",
    "        \n",
    "        for name, model in self.Models.items():\n",
    "            \n",
    "            try:\n",
    "            \n",
    "                kfold = model_selection.KFold(n_splits=folds, random_state=rstate) \n",
    "                cv_result = model_selection.cross_val_score(model, self.X, self.y, cv=kfold, scoring='accuracy')\n",
    "                cv_summary = \"%s: %f (%f)\" % (name, cv_result.mean(), cv_result.std())\n",
    "                cv_scores[name] = cv_result       \n",
    "                \n",
    "            \n",
    "            except Exception as e:\n",
    "                \n",
    "                cv_scores[name] = e\n",
    "                cv_summary[name] = e\n",
    "        \n",
    "        self.cv_scores = cv_scores\n",
    "        \n",
    "        # Print Summary\n",
    "        for k, v in Model.cv_scores.items():\n",
    "    \n",
    "            msg = \"%s: %f (%f)\" % (k, v.mean(), v.std())\n",
    "            print(msg)\n",
    "            \n",
    "        # We could return a 'best model' for ease of use, but it will require us to be explicit about our selection criteria\n",
    "        # (MSE, std errors, priors) up front -> seems exceptionally black boxy; we should probably just look at the results\n",
    "        # and decide manually (What else would anyone pay us for?).\n",
    "\n",
    "        \n",
    "    def FeatureSelection(self, folds=10, rstate=420):\n",
    "        \n",
    "        '''This section is considerably more sketchy than the model selection component; needs work\n",
    "        before results are to be trusted'''\n",
    "        \n",
    "        feature_cols = self.X.columns\n",
    "        scores = {}\n",
    "        kfold = model_selection.KFold(n_splits=folds, random_state=rstate)\n",
    "        model = self.best_model\n",
    "        model.fit(self.X, self.y)\n",
    "        mse_scores = -model_selection.cross_val_score(model, X, y, cv=kfold, scoring='neg_mean_squared_error')\n",
    "        scores[None] = mse_scores\n",
    "        \n",
    "        for dropped_x in feature_cols:\n",
    "    \n",
    "            feature_subset = [item for item in feature_cols if item != dropped_x]\n",
    "            X2 = self.X[feature_subset]\n",
    "            model = self.best_model\n",
    "            model.fit(X2, y)\n",
    "            mse_scores = -model_selection.cross_val_score(model, X2, y, cv=kfold, scoring='neg_mean_squared_error')\n",
    "            scores[dropped_x] = mse_scores\n",
    "        \n",
    "        self.feature_scores = scores\n",
    "        \n",
    "        summary = {key: {'MEAN MSE': value.mean(), 'MEAN RMSE': np.sqrt(value).mean()} for key, value in scores.items()}\n",
    "        self.feature_summary = summary \n",
    "        "
   ]
  },
  {
   "cell_type": "code",
   "execution_count": 37,
   "metadata": {
    "collapsed": true
   },
   "outputs": [],
   "source": [
    "class GenericClassifier(Selector):\n",
    "    \n",
    "    def __init__(self, X, y):\n",
    "        \n",
    "        self.X = X\n",
    "        self.y = y\n",
    "        \n",
    "        self.Models = {\n",
    "                       \n",
    "            'LR': LogisticRegression(),\n",
    "            'KNN': KNeighborsClassifier(),\n",
    "            'GBT': GradientBoostingClassifier(),\n",
    "            'NB': GaussianNB(),\n",
    "            'SVM': SVC(),\n",
    "            'DT': DecisionTreeClassifier()\n",
    "        \n",
    "        }\n",
    "        \n",
    "class GenericRegressor(Selector):\n",
    "    \n",
    "    def __init__(self, X, y):\n",
    "        \n",
    "        self.X = X\n",
    "        self.y = y\n",
    "        \n",
    "        self.Models = {\n",
    "                       \n",
    "            # 'OLS': LinearRegression(),\n",
    "            # etc..\n",
    "        \n",
    "        }"
   ]
  },
  {
   "cell_type": "code",
   "execution_count": 39,
   "metadata": {
    "collapsed": true
   },
   "outputs": [],
   "source": [
    "# from ProfK import GenericClassifier"
   ]
  },
  {
   "cell_type": "code",
   "execution_count": 40,
   "metadata": {
    "collapsed": false
   },
   "outputs": [],
   "source": [
    "Model = GenericClassifier(X, y)"
   ]
  },
  {
   "cell_type": "code",
   "execution_count": 41,
   "metadata": {
    "collapsed": false
   },
   "outputs": [
    {
     "name": "stdout",
     "output_type": "stream",
     "text": [
      "DT: 0.933333 (0.094281)\n",
      "KNN: 0.933333 (0.084327)\n",
      "SVM: 0.953333 (0.052068)\n",
      "LR: 0.880000 (0.148474)\n",
      "NB: 0.946667 (0.058119)\n",
      "GBT: 0.940000 (0.075719)\n"
     ]
    }
   ],
   "source": [
    "Model.ModelSelection(folds=10, rstate=4)"
   ]
  },
  {
   "cell_type": "code",
   "execution_count": 36,
   "metadata": {
    "collapsed": false
   },
   "outputs": [],
   "source": [
    "# Identical result for deterministic models (I think DT and GBT are using some random search we aren't initializing\n",
    "# a random_state for (this would be a pain to code elegantly - Exception management nightmare))"
   ]
  },
  {
   "cell_type": "code",
   "execution_count": 44,
   "metadata": {
    "collapsed": true
   },
   "outputs": [],
   "source": [
    "# What are these cv_scores telling me?\n",
    "\n",
    "# Per documentation: http://scikit-learn.org/stable/modules/generated/sklearn.model_selection.cross_val_score.html\n",
    "# Returns: Array of scores of the estimators prediction for each run of the cross validation.\n",
    "# So a cv score of '1' in a classification problem means perfect prediction over the holdout? -> ok, seems fine\n",
    "\n",
    "# STD of cv scores gives an indication of how sensitive my MSE (generalization error) is w.r.t. my sampling procedure.\n",
    "# Do I pick a classifier based on lowest mean error (holdout accuracy) or lowest variance of that error?\n",
    "\n",
    "# Highest Reported Accuracy -> SVM\n",
    "# Lowest Variance -> Also SVM in this case.\n",
    "\n",
    "# Retrain 'Best Model' on the whole sample to not waste information -> if the std of CV scores across a KFold validation\n",
    "# is low, we conclude that the models estimates are not sensitive to individual samples and infer its' usefulness generally\n",
    "# (Don't know if I agree on this one).\n",
    "\n",
    "BestModel = SVC().fit(X, y)\n",
    "\n",
    "# Since both metrics push me to the same model, can we conclude the SVM is an appropriate model?\n",
    "# Not so fast...\n",
    "\n",
    "# Prioir Violations via LIME or equivalent (None in this case - we aren't biologists)\n",
    "# How sensitive is my estimate of the mean and std to my choice in K (number of folds)?\n",
    "    \n",
    "    # -> I certainly wouldn't make a judgement based on 2 folds; why is 10 appropriate here?  Why not 9 or 11?\n",
    "    # -> Is there a Confidence procedure I can use?\n",
    "    \n",
    "# Moreover, why should I beilieve that this flavor of SVM is the best amongst all SVMs?  The set of parameter options for\n",
    "# an sklearn SVM-Classifier (SVC) are as follows:\n",
    "\n",
    "    # SVC(C=1.0, kernel=’rbf’, degree=3, gamma=’auto’, coef0=0.0,\n",
    "    # shrinking=True, probability=False, tol=0.001, cache_size=200,\n",
    "    # class_weight=None, verbose=False, max_iter=-1,\n",
    "    # decision_function_shape=’ovr’, random_state=None)\n",
    "    \n",
    "# It's not at all clear to us why we should beleieve that the params on the SVM suggested (default params) are optimal.\n",
    "# sklearn has a method available to estimate how sensitive the generalization error is with resepct to paramter selection:\n",
    "\n",
    "# For a model:  why should I trust the param(alpha?) on a model?\n",
    "# Source: http://scikit-learn.org/stable/auto_examples/exercises/plot_cv_diabetes.html\n",
    "\n",
    "# I tell you \"alphas\" (model hyper-parameters) via: GridSearchCV(param_grid)\n",
    "# Show me CV +/- std error by \"alphas\"\n",
    "\n",
    "# Since the results are cross validated again (I think?), we can tell when the generalization error by param selection \n",
    "# is especially sensitive to sampling procedures (we want a parameter value that minimizes generalization error,\n",
    "# without varying drastically by Kfold).  It seems generally difficult to have any priors about how hyperparam selection\n",
    "# will affect the modeling excersize; while this may tell us that a group of params generalizes well within the \n",
    "# sample as a whole, we are still overconfident the second we are interested in predicted over novel inputs or\n",
    "# after a structural change."
   ]
  },
  {
   "cell_type": "code",
   "execution_count": 55,
   "metadata": {
    "collapsed": true
   },
   "outputs": [],
   "source": [
    "import numpy as np\n",
    "from sklearn.model_selection import GridSearchCV\n",
    "\n",
    "%matplotlib inline\n",
    "import matplotlib.pyplot as plt"
   ]
  },
  {
   "cell_type": "code",
   "execution_count": 60,
   "metadata": {
    "collapsed": false
   },
   "outputs": [
    {
     "name": "stdout",
     "output_type": "stream",
     "text": [
      "SVC(C=1.0, cache_size=200, class_weight=None, coef0=0.0,\n",
      "  decision_function_shape=None, degree=3, gamma='auto', kernel='rbf',\n",
      "  max_iter=-1, probability=False, random_state=None, shrinking=True,\n",
      "  tol=0.001, verbose=False)\n"
     ]
    }
   ],
   "source": [
    "print(BestModel)"
   ]
  },
  {
   "cell_type": "code",
   "execution_count": 91,
   "metadata": {
    "collapsed": false
   },
   "outputs": [
    {
     "name": "stderr",
     "output_type": "stream",
     "text": [
      "C:\\Users\\cjrdn_000\\Anaconda3\\lib\\site-packages\\matplotlib\\collections.py:590: FutureWarning: elementwise comparison failed; returning scalar instead, but in the future will perform elementwise comparison\n",
      "  if self._edgecolors == str('face'):\n"
     ]
    },
    {
     "data": {
      "image/png": "[encoded data removed]",
      "text/plain": [
       "<matplotlib.figure.Figure at 0x27d8d766e48>"
      ]
     },
     "metadata": {},
     "output_type": "display_data"
    }
   ],
   "source": [
    "# The use of this model implicity asserts that a 'C' of 1 is desirable; lets informally test that hypothesis\n",
    "\n",
    "# What is C?  Per documentation, C is the: \"Penalty parameter C of the error term.\"  Not especially descriptive, nor easy\n",
    "# to derive a prior for.  Still, failure to converge to a sigular value across a Kfold cross validation will be taken\n",
    "# as a sufficient condition for dismissal (Too sensitive to sampling process to be generally 'right').\n",
    "\n",
    "cs = np.logspace(-2, 4, 300)\n",
    "tuned_parameters = [{'C': cs}]\n",
    "\n",
    "clf = GridSearchCV(BestModel, tuned_parameters, cv=10, refit=False)\n",
    "clf.fit(X, y)\n",
    "\n",
    "# Plotting\n",
    "\n",
    "scores = clf.cv_results_['mean_test_score']\n",
    "scores_std = clf.cv_results_['std_test_score']\n",
    "\n",
    "plt.semilogx(cs, scores)\n",
    "\n",
    "# plot error lines showing +/- std. errors of the scores\n",
    "std_error = scores_std / np.sqrt(folds)\n",
    "\n",
    "plt.semilogx(cs, scores + std_error, 'b--')\n",
    "plt.semilogx(cs, scores - std_error, 'b--')\n",
    "\n",
    "# alpha=0.2 controls the translucency of the fill color\n",
    "plt.fill_between(cs, scores + std_error, scores - std_error, alpha=0.2)\n",
    "\n",
    "plt.ylabel('CV score +/- std error')\n",
    "plt.xlabel('C')\n",
    "plt.axhline(np.max(scores), linestyle='--', color='.5')\n",
    "plt.xlim([cs[0], cs[-1]])\n",
    "plt.show()"
   ]
  },
  {
   "cell_type": "code",
   "execution_count": 53,
   "metadata": {
    "collapsed": true
   },
   "outputs": [],
   "source": [
    "# What is this telling us?  Honestly, we're a little confused - the source material:\n",
    "    # http://scikit-learn.org/stable/auto_examples/exercises/plot_cv_diabetes.html\n",
    "    \n",
    "# The researchers entertain the question: should we believe the model's selection of alpha? and return the following:\n",
    "\n",
    "    # Answer: Not very much since we obtained different alphas for different\n",
    "    # subsets of the data and moreover, the scores for these alphas differ\n",
    "    # quite substantially.\n",
    "    \n",
    "# Yet we ourselves supply \"alpha\" (C) values when producing the logspace; are these simply initialization values that are later\n",
    "# searched down using  gradients?  Additionally, what does 'substantially' mean in this context?  Moreover, if a necessary\n",
    "# condition of a 'trustable' hyper-parameter value is that it converges to the same value regardless of sample, why am\n",
    "# I allowed to supply them exogenously?\n",
    "\n",
    "# Finally, what do I do if I discover that a hyperparameter is 'untrustworthy'?  I don't have a framework for model selection\n",
    "# outside of MSE and STD minimization, simply noting that my param selection is sensitive to my sampling process does not\n",
    "# tell me how to fix the problem; I need *a* parameter to supply predictions. \n",
    "\n",
    "# I think this issue is true in our Iris case; our reported CV scores +/- one STD range from ~.90 to ~.99 over the set of our\n",
    "# logspace passed to GridSearchCV.  Is this substantial?  I don't know.  If it is a 'substantial' difference, what do I do about\n",
    "# it?"
   ]
  },
  {
   "cell_type": "code",
   "execution_count": null,
   "metadata": {
    "collapsed": true
   },
   "outputs": [],
   "source": []
  }
 ],
 "metadata": {
  "kernelspec": {
   "display_name": "Python 3",
   "language": "python",
   "name": "python3"
  },
  "language_info": {
   "codemirror_mode": {
    "name": "ipython",
    "version": 3
   },
   "file_extension": ".py",
   "mimetype": "text/x-python",
   "name": "python",
   "nbconvert_exporter": "python",
   "pygments_lexer": "ipython3",
   "version": "3.5.4"
  }
 },
 "nbformat": 4,
 "nbformat_minor": 0
}
