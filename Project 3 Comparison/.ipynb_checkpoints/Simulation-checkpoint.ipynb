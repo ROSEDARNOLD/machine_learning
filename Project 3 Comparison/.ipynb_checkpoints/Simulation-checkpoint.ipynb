{
 "cells": [
  {
   "cell_type": "code",
   "execution_count": 1,
   "metadata": {
    "collapsed": false
   },
   "outputs": [],
   "source": [
    "from profk import Dataset\n",
    "\n",
    "import numpy as np\n",
    "import pandas as pd\n",
    "from sklearn.linear_model import LogisticRegression\n",
    "from sklearn.model_selection import KFold\n",
    "from sklearn.metrics import log_loss\n",
    "import itertools"
   ]
  },
  {
   "cell_type": "code",
   "execution_count": 2,
   "metadata": {
    "collapsed": true
   },
   "outputs": [],
   "source": [
    "%matplotlib inline\n",
    "import matplotlib.pyplot as plt"
   ]
  },
  {
   "cell_type": "code",
   "execution_count": 3,
   "metadata": {
    "collapsed": true
   },
   "outputs": [],
   "source": [
    "normal = {'value': lambda i: int(i) -3}"
   ]
  },
  {
   "cell_type": "code",
   "execution_count": 4,
   "metadata": {
    "collapsed": true
   },
   "outputs": [],
   "source": [
    "cable = pd.read_csv('./Data/training.csv', na_values=(-999, 6), converters=normal)"
   ]
  },
  {
   "cell_type": "code",
   "execution_count": 5,
   "metadata": {
    "collapsed": true
   },
   "outputs": [],
   "source": [
    "Cable = Dataset(cable)"
   ]
  },
  {
   "cell_type": "code",
   "execution_count": 6,
   "metadata": {
    "collapsed": true
   },
   "outputs": [],
   "source": [
    "features_2 = ['c', 'age2', 'age3', 'age4', 'age5', 'age6', 'ab', 'c1', 'c2', 'children', 'council', 'no_dish',\n",
    "       'n_videos', 'price', 'price_mc', 'rent', 'sat_have', 'tv-satis', 'value', 'vcr_have', 'bbc1', 'bbc2', 'itv', 'ch4']\n",
    "\n",
    "target_name = ['buy']"
   ]
  },
  {
   "cell_type": "code",
   "execution_count": 7,
   "metadata": {
    "collapsed": false
   },
   "outputs": [
    {
     "data": {
      "text/plain": [
       "LogisticRegression(C=1.0, class_weight=None, dual=False, fit_intercept=True,\n",
       "          intercept_scaling=1, max_iter=100, multi_class='ovr', n_jobs=1,\n",
       "          penalty='l2', random_state=None, solver='liblinear', tol=0.0001,\n",
       "          verbose=0, warm_start=False)"
      ]
     },
     "execution_count": 7,
     "metadata": {},
     "output_type": "execute_result"
    }
   ],
   "source": [
    "Model = LogisticRegression()\n",
    "X, y = Cable.getXy(features_2, target_name)\n",
    "Model.fit(X, y)"
   ]
  },
  {
   "cell_type": "code",
   "execution_count": 8,
   "metadata": {
    "collapsed": true
   },
   "outputs": [],
   "source": [
    "def getSimulationRange(x, dx):\n",
    "    \n",
    "    # Accepts a series and a step: returns an ordered list ranging from the minimum to the maximum of the list\n",
    "    # in the series, seperated by steps\n",
    "    \n",
    "    min_x = min(x)\n",
    "    max_x = max(x)\n",
    "    \n",
    "    r = np.arange(min_x, max_x + dx, dx)\n",
    "    \n",
    "    return r"
   ]
  },
  {
   "cell_type": "code",
   "execution_count": 9,
   "metadata": {
    "collapsed": true
   },
   "outputs": [],
   "source": [
    "def GenerateInputs(row, simulations):\n",
    "\n",
    "    X = [np.insert(row, 16, i) for i in simulations]\n",
    "    \n",
    "    return X"
   ]
  },
  {
   "cell_type": "code",
   "execution_count": 10,
   "metadata": {
    "collapsed": true
   },
   "outputs": [],
   "source": [
    "X = Cable.data[features_2]"
   ]
  },
  {
   "cell_type": "markdown",
   "metadata": {},
   "source": [
    "# For a single prior:"
   ]
  },
  {
   "cell_type": "code",
   "execution_count": 11,
   "metadata": {
    "collapsed": true
   },
   "outputs": [],
   "source": [
    "# Get simulated dataset as a method of Dataset?\n",
    "\n",
    "prior = ['price'] # variable we have a strong prior about\n",
    "\n",
    "# prior = np.array([]) # k x r?  this times a gradient should return a vector of booleans (True=prior match, False=violation)\n",
    "\n",
    "simulation_space = X[prior] # extract features we wish to simulate\n",
    "\n",
    "problem_space = X[[col for col in X.columns if col not in prior]] # all input vectors in sample (we don't have priors about)\n",
    "problem_space = problem_space.dropna()\n",
    "problem_space = problem_space.drop_duplicates().reset_index(drop=True) # unique input vectors in sample"
   ]
  },
  {
   "cell_type": "code",
   "execution_count": 12,
   "metadata": {
    "collapsed": false
   },
   "outputs": [],
   "source": [
    "sim_price = getSimulationRange(cable['price'], .1)"
   ]
  },
  {
   "cell_type": "code",
   "execution_count": 13,
   "metadata": {
    "collapsed": true
   },
   "outputs": [],
   "source": [
    "import warnings\n",
    "warnings.filterwarnings('ignore')"
   ]
  },
  {
   "cell_type": "code",
   "execution_count": 14,
   "metadata": {
    "collapsed": false
   },
   "outputs": [],
   "source": [
    "# Allow simulated price to run over every input vector in our dataset\n",
    "\n",
    "price_df = pd.DataFrame({'price': sim_price})\n",
    "price_df['key'] = price_df.index\n",
    "partials = []\n",
    "\n",
    "for row in problem_space.iterrows():\n",
    "    \n",
    "    predictions = []\n",
    "    \n",
    "    for price in sim_price:\n",
    "        \n",
    "        x = np.array(row[1])\n",
    "        x = np.insert(x, 13, price)\n",
    "        predictions.append(Model.predict_proba(x)[0][1])\n",
    "        \n",
    "    dy_dx = [(y1-y0) for y1, y0 in zip(predictions[1:], predictions[:-1])]\n",
    "    partials.append(dy_dx)\n",
    "    \n",
    "# This is very ugly and inefficient; there must be a way to create the cartesian product of dataframes without crafting keys \n",
    "# each time; maybe do all this in numpy under the mask of the Dataset class.  Also, this should be handled by generators;\n",
    "# no need to hold everything in memory."
   ]
  },
  {
   "cell_type": "code",
   "execution_count": 15,
   "metadata": {
    "collapsed": false
   },
   "outputs": [],
   "source": [
    "violations = [any(n > 0 for n in partials[0]) for n in partials]"
   ]
  },
  {
   "cell_type": "code",
   "execution_count": 16,
   "metadata": {
    "collapsed": false
   },
   "outputs": [],
   "source": [
    "problem_space['violations'] = violations"
   ]
  },
  {
   "cell_type": "code",
   "execution_count": 17,
   "metadata": {
    "collapsed": false
   },
   "outputs": [
    {
     "data": {
      "text/html": [
       "<div>\n",
       "<style scoped>\n",
       "    .dataframe tbody tr th:only-of-type {\n",
       "        vertical-align: middle;\n",
       "    }\n",
       "\n",
       "    .dataframe tbody tr th {\n",
       "        vertical-align: top;\n",
       "    }\n",
       "\n",
       "    .dataframe thead th {\n",
       "        text-align: right;\n",
       "    }\n",
       "</style>\n",
       "<table border=\"1\" class=\"dataframe\">\n",
       "  <thead>\n",
       "    <tr style=\"text-align: right;\">\n",
       "      <th></th>\n",
       "      <th>c</th>\n",
       "      <th>age2</th>\n",
       "      <th>age3</th>\n",
       "      <th>age4</th>\n",
       "      <th>age5</th>\n",
       "      <th>age6</th>\n",
       "      <th>ab</th>\n",
       "      <th>c1</th>\n",
       "      <th>c2</th>\n",
       "      <th>children</th>\n",
       "      <th>...</th>\n",
       "      <th>rent</th>\n",
       "      <th>sat_have</th>\n",
       "      <th>tv-satis</th>\n",
       "      <th>value</th>\n",
       "      <th>vcr_have</th>\n",
       "      <th>bbc1</th>\n",
       "      <th>bbc2</th>\n",
       "      <th>itv</th>\n",
       "      <th>ch4</th>\n",
       "      <th>violations</th>\n",
       "    </tr>\n",
       "  </thead>\n",
       "  <tbody>\n",
       "  </tbody>\n",
       "</table>\n",
       "<p>0 rows × 24 columns</p>\n",
       "</div>"
      ],
      "text/plain": [
       "Empty DataFrame\n",
       "Columns: [c, age2, age3, age4, age5, age6, ab, c1, c2, children, council, no_dish, n_videos, price_mc, rent, sat_have, tv-satis, value, vcr_have, bbc1, bbc2, itv, ch4, violations]\n",
       "Index: []\n",
       "\n",
       "[0 rows x 24 columns]"
      ]
     },
     "execution_count": 17,
     "metadata": {},
     "output_type": "execute_result"
    }
   ],
   "source": [
    "problem_space[problem_space['violations'] == True] # Everywhere dp(buy)/d(price) was observed positive\n",
    "\n",
    "# -> nowhere"
   ]
  },
  {
   "cell_type": "code",
   "execution_count": 18,
   "metadata": {
    "collapsed": true
   },
   "outputs": [],
   "source": [
    "# To explain estimate (not necessarily wrong) instance, find the x vector in the problem space that matches value you wish \n",
    "# to predict over and see if you had a prior violation in the relevant domain"
   ]
  },
  {
   "cell_type": "markdown",
   "metadata": {},
   "source": [
    "# For multiple priors:"
   ]
  },
  {
   "cell_type": "code",
   "execution_count": 19,
   "metadata": {
    "collapsed": false
   },
   "outputs": [],
   "source": [
    "# Get simulated dataset as a method of dataset?\n",
    "\n",
    "prior_set = ['price', 'price_mc'] # variables we have strong priors about\n",
    "\n",
    "# priors = np.array([]) # k x r?  this times a gradient should return a vector of booleans (True=prior match, False=violation)\n",
    "\n",
    "simulation_space = X[prior_set] # extract features we wish to simulate\n",
    "\n",
    "problem_space = X[[col for col in X.columns if col not in prior_set]] # all input vectors in sample (we don't have priors about)\n",
    "problem_space = problem_space.drop_duplicates().reset_index(drop=True) # unique input vectors in sample\n",
    "\n",
    "# I think this simulation has factorial time level of complexity; this isn't a big deal I don't think.  If we have a large number\n",
    "# of critical priors, why don't we just make a structural model?"
   ]
  },
  {
   "cell_type": "code",
   "execution_count": 20,
   "metadata": {
    "collapsed": false
   },
   "outputs": [],
   "source": [
    "simulations = [getSimulationRange(simulation_space[p], .1) for p in prior_set]"
   ]
  },
  {
   "cell_type": "code",
   "execution_count": 21,
   "metadata": {
    "collapsed": false
   },
   "outputs": [],
   "source": [
    "sim_price = getSimulationRange(cable['price'], .1)\n",
    "sim_price_mc = getSimulationRange(cable['price_mc'], .1)\n",
    "sim_value = getSimulationRange(cable['value'], .25)"
   ]
  },
  {
   "cell_type": "code",
   "execution_count": 22,
   "metadata": {
    "collapsed": false
   },
   "outputs": [],
   "source": [
    "k = np.array([i for i in itertools.product(sim_price, sim_price_mc)]) # Adjust dx if this is taking too long\n",
    "k = pd.DataFrame({prior: k[:, p] for p, prior in enumerate(prior_set)})"
   ]
  },
  {
   "cell_type": "code",
   "execution_count": 23,
   "metadata": {
    "collapsed": false
   },
   "outputs": [
    {
     "data": {
      "text/plain": [
       "(2911, 2911)"
      ]
     },
     "execution_count": 23,
     "metadata": {},
     "output_type": "execute_result"
    }
   ],
   "source": [
    "len(sim_price) * len(sim_price_mc), len(k) # number of combinations is correct\n",
    "\n",
    "# so our final serachable space will be len(problem space) x len(k) rows long (this will be computationally implausible\n",
    "# for feature sets with continuous variables we don't have priors about)"
   ]
  },
  {
   "cell_type": "code",
   "execution_count": 24,
   "metadata": {
    "collapsed": true
   },
   "outputs": [],
   "source": [
    "# There are len(problem space) feature combinations  we need to run our combinations over.  The searchable space should be\n",
    "# len(k) X len(problem_space) long"
   ]
  },
  {
   "cell_type": "code",
   "execution_count": 25,
   "metadata": {
    "collapsed": false
   },
   "outputs": [],
   "source": [
    "search = [i for i in itertools.product(np.array(problem_space), np.array(k))]"
   ]
  },
  {
   "cell_type": "code",
   "execution_count": 26,
   "metadata": {
    "collapsed": false
   },
   "outputs": [
    {
     "data": {
      "text/plain": [
       "(2747984, 2747984)"
      ]
     },
     "execution_count": 26,
     "metadata": {},
     "output_type": "execute_result"
    }
   ],
   "source": [
    "len(problem_space) * len(k) ,len(search) # ok"
   ]
  },
  {
   "cell_type": "code",
   "execution_count": 27,
   "metadata": {
    "collapsed": false
   },
   "outputs": [
    {
     "data": {
      "text/plain": [
       "(array([ 1.,  0.,  0.,  1.,  0.,  0.,  1.,  0.,  0.,  0., nan,  2.,  1.,\n",
       "        nan,  0., -1., -2.,  0.,  1.,  0.,  0.,  0.]), array([8., 8.]))"
      ]
     },
     "execution_count": 27,
     "metadata": {},
     "output_type": "execute_result"
    }
   ],
   "source": [
    "search[0]"
   ]
  },
  {
   "cell_type": "code",
   "execution_count": 28,
   "metadata": {
    "collapsed": true
   },
   "outputs": [],
   "source": [
    "# we can only find d(prediction)/d(prior_feature) once we specify a *single* variable to check the space of."
   ]
  },
  {
   "cell_type": "code",
   "execution_count": 29,
   "metadata": {
    "collapsed": true
   },
   "outputs": [],
   "source": [
    "# Couldn't finish in time; some ugly combinatorial math to get through"
   ]
  },
  {
   "cell_type": "code",
   "execution_count": null,
   "metadata": {
    "collapsed": true
   },
   "outputs": [],
   "source": []
  }
 ],
 "metadata": {
  "kernelspec": {
   "display_name": "Python 3",
   "language": "python",
   "name": "python3"
  },
  "language_info": {
   "codemirror_mode": {
    "name": "ipython",
    "version": 3
   },
   "file_extension": ".py",
   "mimetype": "text/x-python",
   "name": "python",
   "nbconvert_exporter": "python",
   "pygments_lexer": "ipython3",
   "version": "3.5.4"
  }
 },
 "nbformat": 4,
 "nbformat_minor": 0
}
